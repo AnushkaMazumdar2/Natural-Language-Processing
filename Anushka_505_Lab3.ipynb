{
  "nbformat": 4,
  "nbformat_minor": 0,
  "metadata": {
    "colab": {
      "provenance": []
    },
    "kernelspec": {
      "name": "python3",
      "display_name": "Python 3"
    },
    "language_info": {
      "name": "python"
    }
  },
  "cells": [
    {
      "cell_type": "markdown",
      "source": [
        "**TOKENIZING AN INDIAN LANGUAGE(HINDI)**\n",
        "\n",
        "\n",
        "The goal of the Indic NLP Library is to build Python based libraries for common text processing and Natural Language Processing in Indian languages. Indian languages share a lot of similarity in terms of script, phonology, language syntax, etc. and this library is an attempt to provide a general solution to very commonly required toolsets for Indian language text.\n",
        "\n",
        "The library provides the following functionalities:\n",
        "\n",
        "*   Text Normalization\n",
        "*   Word Tokenization and Detokenization\n",
        "*   Sentence Splitting\n",
        "*   Script Information\n",
        "*   Word Segmentation\n",
        "*   Script Conversion\n",
        "\n",
        "\n",
        "\n",
        "\n"
      ],
      "metadata": {
        "id": "KnRGrMHDQJcw"
      }
    },
    {
      "cell_type": "code",
      "source": [
        "!pip install indic-nlp-library"
      ],
      "metadata": {
        "colab": {
          "base_uri": "https://localhost:8080/"
        },
        "id": "XUjmxwRfPI7z",
        "outputId": "6491e999-4ae4-4bf0-dbb1-4ec86b5874d4"
      },
      "execution_count": 3,
      "outputs": [
        {
          "output_type": "stream",
          "name": "stdout",
          "text": [
            "Requirement already satisfied: indic-nlp-library in /usr/local/lib/python3.10/dist-packages (0.92)\n",
            "Requirement already satisfied: sphinx-argparse in /usr/local/lib/python3.10/dist-packages (from indic-nlp-library) (0.4.0)\n",
            "Requirement already satisfied: sphinx-rtd-theme in /usr/local/lib/python3.10/dist-packages (from indic-nlp-library) (2.0.0)\n",
            "Requirement already satisfied: morfessor in /usr/local/lib/python3.10/dist-packages (from indic-nlp-library) (2.0.6)\n",
            "Requirement already satisfied: pandas in /usr/local/lib/python3.10/dist-packages (from indic-nlp-library) (1.5.3)\n",
            "Requirement already satisfied: numpy in /usr/local/lib/python3.10/dist-packages (from indic-nlp-library) (1.25.2)\n",
            "Requirement already satisfied: python-dateutil>=2.8.1 in /usr/local/lib/python3.10/dist-packages (from pandas->indic-nlp-library) (2.8.2)\n",
            "Requirement already satisfied: pytz>=2020.1 in /usr/local/lib/python3.10/dist-packages (from pandas->indic-nlp-library) (2023.4)\n",
            "Requirement already satisfied: sphinx>=1.2.0 in /usr/local/lib/python3.10/dist-packages (from sphinx-argparse->indic-nlp-library) (5.0.2)\n",
            "Requirement already satisfied: docutils<0.21 in /usr/local/lib/python3.10/dist-packages (from sphinx-rtd-theme->indic-nlp-library) (0.18.1)\n",
            "Requirement already satisfied: sphinxcontrib-jquery<5,>=4 in /usr/local/lib/python3.10/dist-packages (from sphinx-rtd-theme->indic-nlp-library) (4.1)\n",
            "Requirement already satisfied: six>=1.5 in /usr/local/lib/python3.10/dist-packages (from python-dateutil>=2.8.1->pandas->indic-nlp-library) (1.16.0)\n",
            "Requirement already satisfied: sphinxcontrib-applehelp in /usr/local/lib/python3.10/dist-packages (from sphinx>=1.2.0->sphinx-argparse->indic-nlp-library) (1.0.8)\n",
            "Requirement already satisfied: sphinxcontrib-devhelp in /usr/local/lib/python3.10/dist-packages (from sphinx>=1.2.0->sphinx-argparse->indic-nlp-library) (1.0.6)\n",
            "Requirement already satisfied: sphinxcontrib-jsmath in /usr/local/lib/python3.10/dist-packages (from sphinx>=1.2.0->sphinx-argparse->indic-nlp-library) (1.0.1)\n",
            "Requirement already satisfied: sphinxcontrib-htmlhelp>=2.0.0 in /usr/local/lib/python3.10/dist-packages (from sphinx>=1.2.0->sphinx-argparse->indic-nlp-library) (2.0.5)\n",
            "Requirement already satisfied: sphinxcontrib-serializinghtml>=1.1.5 in /usr/local/lib/python3.10/dist-packages (from sphinx>=1.2.0->sphinx-argparse->indic-nlp-library) (1.1.10)\n",
            "Requirement already satisfied: sphinxcontrib-qthelp in /usr/local/lib/python3.10/dist-packages (from sphinx>=1.2.0->sphinx-argparse->indic-nlp-library) (1.0.7)\n",
            "Requirement already satisfied: Jinja2>=2.3 in /usr/local/lib/python3.10/dist-packages (from sphinx>=1.2.0->sphinx-argparse->indic-nlp-library) (3.1.3)\n",
            "Requirement already satisfied: Pygments>=2.0 in /usr/local/lib/python3.10/dist-packages (from sphinx>=1.2.0->sphinx-argparse->indic-nlp-library) (2.16.1)\n",
            "Requirement already satisfied: snowballstemmer>=1.1 in /usr/local/lib/python3.10/dist-packages (from sphinx>=1.2.0->sphinx-argparse->indic-nlp-library) (2.2.0)\n",
            "Requirement already satisfied: babel>=1.3 in /usr/local/lib/python3.10/dist-packages (from sphinx>=1.2.0->sphinx-argparse->indic-nlp-library) (2.14.0)\n",
            "Requirement already satisfied: alabaster<0.8,>=0.7 in /usr/local/lib/python3.10/dist-packages (from sphinx>=1.2.0->sphinx-argparse->indic-nlp-library) (0.7.16)\n",
            "Requirement already satisfied: imagesize in /usr/local/lib/python3.10/dist-packages (from sphinx>=1.2.0->sphinx-argparse->indic-nlp-library) (1.4.1)\n",
            "Requirement already satisfied: requests>=2.5.0 in /usr/local/lib/python3.10/dist-packages (from sphinx>=1.2.0->sphinx-argparse->indic-nlp-library) (2.31.0)\n",
            "Requirement already satisfied: packaging in /usr/local/lib/python3.10/dist-packages (from sphinx>=1.2.0->sphinx-argparse->indic-nlp-library) (23.2)\n",
            "Requirement already satisfied: MarkupSafe>=2.0 in /usr/local/lib/python3.10/dist-packages (from Jinja2>=2.3->sphinx>=1.2.0->sphinx-argparse->indic-nlp-library) (2.1.5)\n",
            "Requirement already satisfied: charset-normalizer<4,>=2 in /usr/local/lib/python3.10/dist-packages (from requests>=2.5.0->sphinx>=1.2.0->sphinx-argparse->indic-nlp-library) (3.3.2)\n",
            "Requirement already satisfied: idna<4,>=2.5 in /usr/local/lib/python3.10/dist-packages (from requests>=2.5.0->sphinx>=1.2.0->sphinx-argparse->indic-nlp-library) (3.6)\n",
            "Requirement already satisfied: urllib3<3,>=1.21.1 in /usr/local/lib/python3.10/dist-packages (from requests>=2.5.0->sphinx>=1.2.0->sphinx-argparse->indic-nlp-library) (2.0.7)\n",
            "Requirement already satisfied: certifi>=2017.4.17 in /usr/local/lib/python3.10/dist-packages (from requests>=2.5.0->sphinx>=1.2.0->sphinx-argparse->indic-nlp-library) (2024.2.2)\n"
          ]
        }
      ]
    },
    {
      "cell_type": "code",
      "source": [
        "from indicnlp.tokenize import indic_tokenize\n",
        "\n",
        "indic_string='''प्रसिद्ध हिंदी लेखक जयशंकर प्रसाद का जन्म उत्तर प्रदेश में वाराणसी के एक कुलीन परिवार में 30 जनवरी 1889 को हुआ था। यह आधुनिक हिंदी साहित्य के प्रसिद्ध लेखक,\n",
        "उपन्यासकार, नाटककार, कवि और कहानी-लेखक माने जाते थे। जयशंकर प्रसाद हिंदी काव्य में छायावादी युग से संबंधित थे। उन्होंने बहुत ही कम उम्र में अपने पिता बाबू देवकी प्रसाद, जो एक तंबाकू\n",
        "व्यापारी थे, को खो दिया था। वह अपने बचपन के शुरुआती दिनों से ही भाषा, साहित्य तथा इतिहास में काफी रुचि रखते थे और उनका वेदों की तरफ एक विशेष रुख था, जो कि उनकी रचनाओं में\n",
        "स्पष्ट दिखाई देता है।जयशंकर प्रसाद ने प्रारंभिक पद्यकाव्य (कविताओं) जैसे चित्राधर संग्रह को ब्रज भाषा हिंदी में लिखा था, लेकिन उसके बाद उन्होंने अपनी रचनाएं खड़ी बोली में लिखीं|'''\n",
        "\n",
        "print('Input String: {}'.format(indic_string))\n",
        "print('Tokens: ')\n",
        "for t in indic_tokenize.trivial_tokenize(indic_string):\n",
        "    print(t)"
      ],
      "metadata": {
        "colab": {
          "base_uri": "https://localhost:8080/"
        },
        "id": "-_GU8V88PcGe",
        "outputId": "14f679f1-f229-4c48-937e-1de6441abe8c"
      },
      "execution_count": 4,
      "outputs": [
        {
          "output_type": "stream",
          "name": "stdout",
          "text": [
            "Input String: प्रसिद्ध हिंदी लेखक जयशंकर प्रसाद का जन्म उत्तर प्रदेश में वाराणसी के एक कुलीन परिवार में 30 जनवरी 1889 को हुआ था। यह आधुनिक हिंदी साहित्य के प्रसिद्ध लेखक, \n",
            "उपन्यासकार, नाटककार, कवि और कहानी-लेखक माने जाते थे। जयशंकर प्रसाद हिंदी काव्य में छायावादी युग से संबंधित थे। उन्होंने बहुत ही कम उम्र में अपने पिता बाबू देवकी प्रसाद, जो एक तंबाकू \n",
            "व्यापारी थे, को खो दिया था। वह अपने बचपन के शुरुआती दिनों से ही भाषा, साहित्य तथा इतिहास में काफी रुचि रखते थे और उनका वेदों की तरफ एक विशेष रुख था, जो कि उनकी रचनाओं में \n",
            "स्पष्ट दिखाई देता है।जयशंकर प्रसाद ने प्रारंभिक पद्यकाव्य (कविताओं) जैसे चित्राधर संग्रह को ब्रज भाषा हिंदी में लिखा था, लेकिन उसके बाद उन्होंने अपनी रचनाएं खड़ी बोली में लिखीं|\n",
            "Tokens: \n",
            "प्रसिद्ध\n",
            "हिंदी\n",
            "लेखक\n",
            "जयशंकर\n",
            "प्रसाद\n",
            "का\n",
            "जन्म\n",
            "उत्तर\n",
            "प्रदेश\n",
            "में\n",
            "वाराणसी\n",
            "के\n",
            "एक\n",
            "कुलीन\n",
            "परिवार\n",
            "में\n",
            "30\n",
            "जनवरी\n",
            "1889\n",
            "को\n",
            "हुआ\n",
            "था\n",
            "।\n",
            "यह\n",
            "आधुनिक\n",
            "हिंदी\n",
            "साहित्य\n",
            "के\n",
            "प्रसिद्ध\n",
            "लेखक\n",
            ",\n",
            "\n",
            "उपन्यासकार\n",
            ",\n",
            "नाटककार\n",
            ",\n",
            "कवि\n",
            "और\n",
            "कहानी\n",
            "-\n",
            "लेखक\n",
            "माने\n",
            "जाते\n",
            "थे\n",
            "।\n",
            "जयशंकर\n",
            "प्रसाद\n",
            "हिंदी\n",
            "काव्य\n",
            "में\n",
            "छायावादी\n",
            "युग\n",
            "से\n",
            "संबंधित\n",
            "थे\n",
            "।\n",
            "उन्होंने\n",
            "बहुत\n",
            "ही\n",
            "कम\n",
            "उम्र\n",
            "में\n",
            "अपने\n",
            "पिता\n",
            "बाबू\n",
            "देवकी\n",
            "प्रसाद\n",
            ",\n",
            "जो\n",
            "एक\n",
            "तंबाकू\n",
            "\n",
            "व्यापारी\n",
            "थे\n",
            ",\n",
            "को\n",
            "खो\n",
            "दिया\n",
            "था\n",
            "।\n",
            "वह\n",
            "अपने\n",
            "बचपन\n",
            "के\n",
            "शुरुआती\n",
            "दिनों\n",
            "से\n",
            "ही\n",
            "भाषा\n",
            ",\n",
            "साहित्य\n",
            "तथा\n",
            "इतिहास\n",
            "में\n",
            "काफी\n",
            "रुचि\n",
            "रखते\n",
            "थे\n",
            "और\n",
            "उनका\n",
            "वेदों\n",
            "की\n",
            "तरफ\n",
            "एक\n",
            "विशेष\n",
            "रुख\n",
            "था\n",
            ",\n",
            "जो\n",
            "कि\n",
            "उनकी\n",
            "रचनाओं\n",
            "में\n",
            "\n",
            "स्पष्ट\n",
            "दिखाई\n",
            "देता\n",
            "है\n",
            "।\n",
            "जयशंकर\n",
            "प्रसाद\n",
            "ने\n",
            "प्रारंभिक\n",
            "पद्यकाव्य\n",
            "(\n",
            "कविताओं\n",
            ")\n",
            "जैसे\n",
            "चित्राधर\n",
            "संग्रह\n",
            "को\n",
            "ब्रज\n",
            "भाषा\n",
            "हिंदी\n",
            "में\n",
            "लिखा\n",
            "था\n",
            ",\n",
            "लेकिन\n",
            "उसके\n",
            "बाद\n",
            "उन्होंने\n",
            "अपनी\n",
            "रचनाएं\n",
            "खड़ी\n",
            "बोली\n",
            "में\n",
            "लिखीं\n",
            "|\n"
          ]
        }
      ]
    },
    {
      "cell_type": "markdown",
      "source": [
        "**TOKENIZING A FOREIGN LANGUAGE(FRENCH)**\n",
        "\n",
        "spaCy currently provides support for many languages including Spanish. It can be helped by improving the existing language data and extending the tokenization patterns."
      ],
      "metadata": {
        "id": "ATfqflYWQNLT"
      }
    },
    {
      "cell_type": "code",
      "source": [
        "import nltk.data\n",
        "nltk.download('punkt')\n",
        "spanish_tokenizer = nltk.data.load('tokenizers/punkt/PY3/spanish.pickle')\n",
        "\n",
        "text = 'Hola amigo. Estoy bien.'\n",
        "spanish_tokenizer.tokenize(text)"
      ],
      "metadata": {
        "colab": {
          "base_uri": "https://localhost:8080/"
        },
        "id": "K9GKobnZQiOF",
        "outputId": "2f490fc7-2344-4781-a931-d753ed2899be"
      },
      "execution_count": 7,
      "outputs": [
        {
          "output_type": "stream",
          "name": "stderr",
          "text": [
            "[nltk_data] Downloading package punkt to /root/nltk_data...\n",
            "[nltk_data]   Package punkt is already up-to-date!\n"
          ]
        },
        {
          "output_type": "execute_result",
          "data": {
            "text/plain": [
              "['Hola amigo.', 'Estoy bien.']"
            ]
          },
          "metadata": {},
          "execution_count": 7
        }
      ]
    },
    {
      "cell_type": "code",
      "source": [
        "!pip install \"spacy~=2.0\""
      ],
      "metadata": {
        "colab": {
          "base_uri": "https://localhost:8080/"
        },
        "id": "l4VMZLKiTYPE",
        "outputId": "121d1168-bfb6-41be-9c91-9cdedd1f6544"
      },
      "execution_count": 6,
      "outputs": [
        {
          "output_type": "stream",
          "name": "stdout",
          "text": [
            "Requirement already satisfied: spacy~=2.0 in /usr/local/lib/python3.10/dist-packages (2.3.9)\n",
            "Requirement already satisfied: murmurhash<1.1.0,>=0.28.0 in /usr/local/lib/python3.10/dist-packages (from spacy~=2.0) (1.0.10)\n",
            "Requirement already satisfied: cymem<2.1.0,>=2.0.2 in /usr/local/lib/python3.10/dist-packages (from spacy~=2.0) (2.0.8)\n",
            "Requirement already satisfied: preshed<3.1.0,>=3.0.2 in /usr/local/lib/python3.10/dist-packages (from spacy~=2.0) (3.0.9)\n",
            "Requirement already satisfied: thinc<7.5.0,>=7.4.1 in /usr/local/lib/python3.10/dist-packages (from spacy~=2.0) (7.4.6)\n",
            "Requirement already satisfied: blis<0.8.0,>=0.4.0 in /usr/local/lib/python3.10/dist-packages (from spacy~=2.0) (0.7.11)\n",
            "Requirement already satisfied: wasabi<1.1.0,>=0.4.0 in /usr/local/lib/python3.10/dist-packages (from spacy~=2.0) (0.10.1)\n",
            "Requirement already satisfied: srsly<1.1.0,>=1.0.2 in /usr/local/lib/python3.10/dist-packages (from spacy~=2.0) (1.0.7)\n",
            "Requirement already satisfied: catalogue<1.1.0,>=0.0.7 in /usr/local/lib/python3.10/dist-packages (from spacy~=2.0) (1.0.2)\n",
            "Requirement already satisfied: tqdm<5.0.0,>=4.38.0 in /usr/local/lib/python3.10/dist-packages (from spacy~=2.0) (4.66.2)\n",
            "Requirement already satisfied: setuptools in /usr/local/lib/python3.10/dist-packages (from spacy~=2.0) (67.7.2)\n",
            "Requirement already satisfied: numpy>=1.15.0 in /usr/local/lib/python3.10/dist-packages (from spacy~=2.0) (1.25.2)\n",
            "Requirement already satisfied: plac<1.2.0,>=0.9.6 in /usr/local/lib/python3.10/dist-packages (from spacy~=2.0) (1.1.3)\n",
            "Requirement already satisfied: requests<3.0.0,>=2.13.0 in /usr/local/lib/python3.10/dist-packages (from spacy~=2.0) (2.31.0)\n",
            "Requirement already satisfied: charset-normalizer<4,>=2 in /usr/local/lib/python3.10/dist-packages (from requests<3.0.0,>=2.13.0->spacy~=2.0) (3.3.2)\n",
            "Requirement already satisfied: idna<4,>=2.5 in /usr/local/lib/python3.10/dist-packages (from requests<3.0.0,>=2.13.0->spacy~=2.0) (3.6)\n",
            "Requirement already satisfied: urllib3<3,>=1.21.1 in /usr/local/lib/python3.10/dist-packages (from requests<3.0.0,>=2.13.0->spacy~=2.0) (2.0.7)\n",
            "Requirement already satisfied: certifi>=2017.4.17 in /usr/local/lib/python3.10/dist-packages (from requests<3.0.0,>=2.13.0->spacy~=2.0) (2024.2.2)\n"
          ]
        }
      ]
    },
    {
      "cell_type": "code",
      "source": [
        "!python -m spacy download es"
      ],
      "metadata": {
        "colab": {
          "base_uri": "https://localhost:8080/"
        },
        "id": "jvbpQjCiWLYT",
        "outputId": "b8fd3848-eade-4a81-deff-6fbe3b2dc6f1"
      },
      "execution_count": 23,
      "outputs": [
        {
          "output_type": "stream",
          "name": "stdout",
          "text": [
            "\u001b[33mDEPRECATION: https://github.com/explosion/spacy-models/releases/download/es_core_news_sm-2.3.1/es_core_news_sm-2.3.1.tar.gz#egg=es_core_news_sm==2.3.1 contains an egg fragment with a non-PEP 508 name pip 25.0 will enforce this behaviour change. A possible replacement is to use the req @ url syntax, and remove the egg fragment. Discussion can be found at https://github.com/pypa/pip/issues/11617\u001b[0m\u001b[33m\n",
            "\u001b[0mCollecting es_core_news_sm==2.3.1\n",
            "  Using cached es_core_news_sm-2.3.1-py3-none-any.whl\n",
            "Requirement already satisfied: spacy<2.4.0,>=2.3.0 in /usr/local/lib/python3.10/dist-packages (from es_core_news_sm==2.3.1) (2.3.9)\n",
            "Requirement already satisfied: murmurhash<1.1.0,>=0.28.0 in /usr/local/lib/python3.10/dist-packages (from spacy<2.4.0,>=2.3.0->es_core_news_sm==2.3.1) (1.0.10)\n",
            "Requirement already satisfied: cymem<2.1.0,>=2.0.2 in /usr/local/lib/python3.10/dist-packages (from spacy<2.4.0,>=2.3.0->es_core_news_sm==2.3.1) (2.0.8)\n",
            "Requirement already satisfied: preshed<3.1.0,>=3.0.2 in /usr/local/lib/python3.10/dist-packages (from spacy<2.4.0,>=2.3.0->es_core_news_sm==2.3.1) (3.0.9)\n",
            "Requirement already satisfied: thinc<7.5.0,>=7.4.1 in /usr/local/lib/python3.10/dist-packages (from spacy<2.4.0,>=2.3.0->es_core_news_sm==2.3.1) (7.4.6)\n",
            "Requirement already satisfied: blis<0.8.0,>=0.4.0 in /usr/local/lib/python3.10/dist-packages (from spacy<2.4.0,>=2.3.0->es_core_news_sm==2.3.1) (0.7.11)\n",
            "Requirement already satisfied: wasabi<1.1.0,>=0.4.0 in /usr/local/lib/python3.10/dist-packages (from spacy<2.4.0,>=2.3.0->es_core_news_sm==2.3.1) (0.10.1)\n",
            "Requirement already satisfied: srsly<1.1.0,>=1.0.2 in /usr/local/lib/python3.10/dist-packages (from spacy<2.4.0,>=2.3.0->es_core_news_sm==2.3.1) (1.0.7)\n",
            "Requirement already satisfied: catalogue<1.1.0,>=0.0.7 in /usr/local/lib/python3.10/dist-packages (from spacy<2.4.0,>=2.3.0->es_core_news_sm==2.3.1) (1.0.2)\n",
            "Requirement already satisfied: tqdm<5.0.0,>=4.38.0 in /usr/local/lib/python3.10/dist-packages (from spacy<2.4.0,>=2.3.0->es_core_news_sm==2.3.1) (4.66.2)\n",
            "Requirement already satisfied: setuptools in /usr/local/lib/python3.10/dist-packages (from spacy<2.4.0,>=2.3.0->es_core_news_sm==2.3.1) (67.7.2)\n",
            "Requirement already satisfied: numpy>=1.15.0 in /usr/local/lib/python3.10/dist-packages (from spacy<2.4.0,>=2.3.0->es_core_news_sm==2.3.1) (1.25.2)\n",
            "Requirement already satisfied: plac<1.2.0,>=0.9.6 in /usr/local/lib/python3.10/dist-packages (from spacy<2.4.0,>=2.3.0->es_core_news_sm==2.3.1) (1.1.3)\n",
            "Requirement already satisfied: requests<3.0.0,>=2.13.0 in /usr/local/lib/python3.10/dist-packages (from spacy<2.4.0,>=2.3.0->es_core_news_sm==2.3.1) (2.31.0)\n",
            "Requirement already satisfied: charset-normalizer<4,>=2 in /usr/local/lib/python3.10/dist-packages (from requests<3.0.0,>=2.13.0->spacy<2.4.0,>=2.3.0->es_core_news_sm==2.3.1) (3.3.2)\n",
            "Requirement already satisfied: idna<4,>=2.5 in /usr/local/lib/python3.10/dist-packages (from requests<3.0.0,>=2.13.0->spacy<2.4.0,>=2.3.0->es_core_news_sm==2.3.1) (3.6)\n",
            "Requirement already satisfied: urllib3<3,>=1.21.1 in /usr/local/lib/python3.10/dist-packages (from requests<3.0.0,>=2.13.0->spacy<2.4.0,>=2.3.0->es_core_news_sm==2.3.1) (2.0.7)\n",
            "Requirement already satisfied: certifi>=2017.4.17 in /usr/local/lib/python3.10/dist-packages (from requests<3.0.0,>=2.13.0->spacy<2.4.0,>=2.3.0->es_core_news_sm==2.3.1) (2024.2.2)\n",
            "\u001b[38;5;2m✔ Download and installation successful\u001b[0m\n",
            "You can now load the model via spacy.load('es_core_news_sm')\n",
            "\u001b[38;5;2m✔ Linking successful\u001b[0m\n",
            "/usr/local/lib/python3.10/dist-packages/es_core_news_sm -->\n",
            "/usr/local/lib/python3.10/dist-packages/spacy/data/es\n",
            "You can now load the model via spacy.load('es')\n"
          ]
        }
      ]
    },
    {
      "cell_type": "code",
      "source": [
        "import spacy\n",
        "nlp = spacy.load('es')\n",
        "sentences = \"¿Quién eres tú? ¡Hola! ¿Dónde estoy?\"\n",
        "doc = nlp(sentences)\n",
        "tokens = [token for token in doc]\n",
        "print(tokens)"
      ],
      "metadata": {
        "colab": {
          "base_uri": "https://localhost:8080/"
        },
        "id": "xGFSfYYuTakU",
        "outputId": "3f60a870-8e37-41c8-d0b5-e6d9d29e23a2"
      },
      "execution_count": 25,
      "outputs": [
        {
          "output_type": "stream",
          "name": "stdout",
          "text": [
            "[¿, Quién, eres, tú, ?, ¡, Hola, !, ¿, Dónde, estoy, ?]\n"
          ]
        }
      ]
    }
  ]
}