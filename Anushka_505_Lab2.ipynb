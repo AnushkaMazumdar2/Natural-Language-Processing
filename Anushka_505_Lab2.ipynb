{
  "nbformat": 4,
  "nbformat_minor": 0,
  "metadata": {
    "colab": {
      "provenance": []
    },
    "kernelspec": {
      "name": "python3",
      "display_name": "Python 3"
    },
    "language_info": {
      "name": "python"
    }
  },
  "cells": [
    {
      "cell_type": "markdown",
      "source": [
        "**Importing Necessary Libraries**"
      ],
      "metadata": {
        "id": "752E_GM7C7D9"
      }
    },
    {
      "cell_type": "code",
      "source": [
        "!pip install datefinder"
      ],
      "metadata": {
        "colab": {
          "base_uri": "https://localhost:8080/"
        },
        "id": "wq2c10QYDApy",
        "outputId": "5bf30cbd-4b8e-4b6b-b764-ba1d0599228f"
      },
      "execution_count": 148,
      "outputs": [
        {
          "output_type": "stream",
          "name": "stdout",
          "text": [
            "Requirement already satisfied: datefinder in /usr/local/lib/python3.10/dist-packages (0.7.3)\n",
            "Requirement already satisfied: regex>=2017.02.08 in /usr/local/lib/python3.10/dist-packages (from datefinder) (2023.12.25)\n",
            "Requirement already satisfied: python-dateutil>=2.4.2 in /usr/local/lib/python3.10/dist-packages (from datefinder) (2.8.2)\n",
            "Requirement already satisfied: pytz in /usr/local/lib/python3.10/dist-packages (from datefinder) (2023.4)\n",
            "Requirement already satisfied: six>=1.5 in /usr/local/lib/python3.10/dist-packages (from python-dateutil>=2.4.2->datefinder) (1.16.0)\n"
          ]
        }
      ]
    },
    {
      "cell_type": "code",
      "execution_count": 149,
      "metadata": {
        "colab": {
          "base_uri": "https://localhost:8080/"
        },
        "id": "nqvcLd5SE5vW",
        "outputId": "93cf0487-1c47-4acf-f03d-343e6c7c8410"
      },
      "outputs": [
        {
          "output_type": "stream",
          "name": "stderr",
          "text": [
            "[nltk_data] Downloading package stopwords to /root/nltk_data...\n",
            "[nltk_data]   Package stopwords is already up-to-date!\n",
            "[nltk_data] Downloading package punkt to /root/nltk_data...\n",
            "[nltk_data]   Package punkt is already up-to-date!\n",
            "[nltk_data] Downloading package wordnet to /root/nltk_data...\n",
            "[nltk_data]   Package wordnet is already up-to-date!\n"
          ]
        }
      ],
      "source": [
        "import nltk\n",
        "from nltk.corpus import stopwords\n",
        "nltk.download('stopwords')\n",
        "from nltk.tokenize import word_tokenize\n",
        "nltk.download('punkt')\n",
        "import matplotlib.pyplot as plt\n",
        "from nltk.tokenize.treebank import TreebankWordDetokenizer\n",
        "from nltk import pos_tag\n",
        "nltk.download('wordnet')\n",
        "from nltk.stem import wordnet\n",
        "from nltk.stem import WordNetLemmatizer\n",
        "from nltk.probability import FreqDist\n",
        "from nltk.util import ngrams\n",
        "import datetime\n",
        "import datefinder"
      ]
    },
    {
      "cell_type": "code",
      "source": [
        "text = '''On a balmy evening in May, Sarah Smith, born on September 10, 1995, sat typing furiously at her computer.\n",
        "As an avid enthusiast of natural language processing (NLP), she reveled in dissecting linguistic complexities.\n",
        "Amidst her analysis, Sarah grappled with the intricacies of stop words, deciphering their impact on sentiment analysis.\n",
        "Her email, sarah.smith@example.com, provided a gateway for collaboration among fellow NLP aficionados, fostering discussions on tokenization and stemming techniques.\n",
        "She got viral on X platform on January 22, 2010. Her tweets garnered over 100032424291 likes. She was very overwhelmed and had to get offline from June 23, 2014 and upto May 2, 2017.\n",
        "Despite occasional setbacks, Sarah's determination soared as she meticulously fine-tuned her algorithms. Her twitter account @SarahS was flooded with hashtags such as #NLPQueen #BringingNLPtojustics\n",
        "to enhance data preprocessing. Her phone number, +91 8371031783 and not +91 643986, served as a conduit for inquiries and invitations to NLP conferences worldwide, propelling her\n",
        "towards new frontiers in language understanding and artificial intelligence. Just like any person, she had her set of haters, but she didn't let them affect her. She is very good at decision-making\n",
        "which comes in handy when you are working with textual data.'''\n",
        "print(text)"
      ],
      "metadata": {
        "colab": {
          "base_uri": "https://localhost:8080/"
        },
        "id": "4g8sr9UnFJjf",
        "outputId": "b60ec899-edde-4889-9ffe-e56869f90a50"
      },
      "execution_count": 201,
      "outputs": [
        {
          "output_type": "stream",
          "name": "stdout",
          "text": [
            "On a balmy evening in May, Sarah Smith, born on September 10, 1995, sat typing furiously at her computer. \n",
            "As an avid enthusiast of natural language processing (NLP), she reveled in dissecting linguistic complexities. \n",
            "Amidst her analysis, Sarah grappled with the intricacies of stop words, deciphering their impact on sentiment analysis. \n",
            "Her email, sarah.smith@example.com, provided a gateway for collaboration among fellow NLP aficionados, fostering discussions on tokenization and stemming techniques. \n",
            "She got viral on X platform on January 22, 2010. Her tweets garnered over 100032424291 likes. She was very overwhelmed and had to get offline from June 23, 2014 and upto May 2, 2017.\n",
            "Despite occasional setbacks, Sarah's determination soared as she meticulously fine-tuned her algorithms. Her twitter account @SarahS was flooded with hashtags such as #NLPQueen #BringingNLPtojustics \n",
            "to enhance data preprocessing. Her phone number, +91 8371031783 and not +91 643986, served as a conduit for inquiries and invitations to NLP conferences worldwide, propelling her \n",
            "towards new frontiers in language understanding and artificial intelligence. Just like any person, she had her set of haters, but she didn't let them affect her. She is very good at decision-making \n",
            "which comes in handy when you are working with textual data.\n"
          ]
        }
      ]
    },
    {
      "cell_type": "markdown",
      "source": [
        "**a. Count the number of unique tokens in the text.**\n",
        "\n",
        "Knowing the number of unique tokens provides a measure of the text's lexical richness and diversity.\n",
        "\n",
        "Possible Applications:\n",
        "*   Assessing the vocabulary richness of the text.\n",
        "*   Analyzing text complexity and sophistication.\n",
        "\n",
        "\n"
      ],
      "metadata": {
        "id": "89J8uYUNIv_G"
      }
    },
    {
      "cell_type": "code",
      "source": [
        "wordtoken=[]\n",
        "textl = text.lower()\n",
        "wordtoken=word_tokenize(textl)\n",
        "unique =set(wordtoken)\n",
        "print(unique)"
      ],
      "metadata": {
        "colab": {
          "base_uri": "https://localhost:8080/"
        },
        "id": "qbxIAijxIBAK",
        "outputId": "0529ec68-8ff3-4b2f-a122-83884e6ea5bd"
      },
      "execution_count": 151,
      "outputs": [
        {
          "output_type": "stream",
          "name": "stdout",
          "text": [
            "{\"'s\", 'invitations', 'sentiment', 'was', 'despite', 'conduit', '(', 'occasional', 'handy', 'get', 'of', 'working', 'linguistic', 'example.com', 'computer', 'june', 'with', 'grappled', 'any', 'overwhelmed', 'served', 'a', 'viral', 'set', 'may', 'x', 'furiously', 'had', '2010.', 'number', 'sarah', '1995', 'frontiers', 'good', 'intelligence', '#', 'nlp', 'haters', 'language', '643986', 'collaboration', '2017.', 'understanding', 'when', 'amidst', '23', 'hashtags', 'dissecting', 'let', 'such', 'which', 'processing', 'enhance', 'offline', 'email', 'setbacks', '2', 'propelling', 'provided', 'among', 'determination', 'words', 'balmy', 'tokenization', 'just', 'new', 'not', 'the', '.', 'phone', 'tweets', 'sat', 'she', 'platform', 'and', 'her', 'textual', '10', 'evening', 'soared', 'over', 'garnered', 'discussions', ')', 'enthusiast', 'likes', 'data', 'as', 'affect', 'nlpqueen', 'twitter', 'conferences', 'at', 'fellow', 'worldwide', ',', 'natural', 'did', 'deciphering', 'on', 'their', 'comes', 'sarahs', 'artificial', '@', 'sarah.smith', 'gateway', 'typing', 'decision-making', 'account', 'them', 'born', 'to', \"n't\", 'for', 'aficionados', 'towards', 'meticulously', 'an', 'is', 'analysis', 'bringingnlptojustics', 'you', '100032424291', 'very', 'inquiries', 'like', 'stop', 'january', 'fine-tuned', '8371031783', 'are', 'upto', 'smith', '2014', 'from', 'fostering', 'got', 'algorithms', 'complexities', 'but', 'flooded', 'avid', 'stemming', 'impact', 'person', 'september', 'techniques', '+91', 'in', '22', 'preprocessing', 'intricacies', 'reveled'}\n"
          ]
        }
      ]
    },
    {
      "cell_type": "code",
      "source": [
        "print(\"Total Number of Tokens:\",len(wordtoken))\n",
        "print(\"Number of Unique Tokens\",len(unique))"
      ],
      "metadata": {
        "colab": {
          "base_uri": "https://localhost:8080/"
        },
        "id": "pfw98cpmLRBM",
        "outputId": "410f2074-859b-484c-b29d-b8f5f07f1182"
      },
      "execution_count": 152,
      "outputs": [
        {
          "output_type": "stream",
          "name": "stdout",
          "text": [
            "Total Number of Tokens: 236\n",
            "Number of Unique Tokens 154\n"
          ]
        }
      ]
    },
    {
      "cell_type": "markdown",
      "source": [
        "**b. Count the number of punctuation characters and remove punctuations.**\n",
        "\n",
        "Understanding the frequency of punctuation helps in understanding the text's syntactic structure and style.\n",
        "\n",
        "Possible Applications:\n",
        "*   Preprocessing text for tasks like sentiment analysis or text classification.\n",
        "*   Identifying writing styles or genres based on punctuation usage."
      ],
      "metadata": {
        "id": "cEq2l-ifLxJK"
      }
    },
    {
      "cell_type": "code",
      "source": [
        "from string import punctuation\n",
        "count = 0;\n",
        "for i in range (0, len (text)):\n",
        "    if text[i] in punctuation:\n",
        "        count = count + 1;\n",
        "print (\"Total number of punctuation characters that exist in string: \");\n",
        "print (count)"
      ],
      "metadata": {
        "colab": {
          "base_uri": "https://localhost:8080/"
        },
        "id": "0JtZRZ4GL1Ax",
        "outputId": "d4a39c36-76dd-4dd0-f1dd-e87a86c8597b"
      },
      "execution_count": 153,
      "outputs": [
        {
          "output_type": "stream",
          "name": "stdout",
          "text": [
            "Total number of punctuation characters that exist in string: \n",
            "45\n"
          ]
        }
      ]
    },
    {
      "cell_type": "code",
      "source": [
        "import re\n",
        "clean_text = re.sub(r'[^\\w\\s]', '', text)\n",
        "print(\"The text after removing all punctuations\",clean_text)"
      ],
      "metadata": {
        "colab": {
          "base_uri": "https://localhost:8080/"
        },
        "id": "FwJ6LbFVMy_-",
        "outputId": "6c72f000-a4fa-411f-d732-93cf3fc6e9b9"
      },
      "execution_count": 154,
      "outputs": [
        {
          "output_type": "stream",
          "name": "stdout",
          "text": [
            "The text after removing all punctuations On a balmy evening in May Sarah Smith born on September 10 1995 sat typing furiously at her computer \n",
            "As an avid enthusiast of natural language processing NLP she reveled in dissecting linguistic complexities \n",
            "Amidst her analysis Sarah grappled with the intricacies of stop words deciphering their impact on sentiment analysis \n",
            "Her email sarahsmithexamplecom provided a gateway for collaboration among fellow NLP aficionados fostering discussions on tokenization and stemming techniques \n",
            "She got viral on X platform on January 22 2010 Her tweets garnered over 100032424291 likes She was very overwhelmed and had to get offline from June 23 2014 and upto May 2 2017\n",
            "Despite occasional setbacks Sarahs determination soared as she meticulously finetuned her algorithms Her twitter account SarahS was flooded with hashtags such as NLPQueen BringingNLPtojustics \n",
            "to enhance data preprocessing Her phone number 91 8371031783 and not 91 643986 served as a conduit for inquiries and invitations to NLP conferences worldwide propelling her \n",
            "towards new frontiers in language understanding and artificial intelligence Just like any person she had her set of haters but she didnt let them affect her She is very good at decisionmaking \n",
            "which comes in handy when you are working with textual data\n"
          ]
        }
      ]
    },
    {
      "cell_type": "markdown",
      "source": [
        "**c. Plot the distribution of stopwords used in the text using barplot.**\n",
        "\n",
        "Visualizing the distribution of stopwords reveals their frequency and importance in the text.\n",
        "\n",
        "Possible Applications:\n",
        "*   Understanding common words that may not carry significant meaning.\n",
        "*   Identifying patterns in language usage or writing style."
      ],
      "metadata": {
        "id": "2qChxLyLNyjN"
      }
    },
    {
      "cell_type": "code",
      "source": [
        "stop_words =[]\n",
        "for word in clean_text.split(\" \"):\n",
        "  if word in stopwords.words('english'):\n",
        "    stop_words.append(word)\n",
        "unique_stop_words =list(set(stop_words))\n",
        "counts = [stop_words.count(value) for value in unique_stop_words]\n",
        "plt.figure(figsize=(15,6))\n",
        "plt.bar(unique_stop_words,counts,color=\"skyblue\")\n",
        "plt.xlabel(\"StopWords\")\n",
        "plt.ylabel(\"Count\")\n",
        "plt.tight_layout()\n",
        "plt.show()"
      ],
      "metadata": {
        "colab": {
          "base_uri": "https://localhost:8080/",
          "height": 607
        },
        "id": "6wKUV8XlSOwb",
        "outputId": "e4f2bac8-e185-4120-f1f8-681a1b975e33"
      },
      "execution_count": 155,
      "outputs": [
        {
          "output_type": "display_data",
          "data": {
            "text/plain": [
              "<Figure size 1500x600 with 1 Axes>"
            ],
            "image/png": "[encoded data removed]"
          },
          "metadata": {}
        }
      ]
    },
    {
      "cell_type": "markdown",
      "source": [
        "**d. Remove the stopwords from the text.**\n",
        "\n",
        "Removing stopwords can help in focusing on the most meaningful words in the text.\n",
        "\n",
        "Possible Applications:\n",
        "*   Improving the performance of text analysis tasks such as topic modeling or text summarization.\n",
        "*   Reducing noise in text data for better visualization or interpretation.\n",
        "\n"
      ],
      "metadata": {
        "id": "hv6a7kqDXlSm"
      }
    },
    {
      "cell_type": "code",
      "source": [
        "wordtoken = word_tokenize(clean_text)\n",
        "sentence = []\n",
        "detokenizer = TreebankWordDetokenizer()\n",
        "stop_words = set(stopwords.words('english'))\n",
        "filtered_tokens = [word for word in wordtoken if word.lower() not in stop_words]\n",
        "texts = detokenizer.detokenize(filtered_tokens)\n",
        "print(texts)"
      ],
      "metadata": {
        "colab": {
          "base_uri": "https://localhost:8080/"
        },
        "id": "7o0UjPciXpQH",
        "outputId": "dcf7fe1e-012c-4288-9e43-5fb67a97576c"
      },
      "execution_count": 156,
      "outputs": [
        {
          "output_type": "stream",
          "name": "stdout",
          "text": [
            "balmy evening May Sarah Smith born September 10 1995 sat typing furiously computer avid enthusiast natural language processing NLP reveled dissecting linguistic complexities Amidst analysis Sarah grappled intricacies stop words deciphering impact sentiment analysis email sarahsmithexamplecom provided gateway collaboration among fellow NLP aficionados fostering discussions tokenization stemming techniques got viral X platform January 22 2010 tweets garnered 100032424291 likes overwhelmed get offline June 23 2014 upto May 2 2017 Despite occasional setbacks Sarahs determination soared meticulously finetuned algorithms twitter account SarahS flooded hashtags NLPQueen BringingNLPtojustics enhance data preprocessing phone number 91 8371031783 91 643986 served conduit inquiries invitations NLP conferences worldwide propelling towards new frontiers language understanding artificial intelligence like person set haters didnt let affect good decisionmaking comes handy working textual data\n"
          ]
        }
      ]
    },
    {
      "cell_type": "markdown",
      "source": [
        "**e. Plot the distribution of each POS Tag using a barplot.**\n",
        "\n",
        "Visualizing the distribution of POS tags provides insights into the grammatical structure and syntactic patterns of the text.\n",
        "\n",
        "Possible Applications:\n",
        "*   Understanding the syntactic complexity of the text.\n",
        "*   Analyzing differences in writing styles or genres based on POS tag distributions."
      ],
      "metadata": {
        "id": "JH8GO7pKbHdC"
      }
    },
    {
      "cell_type": "code",
      "source": [
        "wordtoken = word_tokenize(texts)\n",
        "nltk.download('averaged_perceptron_tagger')\n",
        "pos_tags =[]\n",
        "pos_tags = pos_tag(wordtoken)\n",
        "print(\"\\nPoS Tagging Result:\")\n",
        "for word, pos_tag in pos_tags:\n",
        "    print(f\"{word}: {pos_tag}\")"
      ],
      "metadata": {
        "colab": {
          "base_uri": "https://localhost:8080/"
        },
        "id": "K6m5YE3KbHGk",
        "outputId": "4be7ea01-95ac-4477-e7bd-28e942c144cb"
      },
      "execution_count": 157,
      "outputs": [
        {
          "output_type": "stream",
          "name": "stdout",
          "text": [
            "\n",
            "PoS Tagging Result:\n",
            "balmy: IN\n",
            "evening: VBG\n",
            "May: NNP\n",
            "Sarah: NNP\n",
            "Smith: NNP\n",
            "born: JJ\n",
            "September: NNP\n",
            "10: CD\n",
            "1995: CD\n",
            "sat: VBD\n",
            "typing: VBG\n",
            "furiously: RB\n",
            "computer: NN\n",
            "avid: NN\n",
            "enthusiast: JJ\n",
            "natural: JJ\n",
            "language: NN\n",
            "processing: NN\n",
            "NLP: NNP\n",
            "reveled: VBD\n",
            "dissecting: VBG\n",
            "linguistic: JJ\n",
            "complexities: NNS\n",
            "Amidst: NNP\n",
            "analysis: NN\n",
            "Sarah: NNP\n",
            "grappled: VBD\n",
            "intricacies: NNS\n",
            "stop: VB\n",
            "words: NNS\n",
            "deciphering: VBG\n",
            "impact: JJ\n",
            "sentiment: NN\n",
            "analysis: NN\n",
            "email: NN\n",
            "sarahsmithexamplecom: NN\n",
            "provided: VBD\n",
            "gateway: JJ\n",
            "collaboration: NN\n",
            "among: IN\n",
            "fellow: JJ\n",
            "NLP: NNP\n",
            "aficionados: NN\n",
            "fostering: VBG\n",
            "discussions: NNS\n",
            "tokenization: NN\n",
            "stemming: VBG\n",
            "techniques: NNS\n",
            "got: VBD\n",
            "viral: JJ\n",
            "X: NNP\n",
            "platform: NN\n",
            "January: NNP\n",
            "22: CD\n",
            "2010: CD\n",
            "tweets: NNS\n",
            "garnered: VBD\n",
            "100032424291: CD\n",
            "likes: NNS\n",
            "overwhelmed: VBD\n",
            "get: VB\n",
            "offline: JJ\n",
            "June: NNP\n",
            "23: CD\n",
            "2014: CD\n",
            "upto: NN\n",
            "May: NNP\n",
            "2: CD\n",
            "2017: CD\n",
            "Despite: IN\n",
            "occasional: JJ\n",
            "setbacks: NNS\n",
            "Sarahs: NNP\n",
            "determination: NN\n",
            "soared: VBD\n",
            "meticulously: RB\n",
            "finetuned: VBN\n",
            "algorithms: RP\n",
            "twitter: JJ\n",
            "account: NN\n",
            "SarahS: NNP\n",
            "flooded: VBD\n",
            "hashtags: NNS\n",
            "NLPQueen: NNP\n",
            "BringingNLPtojustics: NNPS\n",
            "enhance: NN\n",
            "data: NNS\n",
            "preprocessing: VBG\n",
            "phone: NN\n",
            "number: NN\n",
            "91: CD\n",
            "8371031783: CD\n",
            "91: CD\n",
            "643986: CD\n",
            "served: VBD\n",
            "conduit: NN\n",
            "inquiries: NNS\n",
            "invitations: NNS\n",
            "NLP: NNP\n",
            "conferences: NNS\n",
            "worldwide: VBP\n",
            "propelling: VBG\n",
            "towards: NNS\n",
            "new: JJ\n",
            "frontiers: NNS\n",
            "language: NN\n",
            "understanding: VBG\n",
            "artificial: JJ\n",
            "intelligence: NN\n",
            "like: IN\n",
            "person: NN\n",
            "set: VBN\n",
            "haters: NNS\n",
            "didnt: JJ\n",
            "let: NN\n",
            "affect: VB\n",
            "good: JJ\n",
            "decisionmaking: NN\n",
            "comes: VBZ\n",
            "handy: JJ\n",
            "working: VBG\n",
            "textual: JJ\n",
            "data: NNS\n"
          ]
        },
        {
          "output_type": "stream",
          "name": "stderr",
          "text": [
            "[nltk_data] Downloading package averaged_perceptron_tagger to\n",
            "[nltk_data]     /root/nltk_data...\n",
            "[nltk_data]   Package averaged_perceptron_tagger is already up-to-\n",
            "[nltk_data]       date!\n"
          ]
        }
      ]
    },
    {
      "cell_type": "code",
      "source": [
        "pos_counts = {}\n",
        "for token, pos_tag in pos_tags:\n",
        "    if pos_tag in pos_counts:\n",
        "        pos_counts[pos_tag] += 1\n",
        "    else:\n",
        "        pos_counts[pos_tag] = 1\n",
        "\n",
        "# Plotting\n",
        "plt.figure(figsize=(10, 6))\n",
        "plt.bar(pos_counts.keys(), pos_counts.values(), color='skyblue')\n",
        "plt.title('Distribution of POS Tags')\n",
        "plt.xlabel('POS Tag')\n",
        "plt.ylabel('Count')\n",
        "plt.tight_layout()\n",
        "plt.show()"
      ],
      "metadata": {
        "colab": {
          "base_uri": "https://localhost:8080/",
          "height": 607
        },
        "id": "HAoSXJTItAvy",
        "outputId": "1bfaa772-b1fb-48da-801e-f7f0c3004aee"
      },
      "execution_count": 158,
      "outputs": [
        {
          "output_type": "display_data",
          "data": {
            "text/plain": [
              "<Figure size 1000x600 with 1 Axes>"
            ],
            "image/png": "[encoded data removed]"
          },
          "metadata": {}
        }
      ]
    },
    {
      "cell_type": "markdown",
      "source": [
        "**f. Determine the number of unique lemma available in the text.**\n",
        "\n",
        "Identifying unique lemmas helps in understanding the semantic richness and variety of the text.\n",
        "\n",
        "Possible Applications:\n",
        "*   Analyzing semantic similarities or differences between texts.\n",
        "*   Enhancing text search or retrieval by normalizing variations of words.\n",
        "\n"
      ],
      "metadata": {
        "id": "V3mBcuFmbi-y"
      }
    },
    {
      "cell_type": "code",
      "source": [
        "wordnet_lemmatizer = WordNetLemmatizer()\n",
        "lemma_words = [wordnet_lemmatizer.lemmatize(word) for word in wordtoken]\n",
        "unique_lemma = set(lemma_words)\n",
        "print(\"Total Number of Lemma in the text\",len(lemma_words))\n",
        "print(\"Number of Unique Lemma Available in the text\",len(unique_lemma))"
      ],
      "metadata": {
        "colab": {
          "base_uri": "https://localhost:8080/"
        },
        "id": "VLBm6WMrbwre",
        "outputId": "e2dedec3-0cb4-4615-9e62-94dd06b32f21"
      },
      "execution_count": 159,
      "outputs": [
        {
          "output_type": "stream",
          "name": "stdout",
          "text": [
            "Total Number of Lemma in the text 123\n",
            "Number of Unique Lemma Available in the text 114\n"
          ]
        }
      ]
    },
    {
      "cell_type": "markdown",
      "source": [
        "**g. Plot the frequency distribution of words in the text. Display only the top 10(most occurring) tokens in the chart**\n",
        "\n",
        "Visualizing the frequency distribution of words highlights the most common terms in the text.\n",
        "\n",
        "Possible Applications:\n",
        "*   Identifying key themes or topics in the text.\n",
        "*   Understanding the emphasis or focus of the text.\n",
        "\n"
      ],
      "metadata": {
        "id": "nvlNQ-VExOZz"
      }
    },
    {
      "cell_type": "code",
      "source": [
        "freq_dist = FreqDist(wordtoken)\n",
        "\n",
        "# Plotting\n",
        "plt.figure(figsize=(10, 6))\n",
        "plt.title('Top 10 Frequency Distribution of Words')\n",
        "freq_dist.plot(10, cumulative=False)\n",
        "plt.show()"
      ],
      "metadata": {
        "colab": {
          "base_uri": "https://localhost:8080/",
          "height": 615
        },
        "id": "NuAxFwd_xe01",
        "outputId": "dd2e6f44-a860-46e2-a1ce-b0523987df40"
      },
      "execution_count": 160,
      "outputs": [
        {
          "output_type": "display_data",
          "data": {
            "text/plain": [
              "<Figure size 1000x600 with 1 Axes>"
            ],
            "image/png": "[encoded data removed]"
          },
          "metadata": {}
        }
      ]
    },
    {
      "cell_type": "markdown",
      "source": [
        "**h. Find the number of unique bigrams, trigrams and quadgrams (n=4) in the corpus**\n",
        "\n",
        "Identifying unique n-grams provides insights into collocations and recurring phrases in the text.\n",
        "\n",
        "Possible Applications:\n",
        "*   Extracting meaningful phrases for text summarization or keyword extraction\n",
        "*   Analyzing patterns or associations between words in the text.\n",
        "\n"
      ],
      "metadata": {
        "id": "Q-PjhVknzc3r"
      }
    },
    {
      "cell_type": "code",
      "source": [
        "bigrams = list(ngrams(filtered_tokens, 2))\n",
        "trigrams = list(ngrams(filtered_tokens, 3))\n",
        "quadgrams = list(ngrams(filtered_tokens, 4))\n",
        "\n",
        "# Count unique bigrams, trigrams, and quadgrams\n",
        "unique_bigrams = len(set(bigrams))\n",
        "unique_trigrams = len(set(trigrams))\n",
        "unique_quadgrams = len(set(quadgrams))\n",
        "\n",
        "print(\"Number of unique bigrams:\", unique_bigrams)\n",
        "print(\"Number of unique trigrams:\", unique_trigrams)\n",
        "print(\"Number of unique quadgrams:\", unique_quadgrams)"
      ],
      "metadata": {
        "colab": {
          "base_uri": "https://localhost:8080/"
        },
        "id": "gbYcQf7pzXlb",
        "outputId": "22a178bd-dcbd-4723-e525-81ae9f7fbacd"
      },
      "execution_count": 161,
      "outputs": [
        {
          "output_type": "stream",
          "name": "stdout",
          "text": [
            "Number of unique bigrams: 122\n",
            "Number of unique trigrams: 121\n",
            "Number of unique quadgrams: 120\n"
          ]
        }
      ]
    },
    {
      "cell_type": "markdown",
      "source": [
        "**i. Find all dates and convert them to the DD-MM-YYYY format.**\n",
        "\n",
        "Extracting and standardizing dates enhances the text's consistency and facilitates temporal analysis.\n",
        "\n",
        "Possible Applications:\n",
        "*   Temporal analysis of events or trends mentioned in the text.\n",
        "*   Normalizing date formats for downstream analysis or visualization.\n",
        "\n"
      ],
      "metadata": {
        "id": "oB6d14GNzgXQ"
      }
    },
    {
      "cell_type": "code",
      "source": [
        "matches = datefinder.find_dates(texts)\n",
        "# Converting dates to DD-MM-YYYY Format\n",
        "original = []\n",
        "formatted = []\n",
        "for match in matches:\n",
        "  original.append(match)\n",
        "  formatted_date = match.strftime('%d-%m-%Y')\n",
        "  formatted.append(formatted_date)\n",
        "\n",
        "print(\"Original dates found:\", original)\n",
        "print(\"Formatted dates:\", formatted)"
      ],
      "metadata": {
        "colab": {
          "base_uri": "https://localhost:8080/"
        },
        "id": "KBcTm8_70nYM",
        "outputId": "654c6183-ac74-44cd-cc0a-9f0f53b140a1"
      },
      "execution_count": 162,
      "outputs": [
        {
          "output_type": "stream",
          "name": "stdout",
          "text": [
            "Original dates found: [datetime.datetime(2024, 5, 16, 0, 0), datetime.datetime(1995, 9, 10, 0, 0), datetime.datetime(2010, 1, 22, 0, 0), datetime.datetime(2014, 6, 23, 0, 0), datetime.datetime(2017, 5, 2, 0, 0)]\n",
            "Formatted dates: ['16-05-2024', '10-09-1995', '22-01-2010', '23-06-2014', '02-05-2017']\n"
          ]
        }
      ]
    },
    {
      "cell_type": "markdown",
      "source": [
        "**j. Plot a distribution of the different values of year occurring in the text.**\n",
        "\n",
        "Visualizing the distribution of years provides insights into temporal patterns or trends in the text.\n",
        "\n",
        "Possible Applications:\n",
        "*   Analyzing historical contexts or temporal changes in language usage.\n",
        "*   Identifying key time periods or epochs referenced in the text.\n",
        "\n"
      ],
      "metadata": {
        "id": "nzSq69AG0dl6"
      }
    },
    {
      "cell_type": "code",
      "source": [
        "year = [datetime.datetime.strptime(date_string, \"%d-%m-%Y\").year for date_string in formatted]\n",
        "plt.figure(figsize=(18, 6))\n",
        "plt.hist(year, bins=range(min(year), max(year) + 1), color='skyblue')\n",
        "plt.xlabel('Year')\n",
        "plt.ylabel('Frequency')\n",
        "plt.title('Distribution of Years')\n",
        "plt.xticks(range(min(year), max(year) + 1))\n",
        "plt.show()"
      ],
      "metadata": {
        "colab": {
          "base_uri": "https://localhost:8080/",
          "height": 564
        },
        "id": "8woBJB2O0n05",
        "outputId": "b085b10b-37f7-4822-8fc4-b522dca95078"
      },
      "execution_count": 163,
      "outputs": [
        {
          "output_type": "display_data",
          "data": {
            "text/plain": [
              "<Figure size 1800x600 with 1 Axes>"
            ],
            "image/png": "[encoded data removed]"
          },
          "metadata": {}
        }
      ]
    },
    {
      "cell_type": "markdown",
      "source": [
        "**k. Determine whether the text contains any phone numbers in it. Ensure the phone numbers are valid if any. If an invalid phone number is found, remove it from the text.**\n",
        "\n",
        "Identifying and validating phone numbers ensures data integrity and privacy compliance.\n",
        "\n",
        "Possible Applications:\n",
        "*   Extracting contact information for further communication or analysis.\n",
        "*   Ensuring text data quality by removing invalid or irrelevant information.\n",
        "\n"
      ],
      "metadata": {
        "id": "PRsMgZK50hUt"
      }
    },
    {
      "cell_type": "code",
      "source": [
        "import phonenumbers\n",
        "\n",
        "for match in phonenumbers.PhoneNumberMatcher(texts, \"IN\"):\n",
        "    print(match)"
      ],
      "metadata": {
        "colab": {
          "base_uri": "https://localhost:8080/"
        },
        "id": "OAUjMIxMQlo1",
        "outputId": "d72da242-9c8b-4f60-fec3-1fdcf8c6e99b"
      },
      "execution_count": 198,
      "outputs": [
        {
          "output_type": "stream",
          "name": "stdout",
          "text": [
            "PhoneNumberMatch [736,746) 8371031783\n"
          ]
        }
      ]
    },
    {
      "cell_type": "code",
      "source": [
        "# Regular expression to find phone numbers\n",
        "phone_pattern = r'\\+\\d{2}\\s\\d{6}'\n",
        "\n",
        "# Find all phone numbers in the text\n",
        "phone_numbers = re.findall(phone_pattern, text)\n",
        "\n",
        "# Iterate through each phone number, parse and validate it\n",
        "for number in phone_numbers:\n",
        "        parsed_number = phonenumbers.parse(number, 'IN')\n",
        "        if not phonenumbers.is_valid_number(parsed_number):\n",
        "            textb = text.replace(number, '')  # Replace invalid phone number with empty string\n",
        "\n",
        "# Print the modified text\n",
        "print(\"Text with valid phone numbers and specific phone number retained:\")\n",
        "print(textb)"
      ],
      "metadata": {
        "colab": {
          "base_uri": "https://localhost:8080/"
        },
        "id": "lSQVqLLX0om8",
        "outputId": "b779cb33-4f95-491e-f512-18d484810b5c"
      },
      "execution_count": 203,
      "outputs": [
        {
          "output_type": "stream",
          "name": "stdout",
          "text": [
            "Text with valid phone numbers and specific phone number retained:\n",
            "On a balmy evening in May, Sarah Smith, born on September 10, 1995, sat typing furiously at her computer. \n",
            "As an avid enthusiast of natural language processing (NLP), she reveled in dissecting linguistic complexities. \n",
            "Amidst her analysis, Sarah grappled with the intricacies of stop words, deciphering their impact on sentiment analysis. \n",
            "Her email, sarah.smith@example.com, provided a gateway for collaboration among fellow NLP aficionados, fostering discussions on tokenization and stemming techniques. \n",
            "She got viral on X platform on January 22, 2010. Her tweets garnered over 100032424291 likes. She was very overwhelmed and had to get offline from June 23, 2014 and upto May 2, 2017.\n",
            "Despite occasional setbacks, Sarah's determination soared as she meticulously fine-tuned her algorithms. Her twitter account @SarahS was flooded with hashtags such as #NLPQueen #BringingNLPtojustics \n",
            "to enhance data preprocessing. Her phone number, +91 8371031783 and not , served as a conduit for inquiries and invitations to NLP conferences worldwide, propelling her \n",
            "towards new frontiers in language understanding and artificial intelligence. Just like any person, she had her set of haters, but she didn't let them affect her. She is very good at decision-making \n",
            "which comes in handy when you are working with textual data.\n"
          ]
        }
      ]
    }
  ]
}