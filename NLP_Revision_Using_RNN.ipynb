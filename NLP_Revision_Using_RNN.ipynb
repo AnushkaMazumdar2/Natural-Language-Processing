{
  "nbformat": 4,
  "nbformat_minor": 0,
  "metadata": {
    "colab": {
      "provenance": [],
      "authorship_tag": "ABX9TyNr0fxsai94T0h3Tobyi7Jv",
      "include_colab_link": true
    },
    "kernelspec": {
      "name": "python3",
      "display_name": "Python 3"
    },
    "language_info": {
      "name": "python"
    }
  },
  "cells": [
    {
      "cell_type": "markdown",
      "metadata": {
        "id": "view-in-github",
        "colab_type": "text"
      },
      "source": [
        "<a href=\"https://colab.research.google.com/github/AnushkaMazumdar2/Natural-Language-Processing/blob/main/NLP_Revision_Using_RNN.ipynb\" target=\"_parent\"><img src=\"https://colab.research.google.com/assets/colab-badge.svg\" alt=\"Open In Colab\"/></a>"
      ]
    },
    {
      "cell_type": "code",
      "execution_count": null,
      "metadata": {
        "colab": {
          "base_uri": "https://localhost:8080/"
        },
        "id": "T1nSscN8YR4G",
        "outputId": "db753980-bb99-44ce-c1c5-867f998de249"
      },
      "outputs": [
        {
          "output_type": "stream",
          "name": "stdout",
          "text": [
            "Epoch 1/10\n",
            "1/1 [==============================] - 1s 1s/step - loss: 0.7022\n",
            "Epoch 2/10\n",
            "1/1 [==============================] - 0s 27ms/step - loss: 0.4980\n",
            "Epoch 3/10\n",
            "1/1 [==============================] - 0s 26ms/step - loss: 0.2087\n",
            "Epoch 4/10\n",
            "1/1 [==============================] - 0s 30ms/step - loss: 0.0553\n",
            "Epoch 5/10\n",
            "1/1 [==============================] - 0s 29ms/step - loss: 0.0068\n",
            "Epoch 6/10\n",
            "1/1 [==============================] - 0s 28ms/step - loss: 2.7152e-04\n",
            "Epoch 7/10\n",
            "1/1 [==============================] - 0s 27ms/step - loss: 2.0266e-06\n",
            "Epoch 8/10\n",
            "1/1 [==============================] - 0s 29ms/step - loss: 0.0000e+00\n",
            "Epoch 9/10\n",
            "1/1 [==============================] - 0s 26ms/step - loss: 0.0000e+00\n",
            "Epoch 10/10\n",
            "1/1 [==============================] - 0s 31ms/step - loss: 0.0000e+00\n",
            "1/1 [==============================] - 0s 234ms/step\n",
            "world\n"
          ]
        }
      ],
      "source": [
        "import numpy as np\n",
        "import tensorflow as tf\n",
        "\n",
        "# Define the text data\n",
        "text = \"hello world\"\n",
        "\n",
        "# Create a mapping from words to integers\n",
        "word_to_int = {word: i for i, word in enumerate(set(text.split()))}\n",
        "int_to_word = {i: word for word, i in word_to_int.items()}\n",
        "\n",
        "# Convert the text to integers\n",
        "int_text = [word_to_int[word] for word in text.split()]\n",
        "\n",
        "# Define the RNN parameters\n",
        "vocab_size = len(word_to_int)\n",
        "embedding_dim = 256\n",
        "rnn_units = 1024\n",
        "\n",
        "# Define the RNN model\n",
        "model = tf.keras.Sequential([\n",
        "    tf.keras.layers.Embedding(vocab_size, embedding_dim, batch_input_shape=[1, None]),\n",
        "    tf.keras.layers.SimpleRNN(rnn_units, return_sequences=True, stateful=True),\n",
        "    tf.keras.layers.Dense(vocab_size, activation='softmax')\n",
        "])\n",
        "\n",
        "# Compile the model\n",
        "model.compile(optimizer='adam', loss='sparse_categorical_crossentropy')\n",
        "\n",
        "# Train the model\n",
        "model.fit(np.array([int_text[:-1]]), np.array([int_text[1:]]), epochs=10)\n",
        "\n",
        "# Predict the next word\n",
        "input_text = \"hello\"\n",
        "input_int = [word_to_int[word] for word in input_text.split()]\n",
        "predictions = model.predict(np.array([input_int]))\n",
        "next_word = int_to_word[np.argmax(predictions)]\n",
        "print(next_word)"
      ]
    },
    {
      "cell_type": "code",
      "source": [
        "import numpy as np\n",
        "import tensorflow as tf\n",
        "\n",
        "# Define the text data\n",
        "text = \"John works at Google in New York\"\n",
        "\n",
        "# Create a mapping from words to integers\n",
        "word_to_int = {word: i for i, word in enumerate(set(text.split()))}\n",
        "int_to_word = {i: word for word, i in word_to_int.items()}\n",
        "\n",
        "# Convert the text to integers\n",
        "int_text = [word_to_int[word] for word in text.split()]\n",
        "\n",
        "# Define the RNN parameters\n",
        "vocab_size = len(word_to_int)\n",
        "embedding_dim = 256\n",
        "rnn_units = 1024\n",
        "\n",
        "# Define the RNN model\n",
        "model = tf.keras.Sequential([\n",
        "    tf.keras.layers.Embedding(vocab_size, embedding_dim, batch_input_shape=[1, None]),\n",
        "    tf.keras.layers.SimpleRNN(rnn_units, return_sequences=True, stateful=True),\n",
        "    tf.keras.layers.Dense(vocab_size, activation='softmax')\n",
        "])\n",
        "\n",
        "# Compile the model\n",
        "model.compile(optimizer='adam', loss='sparse_categorical_crossentropy')\n",
        "\n",
        "# Train the model\n",
        "model.fit(np.array([int_text[:-1]]), np.array([int_text[1:]]), epochs=10)\n",
        "\n",
        "# Predict the named entities\n",
        "predictions = model.predict(np.array([int_text[:-1]]))\n",
        "named_entities = [int_to_word[i] for i, pred in enumerate(predictions[0, :, 0]) if pred > 0.5]\n",
        "print(named_entities)"
      ],
      "metadata": {
        "colab": {
          "base_uri": "https://localhost:8080/"
        },
        "id": "g2bmsbkgr2tD",
        "outputId": "f329b9e7-be8a-4fb1-eabf-c2db98935630"
      },
      "execution_count": null,
      "outputs": [
        {
          "output_type": "stream",
          "name": "stdout",
          "text": [
            "Epoch 1/10\n",
            "1/1 [==============================] - 2s 2s/step - loss: 1.9099\n",
            "Epoch 2/10\n",
            "1/1 [==============================] - 0s 36ms/step - loss: 1.2279\n",
            "Epoch 3/10\n",
            "1/1 [==============================] - 0s 35ms/step - loss: 0.5809\n",
            "Epoch 4/10\n",
            "1/1 [==============================] - 0s 37ms/step - loss: 0.1098\n",
            "Epoch 5/10\n",
            "1/1 [==============================] - 0s 34ms/step - loss: 3.0687e-04\n",
            "Epoch 6/10\n",
            "1/1 [==============================] - 0s 34ms/step - loss: 3.7153e-06\n",
            "Epoch 7/10\n",
            "1/1 [==============================] - 0s 33ms/step - loss: 7.3512e-07\n",
            "Epoch 8/10\n",
            "1/1 [==============================] - 0s 36ms/step - loss: 4.9671e-07\n",
            "Epoch 9/10\n",
            "1/1 [==============================] - 0s 36ms/step - loss: 6.5565e-07\n",
            "Epoch 10/10\n",
            "1/1 [==============================] - 0s 35ms/step - loss: 1.2914e-06\n",
            "1/1 [==============================] - 0s 148ms/step\n",
            "['works']\n"
          ]
        }
      ]
    },
    {
      "cell_type": "code",
      "source": [
        "import numpy as np\n",
        "import tensorflow as tf\n",
        "from tensorflow.keras.preprocessing.sequence import pad_sequences\n",
        "from tensorflow.keras.utils import to_categorical\n",
        "from sklearn.model_selection import train_test_split\n",
        "# Sample data\n",
        "sentences = [\n",
        "    ['The', 'cat', 'sat', 'on', 'the', 'mat'],\n",
        "    ['The', 'dog', 'barked', 'at', 'the', 'cat']\n",
        "]\n",
        "pos_tags = [\n",
        "    ['DT', 'NN', 'VBD', 'IN', 'DT', 'NN'],\n",
        "    ['DT', 'NN', 'VBD', 'IN', 'DT', 'NN']\n",
        "]\n",
        "# Create word and POS tag dictionaries\n",
        "word2idx = {word: idx + 1 for idx, word in enumerate(set(word for sentence in sentences for word in sentence))}\n",
        "pos2idx = {pos: idx for idx, pos in enumerate(set(pos for tags in pos_tags for pos in tags))}\n",
        "\n",
        "# Convert words and POS tags to numerical representations\n",
        "X = [[word2idx[word] for word in sentence] for sentence in sentences]\n",
        "y = [[pos2idx[pos] for pos in tags] for tags in pos_tags]\n",
        "\n",
        "# Pad sequences to have the same length\n",
        "X = pad_sequences(X)\n",
        "y = pad_sequences(y)\n",
        "\n",
        "# Convert POS tags to one-hot encoding\n",
        "y = to_categorical(y, num_classes=len(pos2idx))\n",
        "X_train, X_test, y_train, y_test = train_test_split(X, y, test_size=0.2, random_state=42)\n",
        "model = tf.keras.Sequential([\n",
        "    tf.keras.layers.Embedding(input_dim=len(word2idx) + 1, output_dim=64, input_length=X.shape[1]),\n",
        "    tf.keras.layers.SimpleRNN(64, return_sequences=True),\n",
        "    tf.keras.layers.TimeDistributed(tf.keras.layers.Dense(len(pos2idx), activation='softmax'))\n",
        "])\n",
        "model.compile(loss='categorical_crossentropy', optimizer='adam', metrics=['accuracy'])\n",
        "model.fit(X_train, y_train, epochs=10, batch_size=32)\n",
        "loss, accuracy = model.evaluate(X_test, y_test)\n",
        "print(f'Loss: {loss}, Accuracy: {accuracy}')\n"
      ],
      "metadata": {
        "colab": {
          "base_uri": "https://localhost:8080/"
        },
        "id": "AwptXgxtswWQ",
        "outputId": "52dca482-1740-47ce-f51c-c0f2c85b7134"
      },
      "execution_count": null,
      "outputs": [
        {
          "output_type": "stream",
          "name": "stdout",
          "text": [
            "Epoch 1/10\n",
            "1/1 [==============================] - 2s 2s/step - loss: 1.3752 - accuracy: 0.0000e+00\n",
            "Epoch 2/10\n",
            "1/1 [==============================] - 0s 14ms/step - loss: 1.3318 - accuracy: 0.5000\n",
            "Epoch 3/10\n",
            "1/1 [==============================] - 0s 12ms/step - loss: 1.2889 - accuracy: 0.5000\n",
            "Epoch 4/10\n",
            "1/1 [==============================] - 0s 13ms/step - loss: 1.2460 - accuracy: 0.8333\n",
            "Epoch 5/10\n",
            "1/1 [==============================] - 0s 11ms/step - loss: 1.2029 - accuracy: 0.8333\n",
            "Epoch 6/10\n",
            "1/1 [==============================] - 0s 12ms/step - loss: 1.1592 - accuracy: 1.0000\n",
            "Epoch 7/10\n",
            "1/1 [==============================] - 0s 12ms/step - loss: 1.1146 - accuracy: 1.0000\n",
            "Epoch 8/10\n",
            "1/1 [==============================] - 0s 13ms/step - loss: 1.0690 - accuracy: 1.0000\n",
            "Epoch 9/10\n",
            "1/1 [==============================] - 0s 17ms/step - loss: 1.0225 - accuracy: 1.0000\n",
            "Epoch 10/10\n",
            "1/1 [==============================] - 0s 15ms/step - loss: 0.9752 - accuracy: 1.0000\n",
            "1/1 [==============================] - 0s 262ms/step - loss: 1.2011 - accuracy: 1.0000\n",
            "Loss: 1.201064944267273, Accuracy: 1.0\n"
          ]
        }
      ]
    }
  ]
}