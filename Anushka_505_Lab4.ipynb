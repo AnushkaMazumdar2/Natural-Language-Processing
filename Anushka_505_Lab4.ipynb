{
  "nbformat": 4,
  "nbformat_minor": 0,
  "metadata": {
    "colab": {
      "provenance": [],
      "authorship_tag": "ABX9TyOMK0HBaQxd7Epvw3RxPzlC",
      "include_colab_link": true
    },
    "kernelspec": {
      "name": "python3",
      "display_name": "Python 3"
    },
    "language_info": {
      "name": "python"
    }
  },
  "cells": [
    {
      "cell_type": "markdown",
      "metadata": {
        "id": "view-in-github",
        "colab_type": "text"
      },
      "source": [
        "<a href=\"https://colab.research.google.com/github/AnushkaMazumdar2/Natural-Language-Processing/blob/main/Anushka_505_Lab4.ipynb\" target=\"_parent\"><img src=\"https://colab.research.google.com/assets/colab-badge.svg\" alt=\"Open In Colab\"/></a>"
      ]
    },
    {
      "cell_type": "code",
      "execution_count": 1,
      "metadata": {
        "colab": {
          "base_uri": "https://localhost:8080/"
        },
        "id": "afmOPUN5NeDs",
        "outputId": "c4caea2a-ee4a-4ec8-b674-8e1123662869"
      },
      "outputs": [
        {
          "output_type": "stream",
          "name": "stderr",
          "text": [
            "[nltk_data] Downloading package wordnet to /root/nltk_data...\n"
          ]
        }
      ],
      "source": [
        "import nltk\n",
        "nltk.download('wordnet')\n",
        "from nltk.corpus import wordnet"
      ]
    },
    {
      "cell_type": "markdown",
      "source": [
        "**a) Find the 3rd meaning of the word in the list.**"
      ],
      "metadata": {
        "id": "Ld4X_i4ET9gU"
      }
    },
    {
      "cell_type": "markdown",
      "source": [
        "Bear"
      ],
      "metadata": {
        "id": "k5JsxJObUSys"
      }
    },
    {
      "cell_type": "code",
      "source": [
        "syns=wordnet.synsets('Bear')\n",
        "print(syns)\n",
        "print(syns[2].name())\n",
        "#Printing the word\n",
        "print(syns[2].lemmas()[0].name())\n",
        "# Definition of the third synset:\n",
        "print(syns[2].definition())\n",
        "# Examples of the word in use in sentences:\n",
        "print(syns[2].examples())"
      ],
      "metadata": {
        "colab": {
          "base_uri": "https://localhost:8080/"
        },
        "id": "-nDde3ipOg7j",
        "outputId": "f6a8968e-b247-40e1-d7d3-b984ac3077ca"
      },
      "execution_count": 4,
      "outputs": [
        {
          "output_type": "stream",
          "name": "stdout",
          "text": [
            "[Synset('bear.n.01'), Synset('bear.n.02'), Synset('bear.v.01'), Synset('give_birth.v.01'), Synset('digest.v.03'), Synset('bear.v.04'), Synset('bear.v.05'), Synset('bear.v.06'), Synset('hold.v.11'), Synset('yield.v.10'), Synset('wear.v.02'), Synset('behave.v.02'), Synset('bear.v.11'), Synset('hold.v.14'), Synset('have_a_bun_in_the_oven.v.01')]\n",
            "bear.v.01\n",
            "bear\n",
            "have\n",
            "['bear a resemblance', 'bear a signature']\n"
          ]
        }
      ]
    },
    {
      "cell_type": "markdown",
      "source": [
        "Set"
      ],
      "metadata": {
        "id": "3U-fppRgUUsX"
      }
    },
    {
      "cell_type": "code",
      "source": [
        "syns=wordnet.synsets('Set')\n",
        "print(syns)\n",
        "print(syns[2].name())\n",
        "#Printing the word\n",
        "print(syns[2].lemmas()[0].name())\n",
        "# Definition of the third synset:\n",
        "print(syns[2].definition())\n",
        "# Examples of the word in use in sentences:\n",
        "print(syns[2].examples())"
      ],
      "metadata": {
        "colab": {
          "base_uri": "https://localhost:8080/"
        },
        "id": "9ty2RaUyURWY",
        "outputId": "9d6fc8f4-3b28-4554-9399-4c93ba05f947"
      },
      "execution_count": 5,
      "outputs": [
        {
          "output_type": "stream",
          "name": "stdout",
          "text": [
            "[Synset('set.n.01'), Synset('set.n.02'), Synset('set.n.03'), Synset('stage_set.n.01'), Synset('set.n.05'), Synset('bent.n.01'), Synset('set.n.07'), Synset('set.n.08'), Synset('hardening.n.02'), Synset('set.n.10'), Synset('set.n.11'), Synset('set.n.12'), Synset('set.n.13'), Synset('put.v.01'), Synset('determine.v.03'), Synset('specify.v.02'), Synset('set.v.04'), Synset('set.v.05'), Synset('set.v.06'), Synset('fix.v.12'), Synset('set.v.08'), Synset('set.v.09'), Synset('set.v.10'), Synset('arrange.v.06'), Synset('plant.v.01'), Synset('set.v.13'), Synset('jell.v.01'), Synset('typeset.v.01'), Synset('set.v.16'), Synset('set.v.17'), Synset('set.v.18'), Synset('sic.v.01'), Synset('place.v.11'), Synset('rig.v.04'), Synset('set_up.v.04'), Synset('adjust.v.01'), Synset('fructify.v.03'), Synset('dress.v.16'), Synset('fit.s.02'), Synset('fixed.s.02'), Synset('located.s.01'), Synset('laid.s.01'), Synset('set.s.05'), Synset('determined.s.04'), Synset('hardened.s.05')]\n",
            "set.n.03\n",
            "set\n",
            "several exercises intended to be done in series\n",
            "['he did four sets of the incline bench press']\n"
          ]
        }
      ]
    },
    {
      "cell_type": "markdown",
      "source": [
        "Square"
      ],
      "metadata": {
        "id": "Pbds8rJhUYcl"
      }
    },
    {
      "cell_type": "code",
      "source": [
        "syns=wordnet.synsets('Square')\n",
        "print(syns)\n",
        "print(syns[2].name())\n",
        "#Printing the word\n",
        "print(syns[2].lemmas()[0].name())\n",
        "# Definition of the third synset:\n",
        "print(syns[2].definition())\n",
        "# Examples of the word in use in sentences:\n",
        "print(syns[2].examples())"
      ],
      "metadata": {
        "colab": {
          "base_uri": "https://localhost:8080/"
        },
        "id": "LNGsc0gNUb3q",
        "outputId": "cfd08800-3ee0-4881-d279-3482d3c10436"
      },
      "execution_count": 6,
      "outputs": [
        {
          "output_type": "stream",
          "name": "stdout",
          "text": [
            "[Synset('square.n.01'), Synset('square.n.02'), Synset('public_square.n.01'), Synset('square.n.04'), Synset('square.n.05'), Synset('square.n.06'), Synset('square.n.07'), Synset('square.n.08'), Synset('square.v.01'), Synset('square.v.02'), Synset('square.v.03'), Synset('square.v.04'), Synset('square.v.05'), Synset('square.v.06'), Synset('feather.v.03'), Synset('feather.v.04'), Synset('square.a.01'), Synset('straight.a.06'), Synset('hearty.s.02'), Synset('square.s.04'), Synset('square.s.05'), Synset('square.s.06'), Synset('squarely.r.02'), Synset('squarely.r.04'), Synset('squarely.r.03')]\n",
            "public_square.n.01\n",
            "public_square\n",
            "an open area at the meeting of two or more streets\n",
            "[]\n"
          ]
        }
      ]
    },
    {
      "cell_type": "markdown",
      "source": [
        "Lead"
      ],
      "metadata": {
        "id": "ugH3Bj0fUc5z"
      }
    },
    {
      "cell_type": "code",
      "source": [
        "syns=wordnet.synsets('Lead')\n",
        "print(syns)\n",
        "print(syns[2].name())\n",
        "#Printing the word\n",
        "print(syns[2].lemmas()[0].name())\n",
        "# Definition of the third synset:\n",
        "print(syns[2].definition())\n",
        "# Examples of the word in use in sentences:\n",
        "print(syns[2].examples())"
      ],
      "metadata": {
        "colab": {
          "base_uri": "https://localhost:8080/"
        },
        "id": "Y5Yp_U6vUd51",
        "outputId": "c823b632-cbf9-4d0a-df5c-72c05c151fe7"
      },
      "execution_count": 7,
      "outputs": [
        {
          "output_type": "stream",
          "name": "stdout",
          "text": [
            "[Synset('lead.n.01'), Synset('lead.n.02'), Synset('lead.n.03'), Synset('lead.n.04'), Synset('lead.n.05'), Synset('lead.n.06'), Synset('lead.n.07'), Synset('star.n.04'), Synset('lead.n.09'), Synset('tip.n.03'), Synset('lead.n.11'), Synset('spark_advance.n.01'), Synset('leash.n.01'), Synset('lead.n.14'), Synset('lead.n.15'), Synset('jumper_cable.n.01'), Synset('lead.n.17'), Synset('lead.v.01'), Synset('leave.v.07'), Synset('lead.v.03'), Synset('lead.v.04'), Synset('lead.v.05'), Synset('run.v.03'), Synset('head.v.02'), Synset('lead.v.08'), Synset('contribute.v.03'), Synset('conduct.v.02'), Synset('go.v.25'), Synset('precede.v.04'), Synset('run.v.23'), Synset('moderate.v.01')]\n",
            "lead.n.03\n",
            "lead\n",
            "evidence pointing to a possible solution\n",
            "['the police are following a promising lead', 'the trail led straight to the perpetrator']\n"
          ]
        }
      ]
    },
    {
      "cell_type": "markdown",
      "source": [
        "Break"
      ],
      "metadata": {
        "id": "OV8AZilGUe7n"
      }
    },
    {
      "cell_type": "code",
      "source": [
        "syns=wordnet.synsets('break')\n",
        "print(syns)\n",
        "print(syns[2].name())\n",
        "#Printing the word\n",
        "print(syns[2].lemmas()[0].name())\n",
        "# Definition of the third synset:\n",
        "print(syns[2].definition())\n",
        "# Examples of the word in use in sentences:\n",
        "print(syns[2].examples())"
      ],
      "metadata": {
        "colab": {
          "base_uri": "https://localhost:8080/"
        },
        "id": "VFpwq96FUgGk",
        "outputId": "6f3b7406-5f45-4189-a699-036676a0b98f"
      },
      "execution_count": 10,
      "outputs": [
        {
          "output_type": "stream",
          "name": "stdout",
          "text": [
            "[Synset('interruption.n.02'), Synset('break.n.02'), Synset('fault.n.04'), Synset('rupture.n.02'), Synset('respite.n.02'), Synset('breakage.n.03'), Synset('pause.n.01'), Synset('fracture.n.01'), Synset('break.n.09'), Synset('break.n.10'), Synset('break.n.11'), Synset('break.n.12'), Synset('break.n.13'), Synset('break.n.14'), Synset('open_frame.n.01'), Synset('break.n.16'), Synset('interrupt.v.04'), Synset('break.v.02'), Synset('break.v.03'), Synset('break.v.04'), Synset('break.v.05'), Synset('transgress.v.01'), Synset('break.v.07'), Synset('break.v.08'), Synset('break.v.09'), Synset('break.v.10'), Synset('break_in.v.01'), Synset('break_in.v.06'), Synset('violate.v.01'), Synset('better.v.01'), Synset('unwrap.v.02'), Synset('break.v.16'), Synset('fail.v.04'), Synset('break.v.18'), Synset('break.v.19'), Synset('break.v.20'), Synset('dampen.v.07'), Synset('break.v.22'), Synset('break.v.23'), Synset('break.v.24'), Synset('break.v.25'), Synset('break.v.26'), Synset('break.v.27'), Synset('break.v.28'), Synset('break.v.29'), Synset('break.v.30'), Synset('separate.v.08'), Synset('demote.v.01'), Synset('bankrupt.v.01'), Synset('break.v.34'), Synset('break.v.35'), Synset('collapse.v.01'), Synset('break_dance.v.01'), Synset('break.v.38'), Synset('break.v.39'), Synset('break.v.40'), Synset('break.v.41'), Synset('break.v.42'), Synset('break.v.43'), Synset('break.v.44'), Synset('break.v.45'), Synset('break.v.46'), Synset('pause.v.02'), Synset('break.v.48'), Synset('break.v.49'), Synset('break.v.50'), Synset('break.v.51'), Synset('break.v.52'), Synset('break.v.53'), Synset('crack.v.01'), Synset('break.v.55'), Synset('break.v.56'), Synset('fracture.v.06'), Synset('break.v.58'), Synset('break.v.59')]\n",
            "fault.n.04\n",
            "fault\n",
            "(geology) a crack in the earth's crust resulting from the displacement of one side with respect to the other\n",
            "['they built it right over a geological fault', \"he studied the faulting of the earth's crust\"]\n"
          ]
        }
      ]
    },
    {
      "cell_type": "markdown",
      "source": [
        "**b) Extract the nouns of the word from the synonyms list.**"
      ],
      "metadata": {
        "id": "Ad-weDIBU9PD"
      }
    },
    {
      "cell_type": "markdown",
      "source": [
        "Bear"
      ],
      "metadata": {
        "id": "F46g7iULVPVl"
      }
    },
    {
      "cell_type": "code",
      "source": [
        "syns=wordnet.synsets('bear', pos=wordnet.NOUN)\n",
        "print(\"The Nouns are:\")\n",
        "for i in syns:\n",
        "  print(i)"
      ],
      "metadata": {
        "colab": {
          "base_uri": "https://localhost:8080/"
        },
        "id": "Q2Mb9KLfVBCh",
        "outputId": "6fa5d6d4-2bc3-4eab-caec-24713f760a2c"
      },
      "execution_count": 16,
      "outputs": [
        {
          "output_type": "stream",
          "name": "stdout",
          "text": [
            "The Nouns are:\n",
            "Synset('bear.n.01')\n",
            "Synset('bear.n.02')\n"
          ]
        }
      ]
    },
    {
      "cell_type": "markdown",
      "source": [
        "Set"
      ],
      "metadata": {
        "id": "F4Ifo7U1VQUr"
      }
    },
    {
      "cell_type": "code",
      "source": [
        "syns=wordnet.synsets('set', pos=wordnet.NOUN)\n",
        "print(\"The Nouns are:\")\n",
        "for i in syns:\n",
        "  print(i)"
      ],
      "metadata": {
        "colab": {
          "base_uri": "https://localhost:8080/"
        },
        "id": "e_Jx2s2YVRT2",
        "outputId": "6ea616ed-3ae8-4472-e021-ab85e0bf9bf7"
      },
      "execution_count": 15,
      "outputs": [
        {
          "output_type": "stream",
          "name": "stdout",
          "text": [
            "The Nouns are:\n",
            "Synset('set.n.01')\n",
            "Synset('set.n.02')\n",
            "Synset('set.n.03')\n",
            "Synset('stage_set.n.01')\n",
            "Synset('set.n.05')\n",
            "Synset('bent.n.01')\n",
            "Synset('set.n.07')\n",
            "Synset('set.n.08')\n",
            "Synset('hardening.n.02')\n",
            "Synset('set.n.10')\n",
            "Synset('set.n.11')\n",
            "Synset('set.n.12')\n",
            "Synset('set.n.13')\n"
          ]
        }
      ]
    },
    {
      "cell_type": "markdown",
      "source": [
        "Square"
      ],
      "metadata": {
        "id": "fqC1GkejVR3E"
      }
    },
    {
      "cell_type": "code",
      "source": [
        "syns=wordnet.synsets('square', pos=wordnet.NOUN)\n",
        "print(\"The Nouns are:\")\n",
        "for i in syns:\n",
        "  print(i)"
      ],
      "metadata": {
        "colab": {
          "base_uri": "https://localhost:8080/"
        },
        "id": "8JVUEm-IVS55",
        "outputId": "6e690c3c-c936-4398-e8a2-ef66238670dc"
      },
      "execution_count": 19,
      "outputs": [
        {
          "output_type": "stream",
          "name": "stdout",
          "text": [
            "The Nouns are:\n",
            "Synset('square.n.01')\n",
            "Synset('square.n.02')\n",
            "Synset('public_square.n.01')\n",
            "Synset('square.n.04')\n",
            "Synset('square.n.05')\n",
            "Synset('square.n.06')\n",
            "Synset('square.n.07')\n",
            "Synset('square.n.08')\n"
          ]
        }
      ]
    },
    {
      "cell_type": "markdown",
      "source": [
        "Lead"
      ],
      "metadata": {
        "id": "cVsA_9NWVTX1"
      }
    },
    {
      "cell_type": "code",
      "source": [
        "syns=wordnet.synsets('lead', pos=wordnet.NOUN)\n",
        "print(\"The Nouns are:\")\n",
        "for i in syns:\n",
        "  print(i)"
      ],
      "metadata": {
        "colab": {
          "base_uri": "https://localhost:8080/"
        },
        "id": "PZp8mFYqVWhS",
        "outputId": "787f50a0-2380-47e9-918e-e3d62ed5864c"
      },
      "execution_count": 18,
      "outputs": [
        {
          "output_type": "stream",
          "name": "stdout",
          "text": [
            "The Nouns are:\n",
            "Synset('lead.n.01')\n",
            "Synset('lead.n.02')\n",
            "Synset('lead.n.03')\n",
            "Synset('lead.n.04')\n",
            "Synset('lead.n.05')\n",
            "Synset('lead.n.06')\n",
            "Synset('lead.n.07')\n",
            "Synset('star.n.04')\n",
            "Synset('lead.n.09')\n",
            "Synset('tip.n.03')\n",
            "Synset('lead.n.11')\n",
            "Synset('spark_advance.n.01')\n",
            "Synset('leash.n.01')\n",
            "Synset('lead.n.14')\n",
            "Synset('lead.n.15')\n",
            "Synset('jumper_cable.n.01')\n",
            "Synset('lead.n.17')\n"
          ]
        }
      ]
    },
    {
      "cell_type": "markdown",
      "source": [
        "Break"
      ],
      "metadata": {
        "id": "nCMwngSWVW_5"
      }
    },
    {
      "cell_type": "code",
      "source": [
        "syns=wordnet.synsets('break', pos=wordnet.NOUN)\n",
        "print(\"The Nouns are:\")\n",
        "for i in syns:\n",
        "  print(i)"
      ],
      "metadata": {
        "colab": {
          "base_uri": "https://localhost:8080/"
        },
        "id": "ERKgLLA2VXuZ",
        "outputId": "93138f08-673f-49b4-dd4f-c7b824f33c3c"
      },
      "execution_count": 17,
      "outputs": [
        {
          "output_type": "stream",
          "name": "stdout",
          "text": [
            "The Nouns are:\n",
            "Synset('interruption.n.02')\n",
            "Synset('break.n.02')\n",
            "Synset('fault.n.04')\n",
            "Synset('rupture.n.02')\n",
            "Synset('respite.n.02')\n",
            "Synset('breakage.n.03')\n",
            "Synset('pause.n.01')\n",
            "Synset('fracture.n.01')\n",
            "Synset('break.n.09')\n",
            "Synset('break.n.10')\n",
            "Synset('break.n.11')\n",
            "Synset('break.n.12')\n",
            "Synset('break.n.13')\n",
            "Synset('break.n.14')\n",
            "Synset('open_frame.n.01')\n",
            "Synset('break.n.16')\n"
          ]
        }
      ]
    },
    {
      "cell_type": "markdown",
      "source": [
        "**c) Extract the verbs of the word from the synonyms list.**"
      ],
      "metadata": {
        "id": "D_ABLynzWD5B"
      }
    },
    {
      "cell_type": "markdown",
      "source": [
        "Bear"
      ],
      "metadata": {
        "id": "jWu1QUHtWLwY"
      }
    },
    {
      "cell_type": "code",
      "source": [
        "syns=wordnet.synsets('bear', pos=wordnet.VERB)\n",
        "print(\"The Verbs are:\")\n",
        "for i in syns:\n",
        "  print(i)"
      ],
      "metadata": {
        "colab": {
          "base_uri": "https://localhost:8080/"
        },
        "id": "4yDRtwz2WLSr",
        "outputId": "fa740743-8ace-4a2f-b44a-72f2bf182530"
      },
      "execution_count": 35,
      "outputs": [
        {
          "output_type": "stream",
          "name": "stdout",
          "text": [
            "The Verbs are:\n",
            "Synset('bear.v.01')\n",
            "Synset('give_birth.v.01')\n",
            "Synset('digest.v.03')\n",
            "Synset('bear.v.04')\n",
            "Synset('bear.v.05')\n",
            "Synset('bear.v.06')\n",
            "Synset('hold.v.11')\n",
            "Synset('yield.v.10')\n",
            "Synset('wear.v.02')\n",
            "Synset('behave.v.02')\n",
            "Synset('bear.v.11')\n",
            "Synset('hold.v.14')\n",
            "Synset('have_a_bun_in_the_oven.v.01')\n"
          ]
        }
      ]
    },
    {
      "cell_type": "markdown",
      "source": [
        "Clear"
      ],
      "metadata": {
        "id": "OC3ia5CvWPhO"
      }
    },
    {
      "cell_type": "code",
      "source": [
        "syns=wordnet.synsets('clear', pos=wordnet.VERB)\n",
        "print(\"The Verbs are:\")\n",
        "for i in syns:\n",
        "  print(i)"
      ],
      "metadata": {
        "colab": {
          "base_uri": "https://localhost:8080/"
        },
        "id": "X388YCOxWQ0u",
        "outputId": "51c2fa9d-25ef-4ef0-d651-9567e18cf6a6"
      },
      "execution_count": 34,
      "outputs": [
        {
          "output_type": "stream",
          "name": "stdout",
          "text": [
            "The Verbs are:\n",
            "Synset('unclutter.v.01')\n",
            "Synset('clear.v.02')\n",
            "Synset('clear_up.v.04')\n",
            "Synset('authorize.v.01')\n",
            "Synset('clear.v.05')\n",
            "Synset('pass.v.09')\n",
            "Synset('clear.v.07')\n",
            "Synset('clear.v.08')\n",
            "Synset('clear.v.09')\n",
            "Synset('clear.v.10')\n",
            "Synset('clear.v.11')\n",
            "Synset('clear.v.12')\n",
            "Synset('net.v.02')\n",
            "Synset('net.v.01')\n",
            "Synset('gain.v.08')\n",
            "Synset('clear.v.16')\n",
            "Synset('clear.v.17')\n",
            "Synset('acquit.v.01')\n",
            "Synset('clear.v.19')\n",
            "Synset('clear.v.20')\n",
            "Synset('clear.v.21')\n",
            "Synset('clear.v.22')\n",
            "Synset('clear.v.23')\n",
            "Synset('clear.v.24')\n"
          ]
        }
      ]
    },
    {
      "cell_type": "markdown",
      "source": [
        "Square"
      ],
      "metadata": {
        "id": "zXw4Z-olWRGC"
      }
    },
    {
      "cell_type": "code",
      "source": [
        "syns=wordnet.synsets('square', pos=wordnet.VERB)\n",
        "print(\"The Verbs are:\")\n",
        "for i in syns:\n",
        "  print(i)"
      ],
      "metadata": {
        "colab": {
          "base_uri": "https://localhost:8080/"
        },
        "id": "fGOzsQeCWSZC",
        "outputId": "880f6b32-17b4-4b90-8bfb-c854aef0d2c4"
      },
      "execution_count": 22,
      "outputs": [
        {
          "output_type": "stream",
          "name": "stdout",
          "text": [
            "The Verbs are:\n",
            "Synset('square.v.01')\n",
            "Synset('square.v.02')\n",
            "Synset('square.v.03')\n",
            "Synset('square.v.04')\n",
            "Synset('square.v.05')\n",
            "Synset('square.v.06')\n",
            "Synset('feather.v.03')\n",
            "Synset('feather.v.04')\n"
          ]
        }
      ]
    },
    {
      "cell_type": "markdown",
      "source": [
        "Lead"
      ],
      "metadata": {
        "id": "9B3KHQjPWS1d"
      }
    },
    {
      "cell_type": "code",
      "source": [
        "syns=wordnet.synsets('lead', pos=wordnet.VERB)\n",
        "print(\"The Verbs are:\")\n",
        "for i in syns:\n",
        "  print(i)"
      ],
      "metadata": {
        "colab": {
          "base_uri": "https://localhost:8080/"
        },
        "id": "QKu1iZ8gWU28",
        "outputId": "9be16fba-2f14-4be2-ead7-f925c29dd964"
      },
      "execution_count": 23,
      "outputs": [
        {
          "output_type": "stream",
          "name": "stdout",
          "text": [
            "The Verbs are:\n",
            "Synset('lead.v.01')\n",
            "Synset('leave.v.07')\n",
            "Synset('lead.v.03')\n",
            "Synset('lead.v.04')\n",
            "Synset('lead.v.05')\n",
            "Synset('run.v.03')\n",
            "Synset('head.v.02')\n",
            "Synset('lead.v.08')\n",
            "Synset('contribute.v.03')\n",
            "Synset('conduct.v.02')\n",
            "Synset('go.v.25')\n",
            "Synset('precede.v.04')\n",
            "Synset('run.v.23')\n",
            "Synset('moderate.v.01')\n"
          ]
        }
      ]
    },
    {
      "cell_type": "markdown",
      "source": [
        "Calm"
      ],
      "metadata": {
        "id": "05JFScgSWVQN"
      }
    },
    {
      "cell_type": "code",
      "source": [
        "syns=wordnet.synsets('calm', pos=wordnet.VERB)\n",
        "print(\"The Verbs are:\")\n",
        "for i in syns:\n",
        "  print(i)"
      ],
      "metadata": {
        "colab": {
          "base_uri": "https://localhost:8080/"
        },
        "id": "SoLq5iqoWWi1",
        "outputId": "72a53930-23c7-4cc9-ba89-4f59e74bf5d3"
      },
      "execution_count": 33,
      "outputs": [
        {
          "output_type": "stream",
          "name": "stdout",
          "text": [
            "The Verbs are:\n",
            "Synset('calm.v.01')\n",
            "Synset('steady.v.01')\n",
            "Synset('calm.v.03')\n",
            "Synset('sedate.v.01')\n"
          ]
        }
      ]
    },
    {
      "cell_type": "markdown",
      "source": [
        "**d) Extract the adjectives of the word from the synonyms list.**"
      ],
      "metadata": {
        "id": "YmhkcV40W41W"
      }
    },
    {
      "cell_type": "markdown",
      "source": [
        "Beautiful"
      ],
      "metadata": {
        "id": "dJvkvpDpYFYt"
      }
    },
    {
      "cell_type": "code",
      "source": [
        "syns=wordnet.synsets('beautiful', pos=wordnet.ADJ)\n",
        "print(\"The Adjectives are:\")\n",
        "for i in syns:\n",
        "  print(i)"
      ],
      "metadata": {
        "colab": {
          "base_uri": "https://localhost:8080/"
        },
        "id": "UokKZBBnW4D_",
        "outputId": "3a74d233-4735-4158-af4c-576fdcf6d2d4"
      },
      "execution_count": 28,
      "outputs": [
        {
          "output_type": "stream",
          "name": "stdout",
          "text": [
            "The Adjectives are:\n",
            "Synset('beautiful.a.01')\n",
            "Synset('beautiful.s.02')\n"
          ]
        }
      ]
    },
    {
      "cell_type": "markdown",
      "source": [
        "Angry"
      ],
      "metadata": {
        "id": "VruClva2YPyH"
      }
    },
    {
      "cell_type": "code",
      "source": [
        "syns=wordnet.synsets('angry', pos=wordnet.ADJ)\n",
        "print(\"The Adjectives are:\")\n",
        "for i in syns:\n",
        "  print(i)"
      ],
      "metadata": {
        "colab": {
          "base_uri": "https://localhost:8080/"
        },
        "id": "27Z9rkRCYQrw",
        "outputId": "3d6fbed7-d915-4806-df3e-fa243d6bc90f"
      },
      "execution_count": 29,
      "outputs": [
        {
          "output_type": "stream",
          "name": "stdout",
          "text": [
            "The Adjectives are:\n",
            "Synset('angry.a.01')\n",
            "Synset('angry.s.02')\n",
            "Synset('angry.s.03')\n"
          ]
        }
      ]
    },
    {
      "cell_type": "markdown",
      "source": [
        "Square"
      ],
      "metadata": {
        "id": "-DIBxZovYOBa"
      }
    },
    {
      "cell_type": "code",
      "source": [
        "syns=wordnet.synsets('square', pos=wordnet.ADJ)\n",
        "print(\"The Adjectives are:\")\n",
        "for i in syns:\n",
        "  print(i)"
      ],
      "metadata": {
        "colab": {
          "base_uri": "https://localhost:8080/"
        },
        "id": "OdlZ-yb_YPEs",
        "outputId": "94fb4d92-95f6-48aa-8417-e712c2d6d52b"
      },
      "execution_count": 31,
      "outputs": [
        {
          "output_type": "stream",
          "name": "stdout",
          "text": [
            "The Adjectives are:\n",
            "Synset('square.a.01')\n",
            "Synset('straight.a.06')\n",
            "Synset('hearty.s.02')\n",
            "Synset('square.s.04')\n",
            "Synset('square.s.05')\n",
            "Synset('square.s.06')\n"
          ]
        }
      ]
    },
    {
      "cell_type": "markdown",
      "source": [
        "Pure"
      ],
      "metadata": {
        "id": "mVuqqfd5YRVb"
      }
    },
    {
      "cell_type": "code",
      "source": [
        "syns=wordnet.synsets('pure', pos=wordnet.ADJ)\n",
        "print(\"The Adjectives are:\")\n",
        "for i in syns:\n",
        "  print(i)"
      ],
      "metadata": {
        "colab": {
          "base_uri": "https://localhost:8080/"
        },
        "id": "u34zNW9yYRuW",
        "outputId": "d0e05224-fb76-458e-eb95-33cc574242b4"
      },
      "execution_count": 30,
      "outputs": [
        {
          "output_type": "stream",
          "name": "stdout",
          "text": [
            "The Adjectives are:\n",
            "Synset('pure.a.01')\n",
            "Synset('arrant.s.01')\n",
            "Synset('saturated.a.03')\n",
            "Synset('pure.s.04')\n",
            "Synset('pure.s.05')\n",
            "Synset('pure.a.06')\n",
            "Synset('pure.s.07')\n"
          ]
        }
      ]
    },
    {
      "cell_type": "markdown",
      "source": [
        "Calm"
      ],
      "metadata": {
        "id": "tIfyuxL6YUOd"
      }
    },
    {
      "cell_type": "code",
      "source": [
        "syns=wordnet.synsets('calm', pos=wordnet.ADJ)\n",
        "print(\"The Adjectives are:\")\n",
        "for i in syns:\n",
        "  print(i)"
      ],
      "metadata": {
        "colab": {
          "base_uri": "https://localhost:8080/"
        },
        "id": "lM0u_yegYT2w",
        "outputId": "0ddee7e4-c6e3-4276-e200-0134363ae8fe"
      },
      "execution_count": 32,
      "outputs": [
        {
          "output_type": "stream",
          "name": "stdout",
          "text": [
            "The Adjectives are:\n",
            "Synset('calm.s.01')\n",
            "Synset('calm.a.02')\n"
          ]
        }
      ]
    },
    {
      "cell_type": "markdown",
      "source": [
        "**e) Extract the adverbs of the word from the synonyms list.**"
      ],
      "metadata": {
        "id": "q-Ge-SjOaDj0"
      }
    },
    {
      "cell_type": "markdown",
      "source": [
        "Ably"
      ],
      "metadata": {
        "id": "TcSFOQAUaI_c"
      }
    },
    {
      "cell_type": "code",
      "source": [
        "syns=wordnet.synsets('Ably', pos=wordnet.ADV)\n",
        "print(\"The Adverbs are:\")\n",
        "for i in syns:\n",
        "  print(i)"
      ],
      "metadata": {
        "colab": {
          "base_uri": "https://localhost:8080/"
        },
        "id": "QL1wpYYJaIRm",
        "outputId": "3381a666-8739-4175-8bd7-a3c8ef0217fb"
      },
      "execution_count": 40,
      "outputs": [
        {
          "output_type": "stream",
          "name": "stdout",
          "text": [
            "The Adverbs are:\n",
            "Synset('competently.r.01')\n"
          ]
        }
      ]
    },
    {
      "cell_type": "markdown",
      "source": [
        "Directly"
      ],
      "metadata": {
        "id": "6HT0_rRza09E"
      }
    },
    {
      "cell_type": "code",
      "source": [
        "syns=wordnet.synsets('directly', pos=wordnet.ADV)\n",
        "print(\"The Adverbs are:\")\n",
        "for i in syns:\n",
        "  print(i)"
      ],
      "metadata": {
        "colab": {
          "base_uri": "https://localhost:8080/"
        },
        "id": "oG7DFbHsa2OY",
        "outputId": "287d2101-2cfd-4804-cc65-976c292571bf"
      },
      "execution_count": 42,
      "outputs": [
        {
          "output_type": "stream",
          "name": "stdout",
          "text": [
            "The Adverbs are:\n",
            "Synset('directly.r.01')\n",
            "Synset('directly.r.02')\n",
            "Synset('immediately.r.01')\n",
            "Synset('directly.r.04')\n"
          ]
        }
      ]
    },
    {
      "cell_type": "markdown",
      "source": [
        "Easy"
      ],
      "metadata": {
        "id": "tLy75Qpoa-0K"
      }
    },
    {
      "cell_type": "code",
      "source": [
        "syns=wordnet.synsets('easy', pos=wordnet.ADV)\n",
        "print(\"The Adverbs are:\")\n",
        "for i in syns:\n",
        "  print(i)"
      ],
      "metadata": {
        "colab": {
          "base_uri": "https://localhost:8080/"
        },
        "id": "rjzc59p-bD8z",
        "outputId": "9d8638a4-2472-4a80-8cea-0ab98166de9a"
      },
      "execution_count": 44,
      "outputs": [
        {
          "output_type": "stream",
          "name": "stdout",
          "text": [
            "The Adverbs are:\n",
            "Synset('easily.r.01')\n",
            "Synset('slowly.r.01')\n",
            "Synset('easy.r.03')\n"
          ]
        }
      ]
    },
    {
      "cell_type": "markdown",
      "source": [
        "Equally"
      ],
      "metadata": {
        "id": "S9rZGQz8bImD"
      }
    },
    {
      "cell_type": "code",
      "source": [
        "syns=wordnet.synsets('equally', pos=wordnet.ADV)\n",
        "print(\"The Adverbs are:\")\n",
        "for i in syns:\n",
        "  print(i)"
      ],
      "metadata": {
        "colab": {
          "base_uri": "https://localhost:8080/"
        },
        "id": "9oCLL1ZNbNb1",
        "outputId": "886815c8-28f8-4d5b-e74e-7123f707db7d"
      },
      "execution_count": 49,
      "outputs": [
        {
          "output_type": "stream",
          "name": "stdout",
          "text": [
            "The Adverbs are:\n",
            "Synset('equally.r.01')\n",
            "Synset('evenly.r.01')\n"
          ]
        }
      ]
    },
    {
      "cell_type": "markdown",
      "source": [
        "Fearfully"
      ],
      "metadata": {
        "id": "OhHh8C1xbbqO"
      }
    },
    {
      "cell_type": "code",
      "source": [
        "syns=wordnet.synsets('fearfully', pos=wordnet.ADV)\n",
        "print(\"The Adverbs are:\")\n",
        "for i in syns:\n",
        "  print(i)"
      ],
      "metadata": {
        "colab": {
          "base_uri": "https://localhost:8080/"
        },
        "id": "uDHM9-6lbozH",
        "outputId": "74e8577a-0140-45bd-e752-71a6b2f6ed45"
      },
      "execution_count": 53,
      "outputs": [
        {
          "output_type": "stream",
          "name": "stdout",
          "text": [
            "The Adverbs are:\n",
            "Synset('fearfully.r.01')\n",
            "Synset('fearfully.r.02')\n"
          ]
        }
      ]
    },
    {
      "cell_type": "markdown",
      "source": [
        "**f) Extract the definition of the word.**"
      ],
      "metadata": {
        "id": "cSQgx9vfcB0x"
      }
    },
    {
      "cell_type": "code",
      "source": [
        "syns=wordnet.synsets('Bear')\n",
        "for i in range(len(syns)):\n",
        "  print(syns[i].name(),\": \",syns[i].definition())"
      ],
      "metadata": {
        "colab": {
          "base_uri": "https://localhost:8080/"
        },
        "id": "JjXtzmCKcGe7",
        "outputId": "e9e68d01-f030-4ce0-8ece-2425952c145d"
      },
      "execution_count": 57,
      "outputs": [
        {
          "output_type": "stream",
          "name": "stdout",
          "text": [
            "bear.n.01 :  massive plantigrade carnivorous or omnivorous mammals with long shaggy coats and strong claws\n",
            "bear.n.02 :  an investor with a pessimistic market outlook; an investor who expects prices to fall and so sells now in order to buy later at a lower price\n",
            "bear.v.01 :  have\n",
            "give_birth.v.01 :  cause to be born\n",
            "digest.v.03 :  put up with something or somebody unpleasant\n",
            "bear.v.04 :  move while holding up or supporting\n",
            "bear.v.05 :  bring forth,\n",
            "bear.v.06 :  take on as one's own the expenses or debts of another person\n",
            "hold.v.11 :  contain or hold; have within\n",
            "yield.v.10 :  bring in\n",
            "wear.v.02 :  have on one's person\n",
            "behave.v.02 :  behave in a certain manner\n",
            "bear.v.11 :  have rightfully; of rights, titles, and offices\n",
            "hold.v.14 :  support or hold in a certain manner\n",
            "have_a_bun_in_the_oven.v.01 :  be pregnant with\n"
          ]
        }
      ]
    },
    {
      "cell_type": "markdown",
      "source": [
        "Set"
      ],
      "metadata": {
        "id": "RnUV6bhzctS5"
      }
    },
    {
      "cell_type": "code",
      "source": [
        "syns=wordnet.synsets('Set')\n",
        "for i in range(len(syns)):\n",
        "  print(syns[i].name(),\": \",syns[i].definition())"
      ],
      "metadata": {
        "colab": {
          "base_uri": "https://localhost:8080/"
        },
        "id": "BhHVt4NDcunm",
        "outputId": "08e36bb3-1c69-449b-f47d-63ee9e474a22"
      },
      "execution_count": 58,
      "outputs": [
        {
          "output_type": "stream",
          "name": "stdout",
          "text": [
            "set.n.01 :  a group of things of the same kind that belong together and are so used\n",
            "set.n.02 :  (mathematics) an abstract collection of numbers or symbols\n",
            "set.n.03 :  several exercises intended to be done in series\n",
            "stage_set.n.01 :  representation consisting of the scenery and other properties used to identify the location of a dramatic production\n",
            "set.n.05 :  an unofficial association of people or groups\n",
            "bent.n.01 :  a relatively permanent inclination to react in a particular way\n",
            "set.n.07 :  the act of putting something in position\n",
            "set.n.08 :  a unit of play in tennis or squash\n",
            "hardening.n.02 :  the process of becoming hard or solid by cooling or drying or crystallization\n",
            "set.n.10 :  evil Egyptian god with the head of a beast that has high square ears and a long snout; brother and murderer of Osiris\n",
            "set.n.11 :  the descent of a heavenly body below the horizon\n",
            "set.n.12 :  (psychology) being temporarily ready to respond in a particular way\n",
            "set.n.13 :  any electronic equipment that receives or transmits radio or tv signals\n",
            "put.v.01 :  put into a certain place or abstract location\n",
            "determine.v.03 :  fix conclusively or authoritatively\n",
            "specify.v.02 :  decide upon or fix definitely\n",
            "set.v.04 :  establish as the highest level or best performance\n",
            "set.v.05 :  put into a certain state; cause to be in a certain state\n",
            "set.v.06 :  fix in a border\n",
            "fix.v.12 :  make ready or suitable or equip in advance for a particular purpose or for some use, event, etc\n",
            "set.v.08 :  set to a certain position or cause to operate correctly\n",
            "set.v.09 :  locate\n",
            "set.v.10 :  disappear beyond the horizon\n",
            "arrange.v.06 :  adapt for performance in a different way\n",
            "plant.v.01 :  put or set (seeds, seedlings, or plants) into the ground\n",
            "set.v.13 :  apply or start\n",
            "jell.v.01 :  become gelatinous\n",
            "typeset.v.01 :  set in type\n",
            "set.v.16 :  put into a position that will restore a normal state\n",
            "set.v.17 :  insert (a nail or screw below the surface, as into a countersink)\n",
            "set.v.18 :  give a fine, sharp edge to a knife or razor\n",
            "sic.v.01 :  urge to attack someone\n",
            "place.v.11 :  estimate\n",
            "rig.v.04 :  equip with sails or masts\n",
            "set_up.v.04 :  get ready for a particular purpose or event\n",
            "adjust.v.01 :  alter or regulate so as to achieve accuracy or conform to a standard\n",
            "fructify.v.03 :  bear fruit\n",
            "dress.v.16 :  arrange attractively\n",
            "fit.s.02 :  (usually followed by `to' or `for') on the point of or strongly disposed\n",
            "fixed.s.02 :  fixed and unmoving; ; - Connor Cruise O'Brien\n",
            "located.s.01 :  situated in a particular spot or position\n",
            "laid.s.01 :  set down according to a plan:\n",
            "set.s.05 :  being below the horizon\n",
            "determined.s.04 :  determined or decided upon as by an authority\n",
            "hardened.s.05 :  converted to solid form (as concrete)\n"
          ]
        }
      ]
    },
    {
      "cell_type": "markdown",
      "source": [
        "Square"
      ],
      "metadata": {
        "id": "oI4A8D4Qcxga"
      }
    },
    {
      "cell_type": "code",
      "source": [
        "syns=wordnet.synsets('square')\n",
        "for i in range(len(syns)):\n",
        "  print(syns[i].name(),\": \",syns[i].definition())"
      ],
      "metadata": {
        "colab": {
          "base_uri": "https://localhost:8080/"
        },
        "id": "bIAGLuWOcy2g",
        "outputId": "43ad5385-d7ee-4273-d0d9-694021849b6c"
      },
      "execution_count": 59,
      "outputs": [
        {
          "output_type": "stream",
          "name": "stdout",
          "text": [
            "square.n.01 :  (geometry) a plane rectangle with four equal sides and four right angles; a four-sided regular polygon\n",
            "square.n.02 :  the product of two equal terms\n",
            "public_square.n.01 :  an open area at the meeting of two or more streets\n",
            "square.n.04 :  something approximating the shape of a square\n",
            "square.n.05 :  someone who doesn't understand what is going on\n",
            "square.n.06 :  a formal and conservative person with old-fashioned views\n",
            "square.n.07 :  any artifact having a shape similar to a plane geometric figure with four equal sides and four right angles\n",
            "square.n.08 :  a hand tool consisting of two straight arms at right angles; used to construct or test right angles\n",
            "square.v.01 :  make square\n",
            "square.v.02 :  raise to the second power\n",
            "square.v.03 :  cause to match, as of ideas or acts\n",
            "square.v.04 :  position so as to be square\n",
            "square.v.05 :  be compatible with\n",
            "square.v.06 :  pay someone and settle a debt\n",
            "feather.v.03 :  turn the paddle; in canoeing\n",
            "feather.v.04 :  turn the oar, while rowing\n",
            "square.a.01 :  having four equal sides and four right angles or forming a right angle\n",
            "straight.a.06 :  characterized by honesty and fairness\n",
            "hearty.s.02 :  providing abundant nourishment\n",
            "square.s.04 :  leaving no balance\n",
            "square.s.05 :  without evasion or compromise\n",
            "square.s.06 :  rigidly conventional or old-fashioned\n",
            "squarely.r.02 :  in a straight direct way\n",
            "squarely.r.04 :  in a square shape\n",
            "squarely.r.03 :  firmly and solidly\n"
          ]
        }
      ]
    },
    {
      "cell_type": "markdown",
      "source": [
        "Lead"
      ],
      "metadata": {
        "id": "y3Gkpedoc1V7"
      }
    },
    {
      "cell_type": "code",
      "source": [
        "syns=wordnet.synsets('Lead')\n",
        "for i in range(len(syns)):\n",
        "  print(syns[i].name(),\": \",syns[i].definition())"
      ],
      "metadata": {
        "colab": {
          "base_uri": "https://localhost:8080/"
        },
        "id": "Le1ISiXjc2yy",
        "outputId": "5885c7e8-ace0-4463-e720-df0eb14ee79c"
      },
      "execution_count": 60,
      "outputs": [
        {
          "output_type": "stream",
          "name": "stdout",
          "text": [
            "lead.n.01 :  an advantage held by a competitor in a race\n",
            "lead.n.02 :  a soft heavy toxic malleable metallic element; bluish white when freshly cut but tarnishes readily to dull grey\n",
            "lead.n.03 :  evidence pointing to a possible solution\n",
            "lead.n.04 :  a position of leadership (especially in the phrase `take the lead')\n",
            "lead.n.05 :  the angle between the direction a gun is aimed and the position of a moving target (correcting for the flight time of the missile)\n",
            "lead.n.06 :  the introductory section of a story\n",
            "lead.n.07 :  (sports) the score by which a team or individual is winning\n",
            "star.n.04 :  an actor who plays a principal role\n",
            "lead.n.09 :  (baseball) the position taken by a base runner preparing to advance to the next base\n",
            "tip.n.03 :  an indication of potential opportunity\n",
            "lead.n.11 :  a news story of major importance\n",
            "spark_advance.n.01 :  the timing of ignition relative to the position of the piston in an internal-combustion engine\n",
            "leash.n.01 :  restraint consisting of a rope (or light chain) used to restrain an animal\n",
            "lead.n.14 :  thin strip of metal used to separate lines of type in printing\n",
            "lead.n.15 :  mixture of graphite with clay in different degrees of hardness; the marking substance in a pencil\n",
            "jumper_cable.n.01 :  a jumper that consists of a short piece of wire\n",
            "lead.n.17 :  the playing of a card to start a trick in bridge\n",
            "lead.v.01 :  take somebody somewhere\n",
            "leave.v.07 :  have as a result or residue\n",
            "lead.v.03 :  tend to or result in\n",
            "lead.v.04 :  travel in front of; go in advance of others\n",
            "lead.v.05 :  cause to undertake a certain action\n",
            "run.v.03 :  stretch out over a distance, space, time, or scope; run or extend between two points or beyond a certain point\n",
            "head.v.02 :  be in charge of\n",
            "lead.v.08 :  be ahead of others; be the first\n",
            "contribute.v.03 :  be conducive to\n",
            "conduct.v.02 :  lead, as in the performance of a composition\n",
            "go.v.25 :  lead, extend, or afford access\n",
            "precede.v.04 :  move ahead (of others) in time or space\n",
            "run.v.23 :  cause something to pass or lead somewhere\n",
            "moderate.v.01 :  preside over\n"
          ]
        }
      ]
    },
    {
      "cell_type": "markdown",
      "source": [
        "Love"
      ],
      "metadata": {
        "id": "fOgtrAylc63z"
      }
    },
    {
      "cell_type": "code",
      "source": [
        "syns=wordnet.synsets('Love')\n",
        "for i in range(len(syns)):\n",
        "  print(syns[i].name(),\": \",syns[i].definition())"
      ],
      "metadata": {
        "colab": {
          "base_uri": "https://localhost:8080/"
        },
        "id": "a8zFYBGzc6hu",
        "outputId": "6f1cdec3-419e-4176-98e0-92915e8163a3"
      },
      "execution_count": 62,
      "outputs": [
        {
          "output_type": "stream",
          "name": "stdout",
          "text": [
            "love.n.01 :  a strong positive emotion of regard and affection\n",
            "love.n.02 :  any object of warm affection or devotion\n",
            "beloved.n.01 :  a beloved person; used as terms of endearment\n",
            "love.n.04 :  a deep feeling of sexual desire and attraction\n",
            "love.n.05 :  a score of zero in tennis or squash\n",
            "sexual_love.n.02 :  sexual activities (often including sexual intercourse) between two people\n",
            "love.v.01 :  have a great affection or liking for\n",
            "love.v.02 :  get pleasure from\n",
            "love.v.03 :  be enamored or in love with\n",
            "sleep_together.v.01 :  have sexual intercourse with\n"
          ]
        }
      ]
    },
    {
      "cell_type": "markdown",
      "source": [
        "**g) Find the hypernyms of each word.**"
      ],
      "metadata": {
        "id": "yitZyvLldHF6"
      }
    },
    {
      "cell_type": "markdown",
      "source": [
        "Bear"
      ],
      "metadata": {
        "id": "pkPk03UHgBb3"
      }
    },
    {
      "cell_type": "code",
      "source": [
        "syns=wordnet.synsets('bear')\n",
        "for i in range(len(syns)):\n",
        "  print(syns[i].name(),\": \",syns[i].hypernyms())"
      ],
      "metadata": {
        "colab": {
          "base_uri": "https://localhost:8080/"
        },
        "id": "FtTk2cPydKhg",
        "outputId": "f0810b2a-8225-4b4d-eb39-a4084613a681"
      },
      "execution_count": 82,
      "outputs": [
        {
          "output_type": "stream",
          "name": "stdout",
          "text": [
            "bear.n.01 :  [Synset('carnivore.n.01')]\n",
            "bear.n.02 :  [Synset('investor.n.01')]\n",
            "bear.v.01 :  [Synset('have.v.02')]\n",
            "give_birth.v.01 :  [Synset('produce.v.01')]\n",
            "digest.v.03 :  [Synset('permit.v.01')]\n",
            "bear.v.04 :  [Synset('transport.v.02')]\n",
            "bear.v.05 :  [Synset('make.v.03')]\n",
            "bear.v.06 :  [Synset('take.v.08')]\n",
            "hold.v.11 :  [Synset('include.v.01')]\n",
            "yield.v.10 :  [Synset('gain.v.08')]\n",
            "wear.v.02 :  [Synset('have.v.02')]\n",
            "behave.v.02 :  [Synset('act.v.01'), Synset('hold.v.14')]\n",
            "bear.v.11 :  [Synset('have.v.01')]\n",
            "hold.v.14 :  []\n",
            "have_a_bun_in_the_oven.v.01 :  [Synset('give_birth.v.01')]\n"
          ]
        }
      ]
    },
    {
      "cell_type": "markdown",
      "source": [
        "Set"
      ],
      "metadata": {
        "id": "dkA4f9h1gAJ3"
      }
    },
    {
      "cell_type": "code",
      "source": [
        "syns=wordnet.synsets('Set')\n",
        "for i in range(len(syns)):\n",
        "  print(syns[i].name(),\": \",syns[i].hypernyms())"
      ],
      "metadata": {
        "colab": {
          "base_uri": "https://localhost:8080/"
        },
        "id": "146FnDtOgE5y",
        "outputId": "abade3b0-71d1-4ce0-bd11-f3242fcd9fbd"
      },
      "execution_count": 83,
      "outputs": [
        {
          "output_type": "stream",
          "name": "stdout",
          "text": [
            "set.n.01 :  [Synset('collection.n.01')]\n",
            "set.n.02 :  [Synset('abstraction.n.06')]\n",
            "set.n.03 :  [Synset('exercise.n.01')]\n",
            "stage_set.n.01 :  [Synset('representation.n.02')]\n",
            "set.n.05 :  [Synset('social_group.n.01')]\n",
            "bent.n.01 :  [Synset('inclination.n.01')]\n",
            "set.n.07 :  [Synset('placement.n.03')]\n",
            "set.n.08 :  [Synset('playing_period.n.01')]\n",
            "hardening.n.02 :  [Synset('natural_process.n.01')]\n",
            "set.n.10 :  []\n",
            "set.n.11 :  [Synset('descent.n.01')]\n",
            "set.n.12 :  [Synset('cognitive_state.n.01')]\n",
            "set.n.13 :  [Synset('electronic_equipment.n.01')]\n",
            "put.v.01 :  [Synset('move.v.02')]\n",
            "determine.v.03 :  []\n",
            "specify.v.02 :  [Synset('choose.v.01')]\n",
            "set.v.04 :  [Synset('lay_down.v.01')]\n",
            "set.v.05 :  [Synset('change.v.01')]\n",
            "set.v.06 :  [Synset('arrange.v.01')]\n",
            "fix.v.12 :  [Synset('change.v.01')]\n",
            "set.v.08 :  [Synset('adjust.v.01')]\n",
            "set.v.09 :  [Synset('stage.v.01')]\n",
            "set.v.10 :  [Synset('descend.v.01')]\n",
            "arrange.v.06 :  [Synset('compose.v.02')]\n",
            "plant.v.01 :  [Synset('put.v.01')]\n",
            "set.v.13 :  [Synset('originate.v.02')]\n",
            "jell.v.01 :  [Synset('solidify.v.02')]\n",
            "typeset.v.01 :  [Synset('print.v.04')]\n",
            "set.v.16 :  [Synset('put.v.01')]\n",
            "set.v.17 :  [Synset('bury.v.05')]\n",
            "set.v.18 :  [Synset('hone.v.01')]\n",
            "sic.v.01 :  [Synset('assail.v.01')]\n",
            "place.v.11 :  [Synset('estimate.v.01')]\n",
            "rig.v.04 :  [Synset('equip.v.01')]\n",
            "set_up.v.04 :  [Synset('fix.v.12')]\n",
            "adjust.v.01 :  [Synset('change.v.01')]\n",
            "fructify.v.03 :  [Synset('reproduce.v.02')]\n",
            "dress.v.16 :  [Synset('groom.v.03')]\n",
            "fit.s.02 :  []\n",
            "fixed.s.02 :  []\n",
            "located.s.01 :  []\n",
            "laid.s.01 :  []\n",
            "set.s.05 :  []\n",
            "determined.s.04 :  []\n",
            "hardened.s.05 :  []\n"
          ]
        }
      ]
    },
    {
      "cell_type": "code",
      "source": [
        "syns=wordnet.synsets('square')\n",
        "for i in range(len(syns)):\n",
        "  print(syns[i].name(),\": \",syns[i].hypernyms())"
      ],
      "metadata": {
        "colab": {
          "base_uri": "https://localhost:8080/"
        },
        "id": "7h77OCMPgIRu",
        "outputId": "de1535e1-68e2-439d-e781-37fee0e8af2d"
      },
      "execution_count": 84,
      "outputs": [
        {
          "output_type": "stream",
          "name": "stdout",
          "text": [
            "square.n.01 :  [Synset('rectangle.n.01'), Synset('regular_polygon.n.01')]\n",
            "square.n.02 :  [Synset('number.n.02')]\n",
            "public_square.n.01 :  [Synset('tract.n.01')]\n",
            "square.n.04 :  [Synset('shape.n.02')]\n",
            "square.n.05 :  [Synset('simpleton.n.01')]\n",
            "square.n.06 :  [Synset('conservative.n.01')]\n",
            "square.n.07 :  [Synset('artifact.n.01')]\n",
            "square.n.08 :  [Synset('hand_tool.n.01')]\n",
            "square.v.01 :  [Synset('shape.v.03')]\n",
            "square.v.02 :  [Synset('multiply.v.01')]\n",
            "square.v.03 :  [Synset('adjust.v.03')]\n",
            "square.v.04 :  [Synset('position.v.01')]\n",
            "square.v.05 :  [Synset('match.v.01')]\n",
            "square.v.06 :  [Synset('settle.v.14')]\n",
            "feather.v.03 :  [Synset('paddle.v.01')]\n",
            "feather.v.04 :  [Synset('row.v.01')]\n",
            "square.a.01 :  []\n",
            "straight.a.06 :  []\n",
            "hearty.s.02 :  []\n",
            "square.s.04 :  []\n",
            "square.s.05 :  []\n",
            "square.s.06 :  []\n",
            "squarely.r.02 :  []\n",
            "squarely.r.04 :  []\n",
            "squarely.r.03 :  []\n"
          ]
        }
      ]
    },
    {
      "cell_type": "code",
      "source": [
        "syns=wordnet.synsets('lead')\n",
        "for i in range(len(syns)):\n",
        "  print(syns[i].name(),\": \",syns[i].hypernyms())"
      ],
      "metadata": {
        "colab": {
          "base_uri": "https://localhost:8080/"
        },
        "id": "gYeddnKUgKVP",
        "outputId": "abebb04f-3857-4262-bab5-cfb1e63cbdbe"
      },
      "execution_count": 85,
      "outputs": [
        {
          "output_type": "stream",
          "name": "stdout",
          "text": [
            "lead.n.01 :  [Synset('advantage.n.01')]\n",
            "lead.n.02 :  [Synset('metallic_element.n.01')]\n",
            "lead.n.03 :  [Synset('evidence.n.01')]\n",
            "lead.n.04 :  [Synset('leadership.n.01')]\n",
            "lead.n.05 :  [Synset('angle.n.01')]\n",
            "lead.n.06 :  [Synset('section.n.01')]\n",
            "lead.n.07 :  [Synset('score.n.03')]\n",
            "star.n.04 :  [Synset('actor.n.01')]\n",
            "lead.n.09 :  [Synset('position.n.01')]\n",
            "tip.n.03 :  [Synset('guidance.n.01')]\n",
            "lead.n.11 :  [Synset('news_article.n.01')]\n",
            "spark_advance.n.01 :  [Synset('timing.n.01')]\n",
            "leash.n.01 :  [Synset('restraint.n.06')]\n",
            "lead.n.14 :  [Synset('strip.n.02')]\n",
            "lead.n.15 :  [Synset('graphite.n.01')]\n",
            "jumper_cable.n.01 :  [Synset('jumper.n.05'), Synset('wire.n.02')]\n",
            "lead.n.17 :  [Synset('turn.n.03')]\n",
            "lead.v.01 :  []\n",
            "leave.v.07 :  [Synset('produce.v.03')]\n",
            "lead.v.03 :  [Synset('leave.v.07')]\n",
            "lead.v.04 :  [Synset('precede.v.04')]\n",
            "lead.v.05 :  [Synset('induce.v.02')]\n",
            "run.v.03 :  [Synset('be.v.03')]\n",
            "head.v.02 :  [Synset('direct.v.04')]\n",
            "lead.v.08 :  []\n",
            "contribute.v.03 :  [Synset('promote.v.01')]\n",
            "conduct.v.02 :  [Synset('perform.v.01')]\n",
            "go.v.25 :  [Synset('be.v.03')]\n",
            "precede.v.04 :  [Synset('travel.v.01')]\n",
            "run.v.23 :  [Synset('pass.v.22')]\n",
            "moderate.v.01 :  [Synset('hash_out.v.01')]\n"
          ]
        }
      ]
    },
    {
      "cell_type": "code",
      "source": [
        "syns=wordnet.synsets('love')\n",
        "for i in range(len(syns)):\n",
        "  print(syns[i].name(),\": \",syns[i].hypernyms())"
      ],
      "metadata": {
        "colab": {
          "base_uri": "https://localhost:8080/"
        },
        "id": "nBde7EYNgMXe",
        "outputId": "17499688-a657-4b88-d00a-c98a5376b3d9"
      },
      "execution_count": 86,
      "outputs": [
        {
          "output_type": "stream",
          "name": "stdout",
          "text": [
            "love.n.01 :  [Synset('emotion.n.01')]\n",
            "love.n.02 :  [Synset('object.n.04')]\n",
            "beloved.n.01 :  [Synset('lover.n.01')]\n",
            "love.n.04 :  [Synset('sexual_desire.n.01')]\n",
            "love.n.05 :  [Synset('score.n.03')]\n",
            "sexual_love.n.02 :  [Synset('sexual_activity.n.01')]\n",
            "love.v.01 :  []\n",
            "love.v.02 :  [Synset('like.v.02')]\n",
            "love.v.03 :  [Synset('love.v.01')]\n",
            "sleep_together.v.01 :  [Synset('copulate.v.01')]\n"
          ]
        }
      ]
    },
    {
      "cell_type": "markdown",
      "source": [
        "**h) Find the hyponyms of each word.**"
      ],
      "metadata": {
        "id": "ZYGb2rYEgPMd"
      }
    },
    {
      "cell_type": "code",
      "source": [
        "syns=wordnet.synsets('bear')\n",
        "for i in range(len(syns)):\n",
        "  print(syns[i].name(),\": \",syns[i].hyponyms())"
      ],
      "metadata": {
        "colab": {
          "base_uri": "https://localhost:8080/"
        },
        "id": "hDadThSlgSS4",
        "outputId": "2fb76ca3-4f55-4cb5-d6ab-838d1f223040"
      },
      "execution_count": 87,
      "outputs": [
        {
          "output_type": "stream",
          "name": "stdout",
          "text": [
            "bear.n.01 :  [Synset('american_black_bear.n.01'), Synset('asiatic_black_bear.n.01'), Synset('bear_cub.n.01'), Synset('brown_bear.n.01'), Synset('bruin.n.01'), Synset('ice_bear.n.01'), Synset('sloth_bear.n.01')]\n",
            "bear.n.02 :  []\n",
            "bear.v.01 :  [Synset('carry.v.26')]\n",
            "give_birth.v.01 :  [Synset('calve.v.02'), Synset('cub.v.01'), Synset('drop.v.23'), Synset('farrow.v.01'), Synset('fawn.v.03'), Synset('foal.v.01'), Synset('have_a_bun_in_the_oven.v.01'), Synset('kitten.v.01'), Synset('lamb.v.01'), Synset('litter.v.03'), Synset('twin.v.04'), Synset('whelp.v.01')]\n",
            "digest.v.03 :  [Synset('accept.v.07'), Synset('bear_up.v.01'), Synset('pay.v.09'), Synset('sit_out.v.02'), Synset('stand_for.v.04'), Synset('take_a_joke.v.01'), Synset('take_lying_down.v.01')]\n",
            "bear.v.04 :  [Synset('frogmarch.v.02')]\n",
            "bear.v.05 :  [Synset('crop.v.03'), Synset('fruit.v.02'), Synset('overbear.v.02'), Synset('seed.v.03'), Synset('spin_off.v.01')]\n",
            "bear.v.06 :  [Synset('face_the_music.v.01')]\n",
            "hold.v.11 :  [Synset('enclose.v.02'), Synset('retain.v.01')]\n",
            "yield.v.10 :  [Synset('net.v.02'), Synset('pay_off.v.01')]\n",
            "wear.v.02 :  []\n",
            "behave.v.02 :  [Synset('assert.v.03'), Synset('deal.v.08'), Synset('fluster.v.01'), Synset('pose.v.04'), Synset('walk_around.v.03')]\n",
            "bear.v.11 :  []\n",
            "hold.v.14 :  [Synset('behave.v.02'), Synset('piggyback.v.04'), Synset('poise.v.04'), Synset('sling.v.04'), Synset('stoop.v.05')]\n",
            "have_a_bun_in_the_oven.v.01 :  []\n"
          ]
        }
      ]
    },
    {
      "cell_type": "code",
      "source": [
        "syns=wordnet.synsets('set')\n",
        "for i in range(len(syns)):\n",
        "  print(syns[i].name(),\": \",syns[i].hyponyms())"
      ],
      "metadata": {
        "colab": {
          "base_uri": "https://localhost:8080/"
        },
        "id": "heqaxjMCgYvL",
        "outputId": "a36b1392-9c7e-41c4-f23f-a2c9d2e9aa17"
      },
      "execution_count": 88,
      "outputs": [
        {
          "output_type": "stream",
          "name": "stdout",
          "text": [
            "set.n.01 :  [Synset('bracket.n.01'), Synset('chess_set.n.01'), Synset('choir.n.02'), Synset('conjugation.n.03'), Synset('core.n.01'), Synset('dentition.n.02'), Synset('field.n.12'), Synset('field.n.13'), Synset('field.n.15'), Synset('intersection.n.04'), Synset('manicure_set.n.01'), Synset('octet.n.03'), Synset('pair.n.01'), Synset('portfolio.n.02'), Synset('quartet.n.03'), Synset('quintet.n.04'), Synset('score.n.04'), Synset('septet.n.03'), Synset('sextet.n.04'), Synset('singleton.n.02'), Synset('suite.n.04'), Synset('synset.n.01'), Synset('threescore.n.01'), Synset('trio.n.04'), Synset('union.n.08')]\n",
            "set.n.02 :  [Synset('diagonal.n.04'), Synset('domain.n.03'), Synset('field.n.10'), Synset('group.n.03'), Synset('image.n.07'), Synset('intersection.n.03'), Synset('interval.n.02'), Synset('locus.n.03'), Synset('mandelbrot_set.n.01'), Synset('mathematical_space.n.01'), Synset('null_set.n.01'), Synset('solution.n.04'), Synset('subset.n.01'), Synset('universal_set.n.01')]\n",
            "set.n.03 :  []\n",
            "stage_set.n.01 :  [Synset('scenery.n.01')]\n",
            "set.n.05 :  [Synset('car_pool.n.01'), Synset('clique.n.01'), Synset('cohort.n.02'), Synset('conspiracy.n.03'), Synset('four_hundred.n.01'), Synset('horsy_set.n.01'), Synset('jet_set.n.01'), Synset('party.n.03')]\n",
            "bent.n.01 :  []\n",
            "set.n.07 :  []\n",
            "set.n.08 :  []\n",
            "hardening.n.02 :  [Synset('congealment.n.01')]\n",
            "set.n.10 :  []\n",
            "set.n.11 :  []\n",
            "set.n.12 :  []\n",
            "set.n.13 :  [Synset('receiver.n.01'), Synset('transmitter.n.03')]\n",
            "put.v.01 :  [Synset('appose.v.01'), Synset('arrange.v.01'), Synset('barrel.v.01'), Synset('bed.v.03'), Synset('bottle.v.02'), Synset('bucket.v.01'), Synset('butt.v.03'), Synset('clap.v.01'), Synset('cock.v.02'), Synset('coffin.v.01'), Synset('cram.v.02'), Synset('dispose.v.04'), Synset('docket.v.01'), Synset('emplace.v.01'), Synset('emplace.v.02'), Synset('ensconce.v.01'), Synset('glycerolize.v.01'), Synset('ground.v.03'), Synset('imbricate.v.01'), Synset('insert.v.02'), Synset('install.v.01'), Synset('intersperse.v.01'), Synset('jar.v.05'), Synset('juxtapose.v.01'), Synset('ladle.v.01'), Synset('lay.v.02'), Synset('lean.v.02'), Synset('load.v.04'), Synset('marshal.v.01'), Synset('middle.v.01'), Synset('misplace.v.01'), Synset('misplace.v.02'), Synset('nestle.v.03'), Synset('parallelize.v.01'), Synset('park.v.01'), Synset('perch.v.03'), Synset('pigeonhole.v.01'), Synset('pile.v.03'), Synset('pillow.v.01'), Synset('plant.v.01'), Synset('plant.v.05'), Synset('poise.v.03'), Synset('position.v.01'), Synset('postpose.v.01'), Synset('prepose.v.01'), Synset('rack_up.v.02'), Synset('recess.v.01'), Synset('recline.v.02'), Synset('replace.v.03'), Synset('repose.v.06'), Synset('reposition.v.02'), Synset('rest.v.08'), Synset('seat.v.01'), Synset('seat.v.06'), Synset('seat.v.07'), Synset('set.v.16'), Synset('set_down.v.03'), Synset('set_down.v.04'), Synset('settle.v.01'), Synset('shelve.v.02'), Synset('ship.v.05'), Synset('sign.v.06'), Synset('siphon.v.02'), Synset('situate.v.02'), Synset('sow.v.01'), Synset('space.v.01'), Synset('stand.v.10'), Synset('step.v.08'), Synset('stratify.v.04'), Synset('superimpose.v.01'), Synset('superpose.v.01'), Synset('tee.v.01'), Synset('throw.v.04'), Synset('throw.v.08'), Synset('trench.v.04'), Synset('underlay.v.02'), Synset('upend.v.02')]\n",
            "determine.v.03 :  [Synset('charge.v.22'), Synset('date.v.03'), Synset('filiate.v.01'), Synset('format.v.02'), Synset('identify.v.01'), Synset('initialize.v.01'), Synset('price.v.01'), Synset('tax.v.02'), Synset('value.v.01')]\n",
            "specify.v.02 :  [Synset('define.v.02'), Synset('name.v.05'), Synset('quantify.v.01'), Synset('reset.v.01')]\n",
            "set.v.04 :  []\n",
            "set.v.05 :  [Synset('keynote.v.01'), Synset('pitch.v.04')]\n",
            "set.v.06 :  []\n",
            "fix.v.12 :  [Synset('brace.v.01'), Synset('cram.v.04'), Synset('cultivate.v.02'), Synset('fix.v.07'), Synset('mount.v.03'), Synset('precondition.v.01'), Synset('prime.v.01'), Synset('provide.v.07'), Synset('set_up.v.04'), Synset('socialize.v.03'), Synset('summerize.v.01'), Synset('winterize.v.01')]\n",
            "set.v.08 :  [Synset('advance.v.11'), Synset('reset.v.02')]\n",
            "set.v.09 :  []\n",
            "set.v.10 :  []\n",
            "arrange.v.06 :  [Synset('prearrange.v.01'), Synset('put.v.08'), Synset('table.v.02'), Synset('transpose.v.05')]\n",
            "plant.v.01 :  [Synset('afforest.v.01'), Synset('bed.v.02'), Synset('checkrow.v.01'), Synset('dibble.v.01'), Synset('puddle.v.03'), Synset('replant.v.01'), Synset('root.v.03'), Synset('tree.v.02')]\n",
            "set.v.13 :  []\n",
            "jell.v.01 :  []\n",
            "typeset.v.01 :  []\n",
            "set.v.16 :  []\n",
            "set.v.17 :  []\n",
            "set.v.18 :  []\n",
            "sic.v.01 :  []\n",
            "place.v.11 :  []\n",
            "rig.v.04 :  []\n",
            "set_up.v.04 :  []\n",
            "adjust.v.01 :  [Synset('align.v.04'), Synset('attune.v.01'), Synset('calibrate.v.01'), Synset('citify.v.01'), Synset('depressurize.v.01'), Synset('focus.v.05'), Synset('harmonize.v.05'), Synset('justify.v.05'), Synset('linearize.v.01'), Synset('match.v.05'), Synset('modulate.v.04'), Synset('plumb.v.04'), Synset('pressurize.v.03'), Synset('proportion.v.02'), Synset('readjust.v.02'), Synset('regulate.v.01'), Synset('set.v.08'), Synset('synchronize.v.01'), Synset('temper.v.03'), Synset('time.v.04'), Synset('time.v.05'), Synset('trim.v.09'), Synset('tune.v.01'), Synset('tune.v.02'), Synset('zero.v.01'), Synset('zero.v.02')]\n",
            "fructify.v.03 :  []\n",
            "dress.v.16 :  [Synset('bob.v.05'), Synset('wave.v.05')]\n",
            "fit.s.02 :  []\n",
            "fixed.s.02 :  []\n",
            "located.s.01 :  []\n",
            "laid.s.01 :  []\n",
            "set.s.05 :  []\n",
            "determined.s.04 :  []\n",
            "hardened.s.05 :  []\n"
          ]
        }
      ]
    },
    {
      "cell_type": "code",
      "source": [
        "syns=wordnet.synsets('square')\n",
        "for i in range(len(syns)):\n",
        "  print(syns[i].name(),\": \",syns[i].hyponyms())"
      ],
      "metadata": {
        "colab": {
          "base_uri": "https://localhost:8080/"
        },
        "id": "5y2gkuTggdDs",
        "outputId": "4a94ee34-29fa-4320-9597-ef8a86a2335b"
      },
      "execution_count": 89,
      "outputs": [
        {
          "output_type": "stream",
          "name": "stdout",
          "text": [
            "square.n.01 :  [Synset('quadrate.n.02')]\n",
            "square.n.02 :  []\n",
            "public_square.n.01 :  [Synset('plaza.n.01')]\n",
            "square.n.04 :  []\n",
            "square.n.05 :  []\n",
            "square.n.06 :  []\n",
            "square.n.07 :  []\n",
            "square.n.08 :  [Synset('carpenter's_square.n.01'), Synset('t-square.n.01'), Synset('try_square.n.01')]\n",
            "square.v.01 :  []\n",
            "square.v.02 :  []\n",
            "square.v.03 :  []\n",
            "square.v.04 :  [Synset('square_up.v.02')]\n",
            "square.v.05 :  []\n",
            "square.v.06 :  []\n",
            "feather.v.03 :  []\n",
            "feather.v.04 :  []\n",
            "square.a.01 :  []\n",
            "straight.a.06 :  []\n",
            "hearty.s.02 :  []\n",
            "square.s.04 :  []\n",
            "square.s.05 :  []\n",
            "square.s.06 :  []\n",
            "squarely.r.02 :  []\n",
            "squarely.r.04 :  []\n",
            "squarely.r.03 :  []\n"
          ]
        }
      ]
    },
    {
      "cell_type": "code",
      "source": [
        "syns=wordnet.synsets('lead')\n",
        "for i in range(len(syns)):\n",
        "  print(syns[i].name(),\": \",syns[i].hyponyms())"
      ],
      "metadata": {
        "colab": {
          "base_uri": "https://localhost:8080/"
        },
        "id": "mSWhkh03ghmz",
        "outputId": "6975d9da-5487-49d1-c4d2-c868c3175bca"
      },
      "execution_count": 90,
      "outputs": [
        {
          "output_type": "stream",
          "name": "stdout",
          "text": [
            "lead.n.01 :  []\n",
            "lead.n.02 :  [Synset('hard_lead.n.01'), Synset('hard_lead.n.02'), Synset('pig_lead.n.01')]\n",
            "lead.n.03 :  []\n",
            "lead.n.04 :  []\n",
            "lead.n.05 :  []\n",
            "lead.n.06 :  []\n",
            "lead.n.07 :  []\n",
            "star.n.04 :  [Synset('co-star.n.01'), Synset('film_star.n.01'), Synset('idol.n.02'), Synset('television_star.n.01')]\n",
            "lead.n.09 :  []\n",
            "tip.n.03 :  []\n",
            "lead.n.11 :  []\n",
            "spark_advance.n.01 :  []\n",
            "leash.n.01 :  []\n",
            "lead.n.14 :  []\n",
            "lead.n.15 :  []\n",
            "jumper_cable.n.01 :  [Synset('clip_lead.n.01')]\n",
            "lead.n.17 :  []\n",
            "lead.v.01 :  [Synset('beacon.v.02'), Synset('hand.v.02'), Synset('mislead.v.01'), Synset('usher.v.01')]\n",
            "leave.v.07 :  [Synset('lead.v.03')]\n",
            "lead.v.03 :  [Synset('entail.v.02'), Synset('necessitate.v.02')]\n",
            "lead.v.04 :  [Synset('draw_away.v.01')]\n",
            "lead.v.05 :  [Synset('give.v.39')]\n",
            "run.v.03 :  [Synset('come.v.09'), Synset('go_far.v.02'), Synset('radiate.v.03')]\n",
            "head.v.02 :  [Synset('captain.v.01'), Synset('chair.v.01'), Synset('spearhead.v.01'), Synset('take_hold.v.01')]\n",
            "lead.v.08 :  []\n",
            "contribute.v.03 :  []\n",
            "conduct.v.02 :  []\n",
            "go.v.25 :  []\n",
            "precede.v.04 :  [Synset('lead.v.04')]\n",
            "run.v.23 :  []\n",
            "moderate.v.01 :  []\n"
          ]
        }
      ]
    },
    {
      "cell_type": "code",
      "source": [
        "syns=wordnet.synsets('love')\n",
        "for i in range(len(syns)):\n",
        "  print(syns[i].name(),\": \",syns[i].hyponyms())"
      ],
      "metadata": {
        "colab": {
          "base_uri": "https://localhost:8080/"
        },
        "id": "xpPgsGjJgmHJ",
        "outputId": "fffdefb3-30dd-4f38-9475-4198eb8ca58b"
      },
      "execution_count": 91,
      "outputs": [
        {
          "output_type": "stream",
          "name": "stdout",
          "text": [
            "love.n.01 :  [Synset('agape.n.01'), Synset('agape.n.02'), Synset('amorousness.n.01'), Synset('ardor.n.02'), Synset('benevolence.n.01'), Synset('devotion.n.01'), Synset('filial_love.n.01'), Synset('heartstrings.n.01'), Synset('lovingness.n.01'), Synset('loyalty.n.02'), Synset('puppy_love.n.01'), Synset('worship.n.02')]\n",
            "love.n.02 :  []\n",
            "beloved.n.01 :  []\n",
            "love.n.04 :  []\n",
            "love.n.05 :  []\n",
            "sexual_love.n.02 :  []\n",
            "love.v.01 :  [Synset('adore.v.01'), Synset('care_for.v.02'), Synset('dote.v.02'), Synset('love.v.03')]\n",
            "love.v.02 :  [Synset('get_off.v.06')]\n",
            "love.v.03 :  [Synset('romance.v.02')]\n",
            "sleep_together.v.01 :  [Synset('fornicate.v.01'), Synset('take.v.35')]\n"
          ]
        }
      ]
    },
    {
      "cell_type": "markdown",
      "source": [
        "i) Find the similarities of any two hyponyms of a word."
      ],
      "metadata": {
        "id": "oL5-P7qygtrg"
      }
    },
    {
      "cell_type": "code",
      "source": [
        "red_synsets = wordnet.synsets('trust')\n",
        "red_hyponyms = set()\n",
        "for synset in red_synsets:\n",
        "    for hyponym in synset.hyponyms():\n",
        "        red_hyponyms.add(hyponym)\n",
        "\n",
        "# Choose any two hyponyms\n",
        "hyponym1 = list(red_hyponyms)[0]\n",
        "hyponym2 = list(red_hyponyms)[1]\n",
        "\n",
        "# Calculate similarity between the two chosen hyponyms\n",
        "similarity = hyponym1.path_similarity(hyponym2)\n",
        "\n",
        "print(\"Similarity between {} and {}: {}\".format(hyponym1, hyponym2, similarity))"
      ],
      "metadata": {
        "colab": {
          "base_uri": "https://localhost:8080/",
          "height": 219
        },
        "id": "tYB8_c20gxGs",
        "outputId": "f4c2b633-d299-429d-a59e-ef220e82163f"
      },
      "execution_count": 108,
      "outputs": [
        {
          "output_type": "error",
          "ename": "TypeError",
          "evalue": "'list' object is not callable",
          "traceback": [
            "\u001b[0;31m---------------------------------------------------------------------------\u001b[0m",
            "\u001b[0;31mTypeError\u001b[0m                                 Traceback (most recent call last)",
            "\u001b[0;32m<ipython-input-108-ad4bc62366ca>\u001b[0m in \u001b[0;36m<cell line: 8>\u001b[0;34m()\u001b[0m\n\u001b[1;32m      6\u001b[0m \u001b[0;34m\u001b[0m\u001b[0m\n\u001b[1;32m      7\u001b[0m \u001b[0;31m# Choose any two hyponyms\u001b[0m\u001b[0;34m\u001b[0m\u001b[0;34m\u001b[0m\u001b[0m\n\u001b[0;32m----> 8\u001b[0;31m \u001b[0mhyponym1\u001b[0m \u001b[0;34m=\u001b[0m \u001b[0mlist\u001b[0m\u001b[0;34m(\u001b[0m\u001b[0mred_hyponyms\u001b[0m\u001b[0;34m)\u001b[0m\u001b[0;34m[\u001b[0m\u001b[0;36m0\u001b[0m\u001b[0;34m]\u001b[0m\u001b[0;34m\u001b[0m\u001b[0;34m\u001b[0m\u001b[0m\n\u001b[0m\u001b[1;32m      9\u001b[0m \u001b[0mhyponym2\u001b[0m \u001b[0;34m=\u001b[0m \u001b[0mlist\u001b[0m\u001b[0;34m(\u001b[0m\u001b[0mred_hyponyms\u001b[0m\u001b[0;34m)\u001b[0m\u001b[0;34m[\u001b[0m\u001b[0;36m1\u001b[0m\u001b[0;34m]\u001b[0m\u001b[0;34m\u001b[0m\u001b[0;34m\u001b[0m\u001b[0m\n\u001b[1;32m     10\u001b[0m \u001b[0;34m\u001b[0m\u001b[0m\n",
            "\u001b[0;31mTypeError\u001b[0m: 'list' object is not callable"
          ]
        }
      ]
    }
  ]
}