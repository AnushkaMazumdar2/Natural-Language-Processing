{
  "nbformat": 4,
  "nbformat_minor": 0,
  "metadata": {
    "colab": {
      "provenance": [],
      "gpuType": "T4",
      "authorship_tag": "ABX9TyOeuhJNZvlyolXVxCSW5lN6",
      "include_colab_link": true
    },
    "kernelspec": {
      "name": "python3",
      "display_name": "Python 3"
    },
    "language_info": {
      "name": "python"
    },
    "accelerator": "GPU",
    "widgets": {
      "application/vnd.jupyter.widget-state+json": {
        "6c71f2b266634313b683ee665862eb71": {
          "model_module": "@jupyter-widgets/controls",
          "model_name": "HBoxModel",
          "model_module_version": "1.5.0",
          "state": {
            "_dom_classes": [],
            "_model_module": "@jupyter-widgets/controls",
            "_model_module_version": "1.5.0",
            "_model_name": "HBoxModel",
            "_view_count": null,
            "_view_module": "@jupyter-widgets/controls",
            "_view_module_version": "1.5.0",
            "_view_name": "HBoxView",
            "box_style": "",
            "children": [
              "IPY_MODEL_f150f8d2a83e48f58989b3bbd09d38d4",
              "IPY_MODEL_4cb0a46852944bb3beb2a99ec7d08b64",
              "IPY_MODEL_08612768f4694786bb146e6c2180009a"
            ],
            "layout": "IPY_MODEL_63fe08f27c7c4dd3aaaf30c385e1cafb"
          }
        },
        "f150f8d2a83e48f58989b3bbd09d38d4": {
          "model_module": "@jupyter-widgets/controls",
          "model_name": "HTMLModel",
          "model_module_version": "1.5.0",
          "state": {
            "_dom_classes": [],
            "_model_module": "@jupyter-widgets/controls",
            "_model_module_version": "1.5.0",
            "_model_name": "HTMLModel",
            "_view_count": null,
            "_view_module": "@jupyter-widgets/controls",
            "_view_module_version": "1.5.0",
            "_view_name": "HTMLView",
            "description": "",
            "description_tooltip": null,
            "layout": "IPY_MODEL_5084e05f24854841a1ca77ae32ec978f",
            "placeholder": "​",
            "style": "IPY_MODEL_cc4ecee199ad47eeaefb5aa03dc7c58a",
            "value": "Downloading https://raw.githubusercontent.com/stanfordnlp/stanza-resources/main/resources_1.8.0.json: "
          }
        },
        "4cb0a46852944bb3beb2a99ec7d08b64": {
          "model_module": "@jupyter-widgets/controls",
          "model_name": "FloatProgressModel",
          "model_module_version": "1.5.0",
          "state": {
            "_dom_classes": [],
            "_model_module": "@jupyter-widgets/controls",
            "_model_module_version": "1.5.0",
            "_model_name": "FloatProgressModel",
            "_view_count": null,
            "_view_module": "@jupyter-widgets/controls",
            "_view_module_version": "1.5.0",
            "_view_name": "ProgressView",
            "bar_style": "success",
            "description": "",
            "description_tooltip": null,
            "layout": "IPY_MODEL_a0c538d3dc5e4fbfbb313fcc72cdf72c",
            "max": 46620,
            "min": 0,
            "orientation": "horizontal",
            "style": "IPY_MODEL_57808cd7dd3045fd87b4ad0d9dd6a79d",
            "value": 46620
          }
        },
        "08612768f4694786bb146e6c2180009a": {
          "model_module": "@jupyter-widgets/controls",
          "model_name": "HTMLModel",
          "model_module_version": "1.5.0",
          "state": {
            "_dom_classes": [],
            "_model_module": "@jupyter-widgets/controls",
            "_model_module_version": "1.5.0",
            "_model_name": "HTMLModel",
            "_view_count": null,
            "_view_module": "@jupyter-widgets/controls",
            "_view_module_version": "1.5.0",
            "_view_name": "HTMLView",
            "description": "",
            "description_tooltip": null,
            "layout": "IPY_MODEL_235c1f8c07d74ebc81d2dbe860ff5a94",
            "placeholder": "​",
            "style": "IPY_MODEL_0351809ad1084b57be1a4e9ab1ade316",
            "value": " 373k/? [00:00&lt;00:00, 5.65MB/s]"
          }
        },
        "63fe08f27c7c4dd3aaaf30c385e1cafb": {
          "model_module": "@jupyter-widgets/base",
          "model_name": "LayoutModel",
          "model_module_version": "1.2.0",
          "state": {
            "_model_module": "@jupyter-widgets/base",
            "_model_module_version": "1.2.0",
            "_model_name": "LayoutModel",
            "_view_count": null,
            "_view_module": "@jupyter-widgets/base",
            "_view_module_version": "1.2.0",
            "_view_name": "LayoutView",
            "align_content": null,
            "align_items": null,
            "align_self": null,
            "border": null,
            "bottom": null,
            "display": null,
            "flex": null,
            "flex_flow": null,
            "grid_area": null,
            "grid_auto_columns": null,
            "grid_auto_flow": null,
            "grid_auto_rows": null,
            "grid_column": null,
            "grid_gap": null,
            "grid_row": null,
            "grid_template_areas": null,
            "grid_template_columns": null,
            "grid_template_rows": null,
            "height": null,
            "justify_content": null,
            "justify_items": null,
            "left": null,
            "margin": null,
            "max_height": null,
            "max_width": null,
            "min_height": null,
            "min_width": null,
            "object_fit": null,
            "object_position": null,
            "order": null,
            "overflow": null,
            "overflow_x": null,
            "overflow_y": null,
            "padding": null,
            "right": null,
            "top": null,
            "visibility": null,
            "width": null
          }
        },
        "5084e05f24854841a1ca77ae32ec978f": {
          "model_module": "@jupyter-widgets/base",
          "model_name": "LayoutModel",
          "model_module_version": "1.2.0",
          "state": {
            "_model_module": "@jupyter-widgets/base",
            "_model_module_version": "1.2.0",
            "_model_name": "LayoutModel",
            "_view_count": null,
            "_view_module": "@jupyter-widgets/base",
            "_view_module_version": "1.2.0",
            "_view_name": "LayoutView",
            "align_content": null,
            "align_items": null,
            "align_self": null,
            "border": null,
            "bottom": null,
            "display": null,
            "flex": null,
            "flex_flow": null,
            "grid_area": null,
            "grid_auto_columns": null,
            "grid_auto_flow": null,
            "grid_auto_rows": null,
            "grid_column": null,
            "grid_gap": null,
            "grid_row": null,
            "grid_template_areas": null,
            "grid_template_columns": null,
            "grid_template_rows": null,
            "height": null,
            "justify_content": null,
            "justify_items": null,
            "left": null,
            "margin": null,
            "max_height": null,
            "max_width": null,
            "min_height": null,
            "min_width": null,
            "object_fit": null,
            "object_position": null,
            "order": null,
            "overflow": null,
            "overflow_x": null,
            "overflow_y": null,
            "padding": null,
            "right": null,
            "top": null,
            "visibility": null,
            "width": null
          }
        },
        "cc4ecee199ad47eeaefb5aa03dc7c58a": {
          "model_module": "@jupyter-widgets/controls",
          "model_name": "DescriptionStyleModel",
          "model_module_version": "1.5.0",
          "state": {
            "_model_module": "@jupyter-widgets/controls",
            "_model_module_version": "1.5.0",
            "_model_name": "DescriptionStyleModel",
            "_view_count": null,
            "_view_module": "@jupyter-widgets/base",
            "_view_module_version": "1.2.0",
            "_view_name": "StyleView",
            "description_width": ""
          }
        },
        "a0c538d3dc5e4fbfbb313fcc72cdf72c": {
          "model_module": "@jupyter-widgets/base",
          "model_name": "LayoutModel",
          "model_module_version": "1.2.0",
          "state": {
            "_model_module": "@jupyter-widgets/base",
            "_model_module_version": "1.2.0",
            "_model_name": "LayoutModel",
            "_view_count": null,
            "_view_module": "@jupyter-widgets/base",
            "_view_module_version": "1.2.0",
            "_view_name": "LayoutView",
            "align_content": null,
            "align_items": null,
            "align_self": null,
            "border": null,
            "bottom": null,
            "display": null,
            "flex": null,
            "flex_flow": null,
            "grid_area": null,
            "grid_auto_columns": null,
            "grid_auto_flow": null,
            "grid_auto_rows": null,
            "grid_column": null,
            "grid_gap": null,
            "grid_row": null,
            "grid_template_areas": null,
            "grid_template_columns": null,
            "grid_template_rows": null,
            "height": null,
            "justify_content": null,
            "justify_items": null,
            "left": null,
            "margin": null,
            "max_height": null,
            "max_width": null,
            "min_height": null,
            "min_width": null,
            "object_fit": null,
            "object_position": null,
            "order": null,
            "overflow": null,
            "overflow_x": null,
            "overflow_y": null,
            "padding": null,
            "right": null,
            "top": null,
            "visibility": null,
            "width": null
          }
        },
        "57808cd7dd3045fd87b4ad0d9dd6a79d": {
          "model_module": "@jupyter-widgets/controls",
          "model_name": "ProgressStyleModel",
          "model_module_version": "1.5.0",
          "state": {
            "_model_module": "@jupyter-widgets/controls",
            "_model_module_version": "1.5.0",
            "_model_name": "ProgressStyleModel",
            "_view_count": null,
            "_view_module": "@jupyter-widgets/base",
            "_view_module_version": "1.2.0",
            "_view_name": "StyleView",
            "bar_color": null,
            "description_width": ""
          }
        },
        "235c1f8c07d74ebc81d2dbe860ff5a94": {
          "model_module": "@jupyter-widgets/base",
          "model_name": "LayoutModel",
          "model_module_version": "1.2.0",
          "state": {
            "_model_module": "@jupyter-widgets/base",
            "_model_module_version": "1.2.0",
            "_model_name": "LayoutModel",
            "_view_count": null,
            "_view_module": "@jupyter-widgets/base",
            "_view_module_version": "1.2.0",
            "_view_name": "LayoutView",
            "align_content": null,
            "align_items": null,
            "align_self": null,
            "border": null,
            "bottom": null,
            "display": null,
            "flex": null,
            "flex_flow": null,
            "grid_area": null,
            "grid_auto_columns": null,
            "grid_auto_flow": null,
            "grid_auto_rows": null,
            "grid_column": null,
            "grid_gap": null,
            "grid_row": null,
            "grid_template_areas": null,
            "grid_template_columns": null,
            "grid_template_rows": null,
            "height": null,
            "justify_content": null,
            "justify_items": null,
            "left": null,
            "margin": null,
            "max_height": null,
            "max_width": null,
            "min_height": null,
            "min_width": null,
            "object_fit": null,
            "object_position": null,
            "order": null,
            "overflow": null,
            "overflow_x": null,
            "overflow_y": null,
            "padding": null,
            "right": null,
            "top": null,
            "visibility": null,
            "width": null
          }
        },
        "0351809ad1084b57be1a4e9ab1ade316": {
          "model_module": "@jupyter-widgets/controls",
          "model_name": "DescriptionStyleModel",
          "model_module_version": "1.5.0",
          "state": {
            "_model_module": "@jupyter-widgets/controls",
            "_model_module_version": "1.5.0",
            "_model_name": "DescriptionStyleModel",
            "_view_count": null,
            "_view_module": "@jupyter-widgets/base",
            "_view_module_version": "1.2.0",
            "_view_name": "StyleView",
            "description_width": ""
          }
        }
      }
    }
  },
  "cells": [
    {
      "cell_type": "markdown",
      "metadata": {
        "id": "view-in-github",
        "colab_type": "text"
      },
      "source": [
        "<a href=\"https://colab.research.google.com/github/AnushkaMazumdar2/Natural-Language-Processing/blob/main/Anushka_505_Lab5.ipynb\" target=\"_parent\"><img src=\"https://colab.research.google.com/assets/colab-badge.svg\" alt=\"Open In Colab\"/></a>"
      ]
    },
    {
      "cell_type": "markdown",
      "source": [
        "**Importing Necessary Libraries**"
      ],
      "metadata": {
        "id": "5YmxG6VC4j9r"
      }
    },
    {
      "cell_type": "code",
      "source": [
        "!pip install stanza"
      ],
      "metadata": {
        "colab": {
          "base_uri": "https://localhost:8080/"
        },
        "id": "eyzlSNpNNSGp",
        "outputId": "b88a3277-0760-4f6d-f3fd-9c9596924380"
      },
      "execution_count": null,
      "outputs": [
        {
          "output_type": "stream",
          "name": "stdout",
          "text": [
            "Collecting stanza\n",
            "  Downloading stanza-1.8.1-py3-none-any.whl (970 kB)\n",
            "\u001b[2K     \u001b[90m━━━━━━━━━━━━━━━━━━━━━━━━━━━━━━━━━━━━━━━━\u001b[0m \u001b[32m970.4/970.4 kB\u001b[0m \u001b[31m8.9 MB/s\u001b[0m eta \u001b[36m0:00:00\u001b[0m\n",
            "\u001b[?25hCollecting emoji (from stanza)\n",
            "  Downloading emoji-2.10.1-py2.py3-none-any.whl (421 kB)\n",
            "\u001b[2K     \u001b[90m━━━━━━━━━━━━━━━━━━━━━━━━━━━━━━━━━━━━━━━━\u001b[0m \u001b[32m421.5/421.5 kB\u001b[0m \u001b[31m13.1 MB/s\u001b[0m eta \u001b[36m0:00:00\u001b[0m\n",
            "\u001b[?25hRequirement already satisfied: numpy in /usr/local/lib/python3.10/dist-packages (from stanza) (1.25.2)\n",
            "Requirement already satisfied: protobuf>=3.15.0 in /usr/local/lib/python3.10/dist-packages (from stanza) (3.20.3)\n",
            "Requirement already satisfied: requests in /usr/local/lib/python3.10/dist-packages (from stanza) (2.31.0)\n",
            "Requirement already satisfied: networkx in /usr/local/lib/python3.10/dist-packages (from stanza) (3.2.1)\n",
            "Requirement already satisfied: toml in /usr/local/lib/python3.10/dist-packages (from stanza) (0.10.2)\n",
            "Requirement already satisfied: torch>=1.3.0 in /usr/local/lib/python3.10/dist-packages (from stanza) (2.2.1+cu121)\n",
            "Requirement already satisfied: tqdm in /usr/local/lib/python3.10/dist-packages (from stanza) (4.66.2)\n",
            "Requirement already satisfied: filelock in /usr/local/lib/python3.10/dist-packages (from torch>=1.3.0->stanza) (3.13.1)\n",
            "Requirement already satisfied: typing-extensions>=4.8.0 in /usr/local/lib/python3.10/dist-packages (from torch>=1.3.0->stanza) (4.10.0)\n",
            "Requirement already satisfied: sympy in /usr/local/lib/python3.10/dist-packages (from torch>=1.3.0->stanza) (1.12)\n",
            "Requirement already satisfied: jinja2 in /usr/local/lib/python3.10/dist-packages (from torch>=1.3.0->stanza) (3.1.3)\n",
            "Requirement already satisfied: fsspec in /usr/local/lib/python3.10/dist-packages (from torch>=1.3.0->stanza) (2023.6.0)\n",
            "Requirement already satisfied: nvidia-cuda-nvrtc-cu12==12.1.105 in /usr/local/lib/python3.10/dist-packages (from torch>=1.3.0->stanza) (12.1.105)\n",
            "Requirement already satisfied: nvidia-cuda-runtime-cu12==12.1.105 in /usr/local/lib/python3.10/dist-packages (from torch>=1.3.0->stanza) (12.1.105)\n",
            "Requirement already satisfied: nvidia-cuda-cupti-cu12==12.1.105 in /usr/local/lib/python3.10/dist-packages (from torch>=1.3.0->stanza) (12.1.105)\n",
            "Requirement already satisfied: nvidia-cudnn-cu12==8.9.2.26 in /usr/local/lib/python3.10/dist-packages (from torch>=1.3.0->stanza) (8.9.2.26)\n",
            "Requirement already satisfied: nvidia-cublas-cu12==12.1.3.1 in /usr/local/lib/python3.10/dist-packages (from torch>=1.3.0->stanza) (12.1.3.1)\n",
            "Requirement already satisfied: nvidia-cufft-cu12==11.0.2.54 in /usr/local/lib/python3.10/dist-packages (from torch>=1.3.0->stanza) (11.0.2.54)\n",
            "Requirement already satisfied: nvidia-curand-cu12==10.3.2.106 in /usr/local/lib/python3.10/dist-packages (from torch>=1.3.0->stanza) (10.3.2.106)\n",
            "Requirement already satisfied: nvidia-cusolver-cu12==11.4.5.107 in /usr/local/lib/python3.10/dist-packages (from torch>=1.3.0->stanza) (11.4.5.107)\n",
            "Requirement already satisfied: nvidia-cusparse-cu12==12.1.0.106 in /usr/local/lib/python3.10/dist-packages (from torch>=1.3.0->stanza) (12.1.0.106)\n",
            "Requirement already satisfied: nvidia-nccl-cu12==2.19.3 in /usr/local/lib/python3.10/dist-packages (from torch>=1.3.0->stanza) (2.19.3)\n",
            "Requirement already satisfied: nvidia-nvtx-cu12==12.1.105 in /usr/local/lib/python3.10/dist-packages (from torch>=1.3.0->stanza) (12.1.105)\n",
            "Requirement already satisfied: triton==2.2.0 in /usr/local/lib/python3.10/dist-packages (from torch>=1.3.0->stanza) (2.2.0)\n",
            "Requirement already satisfied: nvidia-nvjitlink-cu12 in /usr/local/lib/python3.10/dist-packages (from nvidia-cusolver-cu12==11.4.5.107->torch>=1.3.0->stanza) (12.4.99)\n",
            "Requirement already satisfied: charset-normalizer<4,>=2 in /usr/local/lib/python3.10/dist-packages (from requests->stanza) (3.3.2)\n",
            "Requirement already satisfied: idna<4,>=2.5 in /usr/local/lib/python3.10/dist-packages (from requests->stanza) (3.6)\n",
            "Requirement already satisfied: urllib3<3,>=1.21.1 in /usr/local/lib/python3.10/dist-packages (from requests->stanza) (2.0.7)\n",
            "Requirement already satisfied: certifi>=2017.4.17 in /usr/local/lib/python3.10/dist-packages (from requests->stanza) (2024.2.2)\n",
            "Requirement already satisfied: MarkupSafe>=2.0 in /usr/local/lib/python3.10/dist-packages (from jinja2->torch>=1.3.0->stanza) (2.1.5)\n",
            "Requirement already satisfied: mpmath>=0.19 in /usr/local/lib/python3.10/dist-packages (from sympy->torch>=1.3.0->stanza) (1.3.0)\n",
            "Installing collected packages: emoji, stanza\n",
            "Successfully installed emoji-2.10.1 stanza-1.8.1\n"
          ]
        }
      ]
    },
    {
      "cell_type": "code",
      "source": [
        "import nltk\n",
        "nltk.download('wordnet')\n",
        "import pandas as pd\n",
        "from nltk.corpus import wordnet\n",
        "nltk.download('averaged_perceptron_tagger')\n",
        "nltk.download('maxent_ne_chunker')\n",
        "nltk.download('words')\n",
        "from nltk.stem.snowball import GermanStemmer\n",
        "from nltk.tokenize import word_tokenize\n",
        "from nltk.stem import WordNetLemmatizer\n",
        "from nltk import pos_tag, ne_chunk, PorterStemmer, LancasterStemmer"
      ],
      "metadata": {
        "colab": {
          "base_uri": "https://localhost:8080/"
        },
        "id": "HYPPm2Fg4nGx",
        "outputId": "bf75c045-516f-4128-c7f8-5d25b1dbdcf7"
      },
      "execution_count": null,
      "outputs": [
        {
          "output_type": "stream",
          "name": "stderr",
          "text": [
            "[nltk_data] Downloading package wordnet to /root/nltk_data...\n",
            "[nltk_data]   Package wordnet is already up-to-date!\n",
            "[nltk_data] Downloading package averaged_perceptron_tagger to\n",
            "[nltk_data]     /root/nltk_data...\n",
            "[nltk_data]   Package averaged_perceptron_tagger is already up-to-\n",
            "[nltk_data]       date!\n",
            "[nltk_data] Downloading package maxent_ne_chunker to\n",
            "[nltk_data]     /root/nltk_data...\n",
            "[nltk_data]   Package maxent_ne_chunker is already up-to-date!\n",
            "[nltk_data] Downloading package words to /root/nltk_data...\n",
            "[nltk_data]   Unzipping corpora/words.zip.\n"
          ]
        }
      ]
    },
    {
      "cell_type": "markdown",
      "source": [
        "**1. Write a program to get Antonyms from WordNet.**"
      ],
      "metadata": {
        "id": "eXdIsjr-4g-M"
      }
    },
    {
      "cell_type": "code",
      "execution_count": null,
      "metadata": {
        "colab": {
          "base_uri": "https://localhost:8080/"
        },
        "id": "gKY8YT3332J_",
        "outputId": "96fbb2db-1834-4595-8444-c19297e88638"
      },
      "outputs": [
        {
          "output_type": "stream",
          "name": "stdout",
          "text": [
            "{'bad', 'evilness', 'badness', 'ill', 'evil'}\n"
          ]
        }
      ],
      "source": [
        "# Word = \"Good\"\n",
        "antonyms = []\n",
        "for syn in wordnet.synsets(\"good\"):\n",
        "\tfor l in syn.lemmas():\n",
        "\t\tif l.antonyms():\n",
        "\t\t\tantonyms.append(l.antonyms()[0].name())\n",
        "print(set(antonyms))"
      ]
    },
    {
      "cell_type": "code",
      "source": [
        "# Word = \"Like\"\n",
        "antonyms = []\n",
        "for syn in wordnet.synsets(\"like\"):\n",
        "\tfor l in syn.lemmas():\n",
        "\t\tif l.antonyms():\n",
        "\t\t\tantonyms.append(l.antonyms()[0].name())\n",
        "print(set(antonyms))"
      ],
      "metadata": {
        "colab": {
          "base_uri": "https://localhost:8080/"
        },
        "id": "stsbOHbf5nRm",
        "outputId": "7e58f152-b295-4c30-8b72-1117398ecf81"
      },
      "execution_count": null,
      "outputs": [
        {
          "output_type": "stream",
          "name": "stdout",
          "text": [
            "{'unalike', 'unlike', 'dislike'}\n"
          ]
        }
      ]
    },
    {
      "cell_type": "code",
      "source": [
        "# Word = \"Beauty\"\n",
        "antonyms = []\n",
        "for syn in wordnet.synsets(\"beauty\"):\n",
        "\tfor l in syn.lemmas():\n",
        "\t\tif l.antonyms():\n",
        "\t\t\tantonyms.append(l.antonyms()[0].name())\n",
        "print(set(antonyms))"
      ],
      "metadata": {
        "colab": {
          "base_uri": "https://localhost:8080/"
        },
        "id": "xHFQanuF546k",
        "outputId": "c873f914-3786-48e4-f305-262f75d169c7"
      },
      "execution_count": null,
      "outputs": [
        {
          "output_type": "stream",
          "name": "stdout",
          "text": [
            "{'ugliness'}\n"
          ]
        }
      ]
    },
    {
      "cell_type": "code",
      "source": [
        "# Word = \"Sweet\"\n",
        "antonyms = []\n",
        "for syn in wordnet.synsets(\"sweet\"):\n",
        "\tfor l in syn.lemmas():\n",
        "\t\tif l.antonyms():\n",
        "\t\t\tantonyms.append(l.antonyms()[0].name())\n",
        "print(set(antonyms))"
      ],
      "metadata": {
        "colab": {
          "base_uri": "https://localhost:8080/"
        },
        "id": "DuKIH3Ix6A3Q",
        "outputId": "9a039d63-702c-4986-d1a0-037195785109"
      },
      "execution_count": null,
      "outputs": [
        {
          "output_type": "stream",
          "name": "stdout",
          "text": [
            "{'sour', 'dry', 'salty'}\n"
          ]
        }
      ]
    },
    {
      "cell_type": "code",
      "source": [
        "# Word = \"Bravery\"\n",
        "antonyms = []\n",
        "for syn in wordnet.synsets(\"bravery\"):\n",
        "\tfor l in syn.lemmas():\n",
        "\t\tif l.antonyms():\n",
        "\t\t\tantonyms.append(l.antonyms()[0].name())\n",
        "print(set(antonyms))"
      ],
      "metadata": {
        "colab": {
          "base_uri": "https://localhost:8080/"
        },
        "id": "RR3krmJn6Y2L",
        "outputId": "e29666de-fecb-4fba-9d26-2aff288f87e6"
      },
      "execution_count": null,
      "outputs": [
        {
          "output_type": "stream",
          "name": "stdout",
          "text": [
            "{'fear', 'cowardice'}\n"
          ]
        }
      ]
    },
    {
      "cell_type": "markdown",
      "source": [
        "**2. Write a program for stemming non-English words.**"
      ],
      "metadata": {
        "id": "NYFzHiq-6qd3"
      }
    },
    {
      "cell_type": "code",
      "source": [
        "german_st = GermanStemmer()\n",
        "token_sample = [\"Schreiben\",\"geschrieben\", \"Gut\", \"Schön\", \"frech\"]\n",
        "for token in token_sample:\n",
        "  lemma = german_st.stem(token)\n",
        "  print(token,\": \",lemma)"
      ],
      "metadata": {
        "colab": {
          "base_uri": "https://localhost:8080/"
        },
        "id": "6BT0YVJT6tlp",
        "outputId": "2f67d70b-3455-433a-ab4d-38ae1f80b651"
      },
      "execution_count": null,
      "outputs": [
        {
          "output_type": "stream",
          "name": "stdout",
          "text": [
            "Schreiben :  schreib\n",
            "geschrieben :  geschrieb\n",
            "Gut :  gut\n",
            "Schön :  schon\n",
            "frech :  frech\n"
          ]
        }
      ]
    },
    {
      "cell_type": "markdown",
      "source": [
        "**3. Write a program for lemmatizing words Using WordNet (Use all type of stemmers for the comparison).**"
      ],
      "metadata": {
        "id": "cxTm-qGM82YO"
      }
    },
    {
      "cell_type": "code",
      "source": [
        "text = \"Gregor then turned to look out the window at the dull weather. Drops of rain could be heard hitting the pane, which made him feel quite sad. “How about if I sleep a little bit longer and forget all this nonsense”, he thought, but that was something he was unable to do because he was used to sleeping on his right, and in his present state couldn’t get into that position. However hard he threw himself onto his right, he always rolled back to where he was. He must have tried it a hundred times, shut his eyes so that he wouldn’t have to look at the floundering legs, and only stopped when he began to feel a mild, dull pain there that he had never felt before.\""
      ],
      "metadata": {
        "id": "NveMv6LLBT4f"
      },
      "execution_count": null,
      "outputs": []
    },
    {
      "cell_type": "code",
      "source": [
        "tokens = [\"good\",\"like\",\"beauty\",\"sweet\",\"bravery\"]\n",
        "wl=WordNetLemmatizer()\n",
        "pstemmer = PorterStemmer()\n",
        "lstemmer = LancasterStemmer()\n",
        "lemmatized_tokens = []\n",
        "pstem_word = []\n",
        "lstem_word = []\n",
        "for token in tokens:\n",
        "  lemmatized_tokens.append(wl.lemmatize(token))\n",
        "  pstem_word.append(pstemmer.stem(token))\n",
        "  lstem_word.append(lstemmer.stem(token))\n",
        "dict = {'Word': tokens, 'WordNetLemmatizer': lemmatized_tokens , 'PorterStemmer': pstem_word, 'LancasterStemmer' : lstem_word}\n",
        "df = pd.DataFrame(dict)\n",
        "df"
      ],
      "metadata": {
        "colab": {
          "base_uri": "https://localhost:8080/",
          "height": 206
        },
        "id": "zjonRueQ8-9h",
        "outputId": "a008b130-93f6-40b5-c338-7b59129b6040"
      },
      "execution_count": null,
      "outputs": [
        {
          "output_type": "execute_result",
          "data": {
            "text/plain": [
              "      Word WordNetLemmatizer PorterStemmer LancasterStemmer\n",
              "0     good              good          good             good\n",
              "1     like              like          like              lik\n",
              "2   beauty            beauty        beauti           beauty\n",
              "3    sweet             sweet         sweet            sweet\n",
              "4  bravery           bravery       braveri          bravery"
            ],
            "text/html": [
              "\n",
              "  <div id=\"df-3e609c5f-57f2-4388-a2d4-0abc4b525235\" class=\"colab-df-container\">\n",
              "    <div>\n",
              "<style scoped>\n",
              "    .dataframe tbody tr th:only-of-type {\n",
              "        vertical-align: middle;\n",
              "    }\n",
              "\n",
              "    .dataframe tbody tr th {\n",
              "        vertical-align: top;\n",
              "    }\n",
              "\n",
              "    .dataframe thead th {\n",
              "        text-align: right;\n",
              "    }\n",
              "</style>\n",
              "<table border=\"1\" class=\"dataframe\">\n",
              "  <thead>\n",
              "    <tr style=\"text-align: right;\">\n",
              "      <th></th>\n",
              "      <th>Word</th>\n",
              "      <th>WordNetLemmatizer</th>\n",
              "      <th>PorterStemmer</th>\n",
              "      <th>LancasterStemmer</th>\n",
              "    </tr>\n",
              "  </thead>\n",
              "  <tbody>\n",
              "    <tr>\n",
              "      <th>0</th>\n",
              "      <td>good</td>\n",
              "      <td>good</td>\n",
              "      <td>good</td>\n",
              "      <td>good</td>\n",
              "    </tr>\n",
              "    <tr>\n",
              "      <th>1</th>\n",
              "      <td>like</td>\n",
              "      <td>like</td>\n",
              "      <td>like</td>\n",
              "      <td>lik</td>\n",
              "    </tr>\n",
              "    <tr>\n",
              "      <th>2</th>\n",
              "      <td>beauty</td>\n",
              "      <td>beauty</td>\n",
              "      <td>beauti</td>\n",
              "      <td>beauty</td>\n",
              "    </tr>\n",
              "    <tr>\n",
              "      <th>3</th>\n",
              "      <td>sweet</td>\n",
              "      <td>sweet</td>\n",
              "      <td>sweet</td>\n",
              "      <td>sweet</td>\n",
              "    </tr>\n",
              "    <tr>\n",
              "      <th>4</th>\n",
              "      <td>bravery</td>\n",
              "      <td>bravery</td>\n",
              "      <td>braveri</td>\n",
              "      <td>bravery</td>\n",
              "    </tr>\n",
              "  </tbody>\n",
              "</table>\n",
              "</div>\n",
              "    <div class=\"colab-df-buttons\">\n",
              "\n",
              "  <div class=\"colab-df-container\">\n",
              "    <button class=\"colab-df-convert\" onclick=\"convertToInteractive('df-3e609c5f-57f2-4388-a2d4-0abc4b525235')\"\n",
              "            title=\"Convert this dataframe to an interactive table.\"\n",
              "            style=\"display:none;\">\n",
              "\n",
              "  <svg xmlns=\"http://www.w3.org/2000/svg\" height=\"24px\" viewBox=\"0 -960 960 960\">\n",
              "    <path d=\"M120-120v-720h720v720H120Zm60-500h600v-160H180v160Zm220 220h160v-160H400v160Zm0 220h160v-160H400v160ZM180-400h160v-160H180v160Zm440 0h160v-160H620v160ZM180-180h160v-160H180v160Zm440 0h160v-160H620v160Z\"/>\n",
              "  </svg>\n",
              "    </button>\n",
              "\n",
              "  <style>\n",
              "    .colab-df-container {\n",
              "      display:flex;\n",
              "      gap: 12px;\n",
              "    }\n",
              "\n",
              "    .colab-df-convert {\n",
              "      background-color: #E8F0FE;\n",
              "      border: none;\n",
              "      border-radius: 50%;\n",
              "      cursor: pointer;\n",
              "      display: none;\n",
              "      fill: #1967D2;\n",
              "      height: 32px;\n",
              "      padding: 0 0 0 0;\n",
              "      width: 32px;\n",
              "    }\n",
              "\n",
              "    .colab-df-convert:hover {\n",
              "      background-color: #E2EBFA;\n",
              "      box-shadow: 0px 1px 2px rgba(60, 64, 67, 0.3), 0px 1px 3px 1px rgba(60, 64, 67, 0.15);\n",
              "      fill: #174EA6;\n",
              "    }\n",
              "\n",
              "    .colab-df-buttons div {\n",
              "      margin-bottom: 4px;\n",
              "    }\n",
              "\n",
              "    [theme=dark] .colab-df-convert {\n",
              "      background-color: #3B4455;\n",
              "      fill: #D2E3FC;\n",
              "    }\n",
              "\n",
              "    [theme=dark] .colab-df-convert:hover {\n",
              "      background-color: #434B5C;\n",
              "      box-shadow: 0px 1px 3px 1px rgba(0, 0, 0, 0.15);\n",
              "      filter: drop-shadow(0px 1px 2px rgba(0, 0, 0, 0.3));\n",
              "      fill: #FFFFFF;\n",
              "    }\n",
              "  </style>\n",
              "\n",
              "    <script>\n",
              "      const buttonEl =\n",
              "        document.querySelector('#df-3e609c5f-57f2-4388-a2d4-0abc4b525235 button.colab-df-convert');\n",
              "      buttonEl.style.display =\n",
              "        google.colab.kernel.accessAllowed ? 'block' : 'none';\n",
              "\n",
              "      async function convertToInteractive(key) {\n",
              "        const element = document.querySelector('#df-3e609c5f-57f2-4388-a2d4-0abc4b525235');\n",
              "        const dataTable =\n",
              "          await google.colab.kernel.invokeFunction('convertToInteractive',\n",
              "                                                    [key], {});\n",
              "        if (!dataTable) return;\n",
              "\n",
              "        const docLinkHtml = 'Like what you see? Visit the ' +\n",
              "          '<a target=\"_blank\" href=https://colab.research.google.com/notebooks/data_table.ipynb>data table notebook</a>'\n",
              "          + ' to learn more about interactive tables.';\n",
              "        element.innerHTML = '';\n",
              "        dataTable['output_type'] = 'display_data';\n",
              "        await google.colab.output.renderOutput(dataTable, element);\n",
              "        const docLink = document.createElement('div');\n",
              "        docLink.innerHTML = docLinkHtml;\n",
              "        element.appendChild(docLink);\n",
              "      }\n",
              "    </script>\n",
              "  </div>\n",
              "\n",
              "\n",
              "<div id=\"df-63f6491f-a843-4b89-a835-6f31703677ec\">\n",
              "  <button class=\"colab-df-quickchart\" onclick=\"quickchart('df-63f6491f-a843-4b89-a835-6f31703677ec')\"\n",
              "            title=\"Suggest charts\"\n",
              "            style=\"display:none;\">\n",
              "\n",
              "<svg xmlns=\"http://www.w3.org/2000/svg\" height=\"24px\"viewBox=\"0 0 24 24\"\n",
              "     width=\"24px\">\n",
              "    <g>\n",
              "        <path d=\"M19 3H5c-1.1 0-2 .9-2 2v14c0 1.1.9 2 2 2h14c1.1 0 2-.9 2-2V5c0-1.1-.9-2-2-2zM9 17H7v-7h2v7zm4 0h-2V7h2v10zm4 0h-2v-4h2v4z\"/>\n",
              "    </g>\n",
              "</svg>\n",
              "  </button>\n",
              "\n",
              "<style>\n",
              "  .colab-df-quickchart {\n",
              "      --bg-color: #E8F0FE;\n",
              "      --fill-color: #1967D2;\n",
              "      --hover-bg-color: #E2EBFA;\n",
              "      --hover-fill-color: #174EA6;\n",
              "      --disabled-fill-color: #AAA;\n",
              "      --disabled-bg-color: #DDD;\n",
              "  }\n",
              "\n",
              "  [theme=dark] .colab-df-quickchart {\n",
              "      --bg-color: #3B4455;\n",
              "      --fill-color: #D2E3FC;\n",
              "      --hover-bg-color: #434B5C;\n",
              "      --hover-fill-color: #FFFFFF;\n",
              "      --disabled-bg-color: #3B4455;\n",
              "      --disabled-fill-color: #666;\n",
              "  }\n",
              "\n",
              "  .colab-df-quickchart {\n",
              "    background-color: var(--bg-color);\n",
              "    border: none;\n",
              "    border-radius: 50%;\n",
              "    cursor: pointer;\n",
              "    display: none;\n",
              "    fill: var(--fill-color);\n",
              "    height: 32px;\n",
              "    padding: 0;\n",
              "    width: 32px;\n",
              "  }\n",
              "\n",
              "  .colab-df-quickchart:hover {\n",
              "    background-color: var(--hover-bg-color);\n",
              "    box-shadow: 0 1px 2px rgba(60, 64, 67, 0.3), 0 1px 3px 1px rgba(60, 64, 67, 0.15);\n",
              "    fill: var(--button-hover-fill-color);\n",
              "  }\n",
              "\n",
              "  .colab-df-quickchart-complete:disabled,\n",
              "  .colab-df-quickchart-complete:disabled:hover {\n",
              "    background-color: var(--disabled-bg-color);\n",
              "    fill: var(--disabled-fill-color);\n",
              "    box-shadow: none;\n",
              "  }\n",
              "\n",
              "  .colab-df-spinner {\n",
              "    border: 2px solid var(--fill-color);\n",
              "    border-color: transparent;\n",
              "    border-bottom-color: var(--fill-color);\n",
              "    animation:\n",
              "      spin 1s steps(1) infinite;\n",
              "  }\n",
              "\n",
              "  @keyframes spin {\n",
              "    0% {\n",
              "      border-color: transparent;\n",
              "      border-bottom-color: var(--fill-color);\n",
              "      border-left-color: var(--fill-color);\n",
              "    }\n",
              "    20% {\n",
              "      border-color: transparent;\n",
              "      border-left-color: var(--fill-color);\n",
              "      border-top-color: var(--fill-color);\n",
              "    }\n",
              "    30% {\n",
              "      border-color: transparent;\n",
              "      border-left-color: var(--fill-color);\n",
              "      border-top-color: var(--fill-color);\n",
              "      border-right-color: var(--fill-color);\n",
              "    }\n",
              "    40% {\n",
              "      border-color: transparent;\n",
              "      border-right-color: var(--fill-color);\n",
              "      border-top-color: var(--fill-color);\n",
              "    }\n",
              "    60% {\n",
              "      border-color: transparent;\n",
              "      border-right-color: var(--fill-color);\n",
              "    }\n",
              "    80% {\n",
              "      border-color: transparent;\n",
              "      border-right-color: var(--fill-color);\n",
              "      border-bottom-color: var(--fill-color);\n",
              "    }\n",
              "    90% {\n",
              "      border-color: transparent;\n",
              "      border-bottom-color: var(--fill-color);\n",
              "    }\n",
              "  }\n",
              "</style>\n",
              "\n",
              "  <script>\n",
              "    async function quickchart(key) {\n",
              "      const quickchartButtonEl =\n",
              "        document.querySelector('#' + key + ' button');\n",
              "      quickchartButtonEl.disabled = true;  // To prevent multiple clicks.\n",
              "      quickchartButtonEl.classList.add('colab-df-spinner');\n",
              "      try {\n",
              "        const charts = await google.colab.kernel.invokeFunction(\n",
              "            'suggestCharts', [key], {});\n",
              "      } catch (error) {\n",
              "        console.error('Error during call to suggestCharts:', error);\n",
              "      }\n",
              "      quickchartButtonEl.classList.remove('colab-df-spinner');\n",
              "      quickchartButtonEl.classList.add('colab-df-quickchart-complete');\n",
              "    }\n",
              "    (() => {\n",
              "      let quickchartButtonEl =\n",
              "        document.querySelector('#df-63f6491f-a843-4b89-a835-6f31703677ec button');\n",
              "      quickchartButtonEl.style.display =\n",
              "        google.colab.kernel.accessAllowed ? 'block' : 'none';\n",
              "    })();\n",
              "  </script>\n",
              "</div>\n",
              "    </div>\n",
              "  </div>\n"
            ],
            "application/vnd.google.colaboratory.intrinsic+json": {
              "type": "dataframe",
              "variable_name": "df",
              "summary": "{\n  \"name\": \"df\",\n  \"rows\": 5,\n  \"fields\": [\n    {\n      \"column\": \"Word\",\n      \"properties\": {\n        \"dtype\": \"string\",\n        \"num_unique_values\": 5,\n        \"samples\": [\n          \"like\",\n          \"bravery\",\n          \"beauty\"\n        ],\n        \"semantic_type\": \"\",\n        \"description\": \"\"\n      }\n    },\n    {\n      \"column\": \"WordNetLemmatizer\",\n      \"properties\": {\n        \"dtype\": \"string\",\n        \"num_unique_values\": 5,\n        \"samples\": [\n          \"like\",\n          \"bravery\",\n          \"beauty\"\n        ],\n        \"semantic_type\": \"\",\n        \"description\": \"\"\n      }\n    },\n    {\n      \"column\": \"PorterStemmer\",\n      \"properties\": {\n        \"dtype\": \"string\",\n        \"num_unique_values\": 5,\n        \"samples\": [\n          \"like\",\n          \"braveri\",\n          \"beauti\"\n        ],\n        \"semantic_type\": \"\",\n        \"description\": \"\"\n      }\n    },\n    {\n      \"column\": \"LancasterStemmer\",\n      \"properties\": {\n        \"dtype\": \"string\",\n        \"num_unique_values\": 5,\n        \"samples\": [\n          \"lik\",\n          \"bravery\",\n          \"beauty\"\n        ],\n        \"semantic_type\": \"\",\n        \"description\": \"\"\n      }\n    }\n  ]\n}"
            }
          },
          "metadata": {},
          "execution_count": 65
        }
      ]
    },
    {
      "cell_type": "markdown",
      "source": [
        "**4. Write a program to differentiate stemming and lemmatizing words.**"
      ],
      "metadata": {
        "id": "-yJ41oROEbiu"
      }
    },
    {
      "cell_type": "code",
      "source": [
        "tokens = [\"good\",\"like\",\"beauty\",\"sweet\",\"bravery\"]\n",
        "wl=WordNetLemmatizer()\n",
        "pstemmer = PorterStemmer()\n",
        "lemmatized_tokens = []\n",
        "pstem_word = []\n",
        "for token in tokens:\n",
        "  lemmatized_tokens.append(wl.lemmatize(token))\n",
        "  pstem_word.append(pstemmer.stem(token))\n",
        "dict = {'Word': tokens, 'Lemmatizer': lemmatized_tokens , 'Stemmer': pstem_word}\n",
        "df = pd.DataFrame(dict)\n",
        "df"
      ],
      "metadata": {
        "colab": {
          "base_uri": "https://localhost:8080/",
          "height": 206
        },
        "id": "PGWv0phkEodR",
        "outputId": "036174ce-8382-45b0-d2da-69fe707bc35a"
      },
      "execution_count": null,
      "outputs": [
        {
          "output_type": "execute_result",
          "data": {
            "text/plain": [
              "      Word Lemmatizer  Stemmer\n",
              "0     good       good     good\n",
              "1     like       like     like\n",
              "2   beauty     beauty   beauti\n",
              "3    sweet      sweet    sweet\n",
              "4  bravery    bravery  braveri"
            ],
            "text/html": [
              "\n",
              "  <div id=\"df-0452410e-beaa-4315-be21-181fb3778bd3\" class=\"colab-df-container\">\n",
              "    <div>\n",
              "<style scoped>\n",
              "    .dataframe tbody tr th:only-of-type {\n",
              "        vertical-align: middle;\n",
              "    }\n",
              "\n",
              "    .dataframe tbody tr th {\n",
              "        vertical-align: top;\n",
              "    }\n",
              "\n",
              "    .dataframe thead th {\n",
              "        text-align: right;\n",
              "    }\n",
              "</style>\n",
              "<table border=\"1\" class=\"dataframe\">\n",
              "  <thead>\n",
              "    <tr style=\"text-align: right;\">\n",
              "      <th></th>\n",
              "      <th>Word</th>\n",
              "      <th>Lemmatizer</th>\n",
              "      <th>Stemmer</th>\n",
              "    </tr>\n",
              "  </thead>\n",
              "  <tbody>\n",
              "    <tr>\n",
              "      <th>0</th>\n",
              "      <td>good</td>\n",
              "      <td>good</td>\n",
              "      <td>good</td>\n",
              "    </tr>\n",
              "    <tr>\n",
              "      <th>1</th>\n",
              "      <td>like</td>\n",
              "      <td>like</td>\n",
              "      <td>like</td>\n",
              "    </tr>\n",
              "    <tr>\n",
              "      <th>2</th>\n",
              "      <td>beauty</td>\n",
              "      <td>beauty</td>\n",
              "      <td>beauti</td>\n",
              "    </tr>\n",
              "    <tr>\n",
              "      <th>3</th>\n",
              "      <td>sweet</td>\n",
              "      <td>sweet</td>\n",
              "      <td>sweet</td>\n",
              "    </tr>\n",
              "    <tr>\n",
              "      <th>4</th>\n",
              "      <td>bravery</td>\n",
              "      <td>bravery</td>\n",
              "      <td>braveri</td>\n",
              "    </tr>\n",
              "  </tbody>\n",
              "</table>\n",
              "</div>\n",
              "    <div class=\"colab-df-buttons\">\n",
              "\n",
              "  <div class=\"colab-df-container\">\n",
              "    <button class=\"colab-df-convert\" onclick=\"convertToInteractive('df-0452410e-beaa-4315-be21-181fb3778bd3')\"\n",
              "            title=\"Convert this dataframe to an interactive table.\"\n",
              "            style=\"display:none;\">\n",
              "\n",
              "  <svg xmlns=\"http://www.w3.org/2000/svg\" height=\"24px\" viewBox=\"0 -960 960 960\">\n",
              "    <path d=\"M120-120v-720h720v720H120Zm60-500h600v-160H180v160Zm220 220h160v-160H400v160Zm0 220h160v-160H400v160ZM180-400h160v-160H180v160Zm440 0h160v-160H620v160ZM180-180h160v-160H180v160Zm440 0h160v-160H620v160Z\"/>\n",
              "  </svg>\n",
              "    </button>\n",
              "\n",
              "  <style>\n",
              "    .colab-df-container {\n",
              "      display:flex;\n",
              "      gap: 12px;\n",
              "    }\n",
              "\n",
              "    .colab-df-convert {\n",
              "      background-color: #E8F0FE;\n",
              "      border: none;\n",
              "      border-radius: 50%;\n",
              "      cursor: pointer;\n",
              "      display: none;\n",
              "      fill: #1967D2;\n",
              "      height: 32px;\n",
              "      padding: 0 0 0 0;\n",
              "      width: 32px;\n",
              "    }\n",
              "\n",
              "    .colab-df-convert:hover {\n",
              "      background-color: #E2EBFA;\n",
              "      box-shadow: 0px 1px 2px rgba(60, 64, 67, 0.3), 0px 1px 3px 1px rgba(60, 64, 67, 0.15);\n",
              "      fill: #174EA6;\n",
              "    }\n",
              "\n",
              "    .colab-df-buttons div {\n",
              "      margin-bottom: 4px;\n",
              "    }\n",
              "\n",
              "    [theme=dark] .colab-df-convert {\n",
              "      background-color: #3B4455;\n",
              "      fill: #D2E3FC;\n",
              "    }\n",
              "\n",
              "    [theme=dark] .colab-df-convert:hover {\n",
              "      background-color: #434B5C;\n",
              "      box-shadow: 0px 1px 3px 1px rgba(0, 0, 0, 0.15);\n",
              "      filter: drop-shadow(0px 1px 2px rgba(0, 0, 0, 0.3));\n",
              "      fill: #FFFFFF;\n",
              "    }\n",
              "  </style>\n",
              "\n",
              "    <script>\n",
              "      const buttonEl =\n",
              "        document.querySelector('#df-0452410e-beaa-4315-be21-181fb3778bd3 button.colab-df-convert');\n",
              "      buttonEl.style.display =\n",
              "        google.colab.kernel.accessAllowed ? 'block' : 'none';\n",
              "\n",
              "      async function convertToInteractive(key) {\n",
              "        const element = document.querySelector('#df-0452410e-beaa-4315-be21-181fb3778bd3');\n",
              "        const dataTable =\n",
              "          await google.colab.kernel.invokeFunction('convertToInteractive',\n",
              "                                                    [key], {});\n",
              "        if (!dataTable) return;\n",
              "\n",
              "        const docLinkHtml = 'Like what you see? Visit the ' +\n",
              "          '<a target=\"_blank\" href=https://colab.research.google.com/notebooks/data_table.ipynb>data table notebook</a>'\n",
              "          + ' to learn more about interactive tables.';\n",
              "        element.innerHTML = '';\n",
              "        dataTable['output_type'] = 'display_data';\n",
              "        await google.colab.output.renderOutput(dataTable, element);\n",
              "        const docLink = document.createElement('div');\n",
              "        docLink.innerHTML = docLinkHtml;\n",
              "        element.appendChild(docLink);\n",
              "      }\n",
              "    </script>\n",
              "  </div>\n",
              "\n",
              "\n",
              "<div id=\"df-75640af3-0b81-4578-9a08-14184c22f011\">\n",
              "  <button class=\"colab-df-quickchart\" onclick=\"quickchart('df-75640af3-0b81-4578-9a08-14184c22f011')\"\n",
              "            title=\"Suggest charts\"\n",
              "            style=\"display:none;\">\n",
              "\n",
              "<svg xmlns=\"http://www.w3.org/2000/svg\" height=\"24px\"viewBox=\"0 0 24 24\"\n",
              "     width=\"24px\">\n",
              "    <g>\n",
              "        <path d=\"M19 3H5c-1.1 0-2 .9-2 2v14c0 1.1.9 2 2 2h14c1.1 0 2-.9 2-2V5c0-1.1-.9-2-2-2zM9 17H7v-7h2v7zm4 0h-2V7h2v10zm4 0h-2v-4h2v4z\"/>\n",
              "    </g>\n",
              "</svg>\n",
              "  </button>\n",
              "\n",
              "<style>\n",
              "  .colab-df-quickchart {\n",
              "      --bg-color: #E8F0FE;\n",
              "      --fill-color: #1967D2;\n",
              "      --hover-bg-color: #E2EBFA;\n",
              "      --hover-fill-color: #174EA6;\n",
              "      --disabled-fill-color: #AAA;\n",
              "      --disabled-bg-color: #DDD;\n",
              "  }\n",
              "\n",
              "  [theme=dark] .colab-df-quickchart {\n",
              "      --bg-color: #3B4455;\n",
              "      --fill-color: #D2E3FC;\n",
              "      --hover-bg-color: #434B5C;\n",
              "      --hover-fill-color: #FFFFFF;\n",
              "      --disabled-bg-color: #3B4455;\n",
              "      --disabled-fill-color: #666;\n",
              "  }\n",
              "\n",
              "  .colab-df-quickchart {\n",
              "    background-color: var(--bg-color);\n",
              "    border: none;\n",
              "    border-radius: 50%;\n",
              "    cursor: pointer;\n",
              "    display: none;\n",
              "    fill: var(--fill-color);\n",
              "    height: 32px;\n",
              "    padding: 0;\n",
              "    width: 32px;\n",
              "  }\n",
              "\n",
              "  .colab-df-quickchart:hover {\n",
              "    background-color: var(--hover-bg-color);\n",
              "    box-shadow: 0 1px 2px rgba(60, 64, 67, 0.3), 0 1px 3px 1px rgba(60, 64, 67, 0.15);\n",
              "    fill: var(--button-hover-fill-color);\n",
              "  }\n",
              "\n",
              "  .colab-df-quickchart-complete:disabled,\n",
              "  .colab-df-quickchart-complete:disabled:hover {\n",
              "    background-color: var(--disabled-bg-color);\n",
              "    fill: var(--disabled-fill-color);\n",
              "    box-shadow: none;\n",
              "  }\n",
              "\n",
              "  .colab-df-spinner {\n",
              "    border: 2px solid var(--fill-color);\n",
              "    border-color: transparent;\n",
              "    border-bottom-color: var(--fill-color);\n",
              "    animation:\n",
              "      spin 1s steps(1) infinite;\n",
              "  }\n",
              "\n",
              "  @keyframes spin {\n",
              "    0% {\n",
              "      border-color: transparent;\n",
              "      border-bottom-color: var(--fill-color);\n",
              "      border-left-color: var(--fill-color);\n",
              "    }\n",
              "    20% {\n",
              "      border-color: transparent;\n",
              "      border-left-color: var(--fill-color);\n",
              "      border-top-color: var(--fill-color);\n",
              "    }\n",
              "    30% {\n",
              "      border-color: transparent;\n",
              "      border-left-color: var(--fill-color);\n",
              "      border-top-color: var(--fill-color);\n",
              "      border-right-color: var(--fill-color);\n",
              "    }\n",
              "    40% {\n",
              "      border-color: transparent;\n",
              "      border-right-color: var(--fill-color);\n",
              "      border-top-color: var(--fill-color);\n",
              "    }\n",
              "    60% {\n",
              "      border-color: transparent;\n",
              "      border-right-color: var(--fill-color);\n",
              "    }\n",
              "    80% {\n",
              "      border-color: transparent;\n",
              "      border-right-color: var(--fill-color);\n",
              "      border-bottom-color: var(--fill-color);\n",
              "    }\n",
              "    90% {\n",
              "      border-color: transparent;\n",
              "      border-bottom-color: var(--fill-color);\n",
              "    }\n",
              "  }\n",
              "</style>\n",
              "\n",
              "  <script>\n",
              "    async function quickchart(key) {\n",
              "      const quickchartButtonEl =\n",
              "        document.querySelector('#' + key + ' button');\n",
              "      quickchartButtonEl.disabled = true;  // To prevent multiple clicks.\n",
              "      quickchartButtonEl.classList.add('colab-df-spinner');\n",
              "      try {\n",
              "        const charts = await google.colab.kernel.invokeFunction(\n",
              "            'suggestCharts', [key], {});\n",
              "      } catch (error) {\n",
              "        console.error('Error during call to suggestCharts:', error);\n",
              "      }\n",
              "      quickchartButtonEl.classList.remove('colab-df-spinner');\n",
              "      quickchartButtonEl.classList.add('colab-df-quickchart-complete');\n",
              "    }\n",
              "    (() => {\n",
              "      let quickchartButtonEl =\n",
              "        document.querySelector('#df-75640af3-0b81-4578-9a08-14184c22f011 button');\n",
              "      quickchartButtonEl.style.display =\n",
              "        google.colab.kernel.accessAllowed ? 'block' : 'none';\n",
              "    })();\n",
              "  </script>\n",
              "</div>\n",
              "    </div>\n",
              "  </div>\n"
            ],
            "application/vnd.google.colaboratory.intrinsic+json": {
              "type": "dataframe",
              "variable_name": "df",
              "summary": "{\n  \"name\": \"df\",\n  \"rows\": 5,\n  \"fields\": [\n    {\n      \"column\": \"Word\",\n      \"properties\": {\n        \"dtype\": \"string\",\n        \"num_unique_values\": 5,\n        \"samples\": [\n          \"like\",\n          \"bravery\",\n          \"beauty\"\n        ],\n        \"semantic_type\": \"\",\n        \"description\": \"\"\n      }\n    },\n    {\n      \"column\": \"Lemmatizer\",\n      \"properties\": {\n        \"dtype\": \"string\",\n        \"num_unique_values\": 5,\n        \"samples\": [\n          \"like\",\n          \"bravery\",\n          \"beauty\"\n        ],\n        \"semantic_type\": \"\",\n        \"description\": \"\"\n      }\n    },\n    {\n      \"column\": \"Stemmer\",\n      \"properties\": {\n        \"dtype\": \"string\",\n        \"num_unique_values\": 5,\n        \"samples\": [\n          \"like\",\n          \"braveri\",\n          \"beauti\"\n        ],\n        \"semantic_type\": \"\",\n        \"description\": \"\"\n      }\n    }\n  ]\n}"
            }
          },
          "metadata": {},
          "execution_count": 66
        }
      ]
    },
    {
      "cell_type": "markdown",
      "source": [
        "**5. Write a program for PoS Tagging and also execute any of the tool that given in class.**"
      ],
      "metadata": {
        "id": "Jw0nJUXOFn3z"
      }
    },
    {
      "cell_type": "code",
      "source": [
        "# Sample sentence for POS tagging\n",
        "sentence = \"My name is Anushka Mazumdar. I am pursuing Masters in Artificial Intelligence and Machine Learning. I love reading\""
      ],
      "metadata": {
        "id": "yQ_xEeOjLoas"
      },
      "execution_count": null,
      "outputs": []
    },
    {
      "cell_type": "markdown",
      "source": [
        "**User-Defined**"
      ],
      "metadata": {
        "id": "N2tLiLrBJIg2"
      }
    },
    {
      "cell_type": "code",
      "source": [
        "text = sentence.lower()\n",
        "# Define a simple POS tagger function\n",
        "def pos_tagger(sentence):\n",
        "    words = sentence.split()\n",
        "    tags = []\n",
        "    for word in words:\n",
        "        if word in [\"the\", \"a\", \"an\"]:\n",
        "            tags.append((word, \"DT\"))  # Determiner\n",
        "        elif word in [\"my\",\"i\", \"am\"]:\n",
        "          tags.append((word,\"PRP$\"))\n",
        "        elif word in [\"and\"]:\n",
        "          tags.append((word,\"CC\"))\n",
        "        elif word in [\"in\"]:\n",
        "          tags.append((word,\"IN\"))\n",
        "        elif word in [\"quick\", \"brown\", \"lazy\"]:\n",
        "            tags.append((word, \"JJ\"))  # Adjective\n",
        "        elif word in [\"artificial\", \"intelligence\"]:\n",
        "            tags.append((word, \"NN\"))  # Noun\n",
        "        elif word in [\"jumps\", \"over\" ,\"pursuing\",\"reading\",\"is\"]:\n",
        "            tags.append((word, \"VB\"))  # Verb\n",
        "        else:\n",
        "            tags.append((word, \"NN\"))\n",
        "    return tags\n",
        "\n",
        "# Perform POS tagging\n",
        "tagged_words = pos_tagger(text)\n",
        "\n",
        "# Display the tagged words\n",
        "print(tagged_words)"
      ],
      "metadata": {
        "colab": {
          "base_uri": "https://localhost:8080/"
        },
        "id": "3YfUYojCFzDT",
        "outputId": "08998cf3-ad0d-44d7-a1ad-56845fa50b65"
      },
      "execution_count": null,
      "outputs": [
        {
          "output_type": "stream",
          "name": "stdout",
          "text": [
            "[('my', 'PRP$'), ('name', 'NN'), ('is', 'VB'), ('anushka', 'NN'), ('mazumdar.', 'NN'), ('i', 'PRP$'), ('am', 'PRP$'), ('pursuing', 'VB'), ('masters', 'NN'), ('in', 'IN'), ('artificial', 'NN'), ('intelligence', 'NN'), ('and', 'CC'), ('machine', 'NN'), ('learning.', 'NN'), ('i', 'PRP$'), ('love', 'NN'), ('reading', 'VB')]\n"
          ]
        }
      ]
    },
    {
      "cell_type": "markdown",
      "source": [
        "**Built-in**"
      ],
      "metadata": {
        "id": "HKSz8aHtLs9l"
      }
    },
    {
      "cell_type": "code",
      "source": [
        "tokens = word_tokenize(sentence)\n",
        "\n",
        "# Perform POS tagging\n",
        "tagged_words = pos_tag(tokens)\n",
        "\n",
        "# Display the tagged words\n",
        "print(tagged_words)"
      ],
      "metadata": {
        "colab": {
          "base_uri": "https://localhost:8080/"
        },
        "id": "kOxsc3KEJOof",
        "outputId": "de984ebe-5f85-4894-810a-3fe41704bde8"
      },
      "execution_count": null,
      "outputs": [
        {
          "output_type": "stream",
          "name": "stdout",
          "text": [
            "[('My', 'PRP$'), ('name', 'NN'), ('is', 'VBZ'), ('Anushka', 'NNP'), ('Mazumdar', 'NNP'), ('.', '.'), ('I', 'PRP'), ('am', 'VBP'), ('pursuing', 'VBG'), ('Masters', 'NNS'), ('in', 'IN'), ('Artificial', 'NNP'), ('Intelligence', 'NNP'), ('and', 'CC'), ('Machine', 'NNP'), ('Learning', 'NNP'), ('.', '.'), ('I', 'PRP'), ('love', 'VBP'), ('reading', 'VBG')]\n"
          ]
        }
      ]
    },
    {
      "cell_type": "markdown",
      "source": [
        "**6. Write a program to identify the Named Entity Recognition and also execute any of the tool that given in class.**"
      ],
      "metadata": {
        "id": "n5HgWoPTG9EV"
      }
    },
    {
      "cell_type": "markdown",
      "source": [
        "**Built-In**"
      ],
      "metadata": {
        "id": "m8n7OLtQMKOr"
      }
    },
    {
      "cell_type": "code",
      "source": [
        "ne_tags=nltk.pos_tag(tokens)\n",
        "NER=ne_chunk(ne_tags)\n",
        "print(NER)"
      ],
      "metadata": {
        "colab": {
          "base_uri": "https://localhost:8080/"
        },
        "id": "_vRHdfNMLc8v",
        "outputId": "48268f3f-ed71-40fb-f2ab-72aa17540261"
      },
      "execution_count": null,
      "outputs": [
        {
          "output_type": "stream",
          "name": "stdout",
          "text": [
            "(S\n",
            "  My/PRP$\n",
            "  name/NN\n",
            "  is/VBZ\n",
            "  (PERSON Anushka/NNP Mazumdar/NNP)\n",
            "  ./.\n",
            "  I/PRP\n",
            "  am/VBP\n",
            "  pursuing/VBG\n",
            "  Masters/NNS\n",
            "  in/IN\n",
            "  (ORGANIZATION Artificial/NNP Intelligence/NNP)\n",
            "  and/CC\n",
            "  (PERSON Machine/NNP Learning/NNP)\n",
            "  ./.\n",
            "  I/PRP\n",
            "  love/VBP\n",
            "  reading/VBG)\n"
          ]
        }
      ]
    },
    {
      "cell_type": "markdown",
      "source": [
        "**7. Implement the Dependency Parsing and Constituency Parsing using the tool.**"
      ],
      "metadata": {
        "id": "8nEzcOY2G7J0"
      }
    },
    {
      "cell_type": "markdown",
      "source": [
        "**Dependency Parsing**"
      ],
      "metadata": {
        "id": "8H3UZ_DhNASD"
      }
    },
    {
      "cell_type": "code",
      "source": [
        "import spacy\n",
        "nlp=spacy.load('en_core_web_sm')\n",
        "\n",
        "for token in nlp(sentence):\n",
        " print(token.text,'=>',token.dep_,'=>',token.head.text)"
      ],
      "metadata": {
        "colab": {
          "base_uri": "https://localhost:8080/"
        },
        "id": "EmbDXTaZMkfr",
        "outputId": "9dc385d9-5721-42ed-a9d1-036e2ecbb302"
      },
      "execution_count": null,
      "outputs": [
        {
          "output_type": "stream",
          "name": "stdout",
          "text": [
            "My => poss => name\n",
            "name => nsubj => is\n",
            "is => ROOT => is\n",
            "Anushka => compound => Mazumdar\n",
            "Mazumdar => attr => is\n",
            ". => punct => is\n",
            "I => nsubj => pursuing\n",
            "am => aux => pursuing\n",
            "pursuing => ROOT => pursuing\n",
            "Masters => dobj => pursuing\n",
            "in => prep => pursuing\n",
            "Artificial => compound => Intelligence\n",
            "Intelligence => pobj => in\n",
            "and => cc => Intelligence\n",
            "Machine => compound => Learning\n",
            "Learning => conj => Intelligence\n",
            ". => punct => pursuing\n",
            "I => nsubj => love\n",
            "love => ROOT => love\n",
            "reading => xcomp => love\n"
          ]
        }
      ]
    },
    {
      "cell_type": "markdown",
      "source": [
        "![image.png](data:image/png;base64,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)"
      ],
      "metadata": {
        "id": "KKdCEEUZv6qK"
      }
    },
    {
      "cell_type": "markdown",
      "source": [
        "**Constituency Parsing**"
      ],
      "metadata": {
        "id": "0WBASQWuNEgY"
      }
    },
    {
      "cell_type": "code",
      "source": [
        "import stanza\n",
        "nlp = stanza.Pipeline(lang='en', processors='tokenize,pos,constituency')\n",
        "doc = nlp(\"My name is Anushka Mazumdar.I am pursuing Masters in Artificial Intelligence and Machine Learning. I love reading\")\n",
        "for sentence in doc.sentences:\n",
        "    print(sentence.constituency)"
      ],
      "metadata": {
        "colab": {
          "base_uri": "https://localhost:8080/",
          "height": 431,
          "referenced_widgets": [
            "6c71f2b266634313b683ee665862eb71",
            "f150f8d2a83e48f58989b3bbd09d38d4",
            "4cb0a46852944bb3beb2a99ec7d08b64",
            "08612768f4694786bb146e6c2180009a",
            "63fe08f27c7c4dd3aaaf30c385e1cafb",
            "5084e05f24854841a1ca77ae32ec978f",
            "cc4ecee199ad47eeaefb5aa03dc7c58a",
            "a0c538d3dc5e4fbfbb313fcc72cdf72c",
            "57808cd7dd3045fd87b4ad0d9dd6a79d",
            "235c1f8c07d74ebc81d2dbe860ff5a94",
            "0351809ad1084b57be1a4e9ab1ade316"
          ]
        },
        "id": "BKtI84WbNHb_",
        "outputId": "e8dd76e0-9a58-43de-b6c8-317553737b92"
      },
      "execution_count": null,
      "outputs": [
        {
          "output_type": "stream",
          "name": "stderr",
          "text": [
            "INFO:stanza:Checking for updates to resources.json in case models have been updated.  Note: this behavior can be turned off with download_method=None or download_method=DownloadMethod.REUSE_RESOURCES\n"
          ]
        },
        {
          "output_type": "display_data",
          "data": {
            "text/plain": [
              "Downloading https://raw.githubusercontent.com/stanfordnlp/stanza-resources/main/resources_1.8.0.json:   0%|   …"
            ],
            "application/vnd.jupyter.widget-view+json": {
              "version_major": 2,
              "version_minor": 0,
              "model_id": "6c71f2b266634313b683ee665862eb71"
            }
          },
          "metadata": {}
        },
        {
          "output_type": "stream",
          "name": "stderr",
          "text": [
            "INFO:stanza:Downloaded file to /root/stanza_resources/resources.json\n",
            "WARNING:stanza:Language en package default expects mwt, which has been added\n",
            "INFO:stanza:Loading these models for language: en (English):\n",
            "======================================\n",
            "| Processor    | Package             |\n",
            "--------------------------------------\n",
            "| tokenize     | combined            |\n",
            "| mwt          | combined            |\n",
            "| pos          | combined_charlm     |\n",
            "| constituency | ptb3-revised_charlm |\n",
            "======================================\n",
            "\n",
            "INFO:stanza:Using device: cpu\n",
            "INFO:stanza:Loading: tokenize\n",
            "INFO:stanza:Loading: mwt\n",
            "INFO:stanza:Loading: pos\n",
            "INFO:stanza:Loading: constituency\n",
            "INFO:stanza:Done loading processors!\n"
          ]
        },
        {
          "output_type": "stream",
          "name": "stdout",
          "text": [
            "(ROOT (S (NP (PRP$ My) (NN name)) (VP (VBZ is) (NP (NNP Anushka) (NNP Mazumdar))) (. .)))\n",
            "(ROOT (S (NP (PRP I)) (VP (VBP am) (VP (VBG pursuing) (NP (NP (NNPS Masters)) (PP (IN in) (NP (NP (NNP Artificial) (NNP Intelligence)) (CC and) (NP (NNP Machine) (NNP Learning))))))) (. .)))\n",
            "(ROOT (S (NP (PRP I)) (VP (VBP love) (NP (NN reading)))))\n"
          ]
        }
      ]
    },
    {
      "cell_type": "markdown",
      "source": [
        "![image.png](data:image/png;base64,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)"
      ],
      "metadata": {
        "id": "gOsYB9Hbv-Sb"
      }
    }
  ]
}